{
 "cells": [
  {
   "cell_type": "markdown",
   "metadata": {},
   "source": [
    "# Sentiment Analysis Web App\n",
    "\n",
    "_Deep Learning Nanodegree Program | Deployment_\n",
    "\n",
    "---\n",
    "\n",
    "In this notebook we will use Amazon's SageMaker service to construct a random tree model to predict the sentiment of a movie review. In addition, we will deploy this model to an endpoint and construct a very simple web app which will interact with our model's deployed endpoint.\n",
    "\n",
    "## General Outline\n",
    "\n",
    "Typically, when using a notebook instance with SageMaker, you will proceed through the following steps. Of course, not every step will need to be done with each project. Also, there is quite a lot of room for variation in many of the steps, as you will see throughout these lessons.\n",
    "\n",
    "1. Download or otherwise retrieve the data.\n",
    "2. Process / Prepare the data.\n",
    "3. Upload the processed data to S3.\n",
    "4. Train a chosen model.\n",
    "5. Test the trained model (typically using a batch transform job).\n",
    "6. Deploy the trained model.\n",
    "7. Use the deployed model.\n",
    "\n",
    "In this notebook we will progress through each of the steps above. We will also see that the final step, using the deployed model, can be quite challenging."
   ]
  },
  {
   "cell_type": "markdown",
   "metadata": {},
   "source": [
    "## Step 1: Downloading the data\n",
    "\n",
    "The dataset we are going to use is very popular among researchers in Natural Language Processing, usually referred to as the [IMDb dataset](http://ai.stanford.edu/~amaas/data/sentiment/). It consists of movie reviews from the website [imdb.com](http://www.imdb.com/), each labeled as either '**pos**itive', if the reviewer enjoyed the film, or '**neg**ative' otherwise.\n",
    "\n",
    "> Maas, Andrew L., et al. [Learning Word Vectors for Sentiment Analysis](http://ai.stanford.edu/~amaas/data/sentiment/). In _Proceedings of the 49th Annual Meeting of the Association for Computational Linguistics: Human Language Technologies_. Association for Computational Linguistics, 2011.\n",
    "\n",
    "We begin by using some Jupyter Notebook magic to download and extract the dataset."
   ]
  },
  {
   "cell_type": "code",
   "execution_count": 1,
   "metadata": {},
   "outputs": [
    {
     "name": "stdout",
     "output_type": "stream",
     "text": [
      "mkdir: cannot create directory ‘../data’: File exists\n",
      "--2020-02-10 11:24:11--  http://ai.stanford.edu/~amaas/data/sentiment/aclImdb_v1.tar.gz\n",
      "Resolving ai.stanford.edu (ai.stanford.edu)... 171.64.68.10\n",
      "Connecting to ai.stanford.edu (ai.stanford.edu)|171.64.68.10|:80... connected.\n",
      "HTTP request sent, awaiting response... 200 OK\n",
      "Length: 84125825 (80M) [application/x-gzip]\n",
      "Saving to: ‘../data/aclImdb_v1.tar.gz’\n",
      "\n",
      "../data/aclImdb_v1. 100%[===================>]  80.23M  23.7MB/s    in 4.8s    \n",
      "\n",
      "2020-02-10 11:24:16 (16.9 MB/s) - ‘../data/aclImdb_v1.tar.gz’ saved [84125825/84125825]\n",
      "\n"
     ]
    }
   ],
   "source": [
    "%mkdir ../data\n",
    "!wget -O ../data/aclImdb_v1.tar.gz http://ai.stanford.edu/~amaas/data/sentiment/aclImdb_v1.tar.gz\n",
    "!tar -zxf ../data/aclImdb_v1.tar.gz -C ../data"
   ]
  },
  {
   "cell_type": "markdown",
   "metadata": {},
   "source": [
    "## Step 2: Preparing and Processing the data\n",
    "\n",
    "The data we have downloaded is split into various files, each of which contains a single review. It will be much easier going forward if we combine these individual files into two large files, one for training and one for testing."
   ]
  },
  {
   "cell_type": "code",
   "execution_count": 2,
   "metadata": {},
   "outputs": [],
   "source": [
    "import os\n",
    "import glob\n",
    "\n",
    "def read_imdb_data(data_dir='../data/aclImdb'):\n",
    "    data = {}\n",
    "    labels = {}\n",
    "    \n",
    "    for data_type in ['train', 'test']:\n",
    "        data[data_type] = {}\n",
    "        labels[data_type] = {}\n",
    "        \n",
    "        for sentiment in ['pos', 'neg']:\n",
    "            data[data_type][sentiment] = []\n",
    "            labels[data_type][sentiment] = []\n",
    "            \n",
    "            path = os.path.join(data_dir, data_type, sentiment, '*.txt')\n",
    "            files = glob.glob(path)\n",
    "            \n",
    "            for f in files:\n",
    "                with open(f) as review:\n",
    "                    data[data_type][sentiment].append(review.read())\n",
    "                    # Here we represent a positive review by '1' and a negative review by '0'\n",
    "                    labels[data_type][sentiment].append(1 if sentiment == 'pos' else 0)\n",
    "                    \n",
    "            assert len(data[data_type][sentiment]) == len(labels[data_type][sentiment]), \\\n",
    "                    \"{}/{} data size does not match labels size\".format(data_type, sentiment)\n",
    "                \n",
    "    return data, labels"
   ]
  },
  {
   "cell_type": "code",
   "execution_count": 3,
   "metadata": {},
   "outputs": [
    {
     "name": "stdout",
     "output_type": "stream",
     "text": [
      "IMDB reviews: train = 12500 pos / 12500 neg, test = 12500 pos / 12500 neg\n"
     ]
    }
   ],
   "source": [
    "data, labels = read_imdb_data()\n",
    "print(\"IMDB reviews: train = {} pos / {} neg, test = {} pos / {} neg\".format(\n",
    "            len(data['train']['pos']), len(data['train']['neg']),\n",
    "            len(data['test']['pos']), len(data['test']['neg'])))"
   ]
  },
  {
   "cell_type": "code",
   "execution_count": 4,
   "metadata": {},
   "outputs": [],
   "source": [
    "from sklearn.utils import shuffle\n",
    "\n",
    "def prepare_imdb_data(data, labels):\n",
    "    \"\"\"Prepare training and test sets from IMDb movie reviews.\"\"\"\n",
    "    \n",
    "    #Combine positive and negative reviews and labels\n",
    "    data_train = data['train']['pos'] + data['train']['neg']\n",
    "    data_test = data['test']['pos'] + data['test']['neg']\n",
    "    labels_train = labels['train']['pos'] + labels['train']['neg']\n",
    "    labels_test = labels['test']['pos'] + labels['test']['neg']\n",
    "    \n",
    "    #Shuffle reviews and corresponding labels within training and test sets\n",
    "    data_train, labels_train = shuffle(data_train, labels_train)\n",
    "    data_test, labels_test = shuffle(data_test, labels_test)\n",
    "    \n",
    "    # Return a unified training data, test data, training labels, test labets\n",
    "    return data_train, data_test, labels_train, labels_test"
   ]
  },
  {
   "cell_type": "code",
   "execution_count": 5,
   "metadata": {},
   "outputs": [
    {
     "name": "stdout",
     "output_type": "stream",
     "text": [
      "IMDb reviews (combined): train = 25000, test = 25000\n"
     ]
    }
   ],
   "source": [
    "train_X, test_X, train_y, test_y = prepare_imdb_data(data, labels)\n",
    "print(\"IMDb reviews (combined): train = {}, test = {}\".format(len(train_X), len(test_X)))"
   ]
  },
  {
   "cell_type": "code",
   "execution_count": 6,
   "metadata": {},
   "outputs": [
    {
     "data": {
      "text/plain": [
       "'Watching Floored by Love one thought comes almost immediately to mind, \"My god this looks like a really bad sitcom.\" Sure enough, it turns out that FBL is a pilot for a series that may start this fall in Canada, poor poor Canada.<br /><br />Cara (Shirley Ng) and Janet (Natalie Sky) are a lesbian couple living in Vancouver. Janet has come out to her mother already but Cara\\'s parents are still in the dark about their daughter\\'s homosexuality. The pressure is on to out herself though when the parents come from Malaysia for her younger brother\\'s wedding. That same week British Columbia legalizes gay marriage. With Janet wanting to wed, Cara has to decide whether or not to tell her conservative Chinese parents that\\'s she\\'s gay. Will she? Would she? Could she? Cara\\'s situation is contrasted with that of Jesse (Trent Millar). Jesse has just declared his homosexuality to the world at the age of fourteen. His biological father Daniel (Andrew McIlroy) is coming for a visit soon. His stepfather Norman (Michael Robinson) fears that his chances of finally being fully accepted by Jesse are harmed by the fact that Daniel is gay and he is not. Will dialing 1-800-Makeover help?<br /><br />The dialogue and delivery come straight out of a lesser 1950\\'s program along with the overdone physical emoting. The Full House-style melodrama is enough to make you wince from time to time and the attempts at comedy largely fail. McIlroy, Millar & Sky are the only performers that approach competency in this miscalculation but given the material they have to work with, it\\'s no surprise that none impress. It\\'s possible that the campiness was purposeful. It often seems like there is no way the performers are really that bad, that they must be trying to mimic the inferior sitcoms of days yore. If this is indeed the case than this review should probably be rewritten. The rewrite would focus on Floored by Love being a poor and ineffective send-up of old sitcoms.<br /><br />Writer/director Desiree Lim has put together a by-the-numbers bland-fest that\\'s entirely forgettable. There was a time when merely having an openly homosexual protagonist was enough to make a mark on the screen. That time is gone. In this day we need quality as well.'"
      ]
     },
     "execution_count": 6,
     "metadata": {},
     "output_type": "execute_result"
    }
   ],
   "source": [
    "train_X[100]"
   ]
  },
  {
   "cell_type": "markdown",
   "metadata": {},
   "source": [
    "## Processing the data\n",
    "\n",
    "Now that we have our training and testing datasets merged and ready to use, we need to start processing the raw data into something that will be useable by our machine learning algorithm. To begin with, we remove any html formatting and any non-alpha numeric characters that may appear in the reviews. We will do this in a very simplistic way using Python's regular expression module. We will discuss the reason for this rather simplistic pre-processing later on."
   ]
  },
  {
   "cell_type": "code",
   "execution_count": 7,
   "metadata": {},
   "outputs": [],
   "source": [
    "import re\n",
    "\n",
    "REPLACE_NO_SPACE = re.compile(\"(\\.)|(\\;)|(\\:)|(\\!)|(\\')|(\\?)|(\\,)|(\\\")|(\\()|(\\))|(\\[)|(\\])\")\n",
    "REPLACE_WITH_SPACE = re.compile(\"(<br\\s*/><br\\s*/>)|(\\-)|(\\/)\")\n",
    "\n",
    "def review_to_words(review):\n",
    "    words = REPLACE_NO_SPACE.sub(\"\", review.lower())\n",
    "    words = REPLACE_WITH_SPACE.sub(\" \", words)\n",
    "    return words"
   ]
  },
  {
   "cell_type": "code",
   "execution_count": 8,
   "metadata": {},
   "outputs": [
    {
     "data": {
      "text/plain": [
       "'watching floored by love one thought comes almost immediately to mind my god this looks like a really bad sitcom sure enough it turns out that fbl is a pilot for a series that may start this fall in canada poor poor canada cara shirley ng and janet natalie sky are a lesbian couple living in vancouver janet has come out to her mother already but caras parents are still in the dark about their daughters homosexuality the pressure is on to out herself though when the parents come from malaysia for her younger brothers wedding that same week british columbia legalizes gay marriage with janet wanting to wed cara has to decide whether or not to tell her conservative chinese parents thats shes gay will she would she could she caras situation is contrasted with that of jesse trent millar jesse has just declared his homosexuality to the world at the age of fourteen his biological father daniel andrew mcilroy is coming for a visit soon his stepfather norman michael robinson fears that his chances of finally being fully accepted by jesse are harmed by the fact that daniel is gay and he is not will dialing 1 800 makeover help the dialogue and delivery come straight out of a lesser 1950s program along with the overdone physical emoting the full house style melodrama is enough to make you wince from time to time and the attempts at comedy largely fail mcilroy millar & sky are the only performers that approach competency in this miscalculation but given the material they have to work with its no surprise that none impress its possible that the campiness was purposeful it often seems like there is no way the performers are really that bad that they must be trying to mimic the inferior sitcoms of days yore if this is indeed the case than this review should probably be rewritten the rewrite would focus on floored by love being a poor and ineffective send up of old sitcoms writer director desiree lim has put together a by the numbers bland fest thats entirely forgettable there was a time when merely having an openly homosexual protagonist was enough to make a mark on the screen that time is gone in this day we need quality as well'"
      ]
     },
     "execution_count": 8,
     "metadata": {},
     "output_type": "execute_result"
    }
   ],
   "source": [
    "review_to_words(train_X[100])"
   ]
  },
  {
   "cell_type": "code",
   "execution_count": 9,
   "metadata": {},
   "outputs": [],
   "source": [
    "import pickle\n",
    "\n",
    "cache_dir = os.path.join(\"../cache\", \"sentiment_web_app\")  # where to store cache files\n",
    "os.makedirs(cache_dir, exist_ok=True)  # ensure cache directory exists\n",
    "\n",
    "def preprocess_data(data_train, data_test, labels_train, labels_test,\n",
    "                    cache_dir=cache_dir, cache_file=\"preprocessed_data.pkl\"):\n",
    "    \"\"\"Convert each review to words; read from cache if available.\"\"\"\n",
    "\n",
    "    # If cache_file is not None, try to read from it first\n",
    "    cache_data = None\n",
    "    if cache_file is not None:\n",
    "        try:\n",
    "            with open(os.path.join(cache_dir, cache_file), \"rb\") as f:\n",
    "                cache_data = pickle.load(f)\n",
    "            print(\"Read preprocessed data from cache file:\", cache_file)\n",
    "        except:\n",
    "            pass  # unable to read from cache, but that's okay\n",
    "    \n",
    "    # If cache is missing, then do the heavy lifting\n",
    "    if cache_data is None:\n",
    "        # Preprocess training and test data to obtain words for each review\n",
    "        #words_train = list(map(review_to_words, data_train))\n",
    "        #words_test = list(map(review_to_words, data_test))\n",
    "        words_train = [review_to_words(review) for review in data_train]\n",
    "        words_test = [review_to_words(review) for review in data_test]\n",
    "        \n",
    "        # Write to cache file for future runs\n",
    "        if cache_file is not None:\n",
    "            cache_data = dict(words_train=words_train, words_test=words_test,\n",
    "                              labels_train=labels_train, labels_test=labels_test)\n",
    "            with open(os.path.join(cache_dir, cache_file), \"wb\") as f:\n",
    "                pickle.dump(cache_data, f)\n",
    "            print(\"Wrote preprocessed data to cache file:\", cache_file)\n",
    "    else:\n",
    "        # Unpack data loaded from cache file\n",
    "        words_train, words_test, labels_train, labels_test = (cache_data['words_train'],\n",
    "                cache_data['words_test'], cache_data['labels_train'], cache_data['labels_test'])\n",
    "    \n",
    "    return words_train, words_test, labels_train, labels_test"
   ]
  },
  {
   "cell_type": "code",
   "execution_count": 10,
   "metadata": {},
   "outputs": [
    {
     "name": "stdout",
     "output_type": "stream",
     "text": [
      "Wrote preprocessed data to cache file: preprocessed_data.pkl\n"
     ]
    }
   ],
   "source": [
    "# Preprocess data\n",
    "train_X, test_X, train_y, test_y = preprocess_data(train_X, test_X, train_y, test_y)"
   ]
  },
  {
   "cell_type": "markdown",
   "metadata": {},
   "source": [
    "### Extract Bag-of-Words features\n",
    "\n",
    "For the model we will be implementing, rather than using the reviews directly, we are going to transform each review into a Bag-of-Words feature representation. Keep in mind that 'in the wild' we will only have access to the training set so our transformer can only use the training set to construct a representation."
   ]
  },
  {
   "cell_type": "code",
   "execution_count": 43,
   "metadata": {},
   "outputs": [],
   "source": [
    "import numpy as np\n",
    "from sklearn.feature_extraction.text import CountVectorizer\n",
    "from sklearn.externals import joblib\n",
    "# joblib is an enhanced version of pickle that is more efficient for storing NumPy arrays\n",
    "\n",
    "def extract_BoW_features(words_train, words_test, vocabulary_size=5000,\n",
    "                         cache_dir=cache_dir, cache_file=\"bow_features.pkl\"):\n",
    "    \"\"\"Extract Bag-of-Words for a given set of documents, already preprocessed into words.\"\"\"\n",
    "    \n",
    "    # If cache_file is not None, try to read from it first\n",
    "    cache_data = None\n",
    "    if cache_file is not None:\n",
    "        try:\n",
    "            with open(os.path.join(cache_dir, cache_file), \"rb\") as f:\n",
    "                cache_data = joblib.load(f)\n",
    "            print(\"Read features from cache file:\", cache_file)\n",
    "        except:\n",
    "            pass  # unable to read from cache, but that's okay\n",
    "    \n",
    "    # If cache is missing, then do the heavy lifting\n",
    "    if cache_data is None:\n",
    "        # Fit a vectorizer to training documents and use it to transform them\n",
    "        # NOTE: Training documents have already been preprocessed and tokenized into words;\n",
    "        #       pass in dummy functions to skip those steps, e.g. preprocessor=lambda x: x\n",
    "        vectorizer = CountVectorizer(max_features=vocabulary_size)\n",
    "        features_train = vectorizer.fit_transform(words_train).toarray()\n",
    "\n",
    "        # Apply the same vectorizer to transform the test documents (ignore unknown words)\n",
    "        features_test = vectorizer.transform(words_test).toarray()\n",
    "        \n",
    "        # NOTE: Remember to convert the features using .toarray() for a compact representation\n",
    "        \n",
    "        # Write to cache file for future runs (store vocabulary as well)\n",
    "        if cache_file is not None:\n",
    "            vocabulary = vectorizer.vocabulary_\n",
    "            cache_data = dict(features_train=features_train, features_test=features_test,\n",
    "                             vocabulary=vocabulary)\n",
    "            with open(os.path.join(cache_dir, cache_file), \"wb\") as f:\n",
    "                joblib.dump(cache_data, f)\n",
    "            print(\"Wrote features to cache file:\", cache_file)\n",
    "    else:\n",
    "        # Unpack data loaded from cache file\n",
    "        features_train, features_test, vocabulary = (cache_data['features_train'],\n",
    "                cache_data['features_test'], cache_data['vocabulary'])\n",
    "    \n",
    "    # Return both the extracted features as well as the vocabulary\n",
    "    return features_train, features_test, vocabulary"
   ]
  },
  {
   "cell_type": "code",
   "execution_count": 44,
   "metadata": {},
   "outputs": [
    {
     "name": "stdout",
     "output_type": "stream",
     "text": [
      "Read features from cache file: bow_features.pkl\n"
     ]
    }
   ],
   "source": [
    "# Extract Bag of Words features for both training and test datasets\n",
    "train_X, test_X, vocabulary = extract_BoW_features(train_X, test_X)"
   ]
  },
  {
   "cell_type": "code",
   "execution_count": 45,
   "metadata": {},
   "outputs": [
    {
     "name": "stdout",
     "output_type": "stream",
     "text": [
      "{'like': 2599, 'talk': 4358, 'radio': 3504, 'the': 4426, 'is': 2360, 'actually': 109, 'kinda': 2477, 'predictable': 3367, 'because': 432, 'we': 4823, 'know': 2489, 'truth': 4599, 'of': 3083, 'what': 4858, 'happened': 2027, 'going': 1931, 'in': 2257, 'lets': 2580, 'face': 1616, 'it': 2366, 'genre': 1888, 'and': 226, 'basic': 406, 'set': 3898, 'up': 4683, 'thats': 4425, 'not': 3040, 'necessarily': 2983, 'bad': 382, 'thing': 4450, 'this': 4457, 'case': 707, 'means': 2783, 'essence': 1521, 'that': 4424, 'filmmakers': 1720, 'dont': 1324, 'punk': 3468, 'out': 3141, 'end': 1468, 'way': 4820, 'they': 4442, 'say': 3799, 'an': 223, 'american': 213, 'version': 4720, 'story': 4207, 'moves': 2925, 'toward': 4539, 'its': 2370, 'conclusion': 936, 'but': 636, 'so': 4046, 'beautifully': 429, 'crafted': 1029, 'on': 3105, 'every': 1539, 'level': 2584, 'one': 3107, 'can': 665, 'enjoy': 1484, 'ride': 3692, 'might': 2835, 'familiar': 1643, 'cruise': 1071, 'along': 195, 'well': 4843, 'stretch': 4221, 'very': 4723, 'road': 3709, 'reminds': 3620, 'me': 2778, 'spooky': 4128, 'short': 3946, 'flop': 1760, 'at': 331, 'times': 4497, 'almost': 193, 'worth': 4953, 'nice': 3008, 'long': 2644, 'look': 2646, 'when': 4862, 'plague': 3285, 'breaks': 571, 'new': 3003, 'richard': 3686, 'widmark': 4882, 'to': 4507, 'rescue': 3643, 'panic': 3181, 'streets': 4217, 'lesser': 2576, 'films': 1721, 'great': 1964, 'keeps': 2451, 'pace': 3161, 'there': 4438, 'are': 285, 'lots': 2662, 'marvelous': 2750, 'touches': 4535, 'scenes': 3811, 'between': 475, 'barbara': 397, 'who': 4871, 'plays': 3301, 'his': 2118, 'wife': 4884, 'scene': 3809, 'police': 3322, 'station': 4164, 'show': 3953, 'family': 1645, 'life': 2592, 'work': 4940, 'relationships': 3598, 'average': 362, 'which': 4867, 'sharp': 3922, 'contrast': 975, 'lives': 2628, 'low': 2676, 'portrayed': 3342, 'by': 642, 'menacing': 2807, 'jack': 2373, 'weak': 4824, 'yes': 4982, 'man': 2721, 'zero': 4996, 'tommy': 4516, 'cook': 988, 'louis': 2665, 'charles': 764, 'also': 199, 'some': 4061, 'interesting': 2325, 'visuals': 4759, 'has': 2043, 'couple': 1016, 'with': 4911, 'actors': 104, 'seem': 3861, 'come': 886, 'acting': 99, 'dialogue': 1234, 'if': 2222, 'isnt': 2362, 'quite': 3495, 'direction': 1261, 'performances': 3229, 'few': 1700, 'questionable': 3488, 'aspects': 322, 'will': 4886, 'be': 418, 'viewer': 4738, 'easily': 1406, 'aside': 315, 'viewing': 4740, 'was': 4805, 'masterful': 2758, 'director': 1264, 'just': 2437, 'saw': 3798, '2006': 36, 'international': 2326, 'film': 1716, 'festival': 1697, 'synopsis': 4344, 'guide': 1993, 'sounded': 4082, 'pretty': 3384, 'good': 1937, 'decided': 1149, 'check': 777, 'im': 2232, 'sorry': 4076, 'disappointed': 1273, 'besides': 468, 'being': 448, 'poorly': 3329, 'written': 4972, 'boring': 543, 'wont': 4932, 'take': 4349, 'away': 369, 'from': 1840, 'as': 311, 'much': 2934, 'could': 1007, 'do': 1302, 'script': 3834, 'first': 1736, 'bite': 489, 'cliché': 844, 'without': 4913, 'ironic': 2355, 'over': 3148, 'top': 4525, 'funny': 1852, 'movie': 2926, 'would': 4957, 'have': 2052, 'been': 438, 'better': 472, 'had': 2003, 'hunt': 2198, 'went': 4847, 'campy': 664, 'horror': 2168, 'feel': 1684, 'instead': 2307, 'he': 2056, 'took': 4523, 'himself': 2111, 'seriously': 3892, 'cant': 671, 'recommend': 3571, 'felt': 1692, 'too': 4522, 'all': 187, 'plain': 3286, 'believe': 454, 'or': 3124, 'massacre': 2754, 'gave': 1875, 'full': 1846, 'blown': 516, 'right': 3696, 'ive': 2372, 'got': 1944, 'group': 1980, 'kids': 2467, 'playing': 3300, 'around': 297, 'somehow': 4063, 'made': 2697, 'deal': 1135, 'devil': 1228, 'distribution': 1298, 'beyond': 476, 'my': 2951, 'how': 2181, 'anyone': 259, 'intelligence': 2313, 'load': 2631, 'only': 3110, 'reason': 3557, 'managed': 2723, 'sit': 4003, 'through': 4477, 'whole': 4873, 'several': 3905, 'suicide': 4283, 'attempts': 343, 'off': 3084, 'boredom': 542, 'second': 3846, 'guess': 1989, 'wanted': 4789, 'further': 1853, 'explore': 1594, 'newly': 3004, 'discovered': 1280, 'type': 4621, 'hate': 2046, 'shot': 3949, 'video': 4733, 'comedy': 890, 'about': 67, 'three': 4469, 'left': 2561, 'for': 1784, 'weekend': 4838, 'care': 684, 'their': 4431, 'elderly': 1440, 'aunt': 355, 'kid': 2464, 'ends': 1474, 'old': 3100, 'lady': 2507, 'accidentally': 85, 'rambo': 3511, 'hunting': 2201, 'knife': 2487, 'then': 4436, 'get': 1899, 'various': 4715, 'apparently': 270, 'she': 3923, 'didnt': 1242, 'single': 3996, 'drop': 1369, 'blood': 512, 'her': 2085, 'body': 527, 'into': 2332, 'rented': 3628, 'wood': 4933, 'son': 4070, 'stops': 4203, 'looking': 2648, 'mom': 2885, 'recall': 3562, 'ever': 1538, 'seeing': 3857, 'cast': 710, 'annoying': 249, 'caused': 724, 'blond': 510, 'chicks': 787, 'voice': 4761, 'pain': 3170, 'constantly': 958, 'were': 4848, 'downright': 1337, 'atrocious': 335, 'literally': 2622, 'screaming': 3827, 'phony': 3256, 'sounding': 4083, 'dialog': 1232, 'jokes': 2415, 'now': 3054, 'usually': 4700, 'appreciate': 279, 'independent': 2272, 'efforts': 1433, 'those': 4460, 'realize': 3552, 'people': 3221, 'other': 3135, 'than': 4420, 'relatives': 3601, 'watching': 4815, 'need': 2987, 'see': 3855, 'minute': 2858, 'car': 680, 'pulling': 3463, 'drive': 1363, 'painfully': 3172, 'montage': 2894, 'ridiculous': 3693, 'music': 2946, 'plus': 3311, 'why': 4878, 'hell': 2077, 'does': 1308, 'box': 555, 'bloody': 513, 'piano': 3264, 'no': 3020, 'killed': 2469, 'near': 2979, 'unless': 4669, 'you': 4986, 'crap': 1031, 'advise': 134, 'half': 2007, 'brain': 562, 'avoid': 363, 'trash': 4565, 'shower': 3957, 'advance': 127, 'modern': 2882, 'world': 4946, 'rather': 3528, 'traditional': 4550, 'more': 2904, 'human': 2188, 'ways': 4822, 'forced': 1787, 'choose': 799, 'successful': 4266, 'career': 686, 'business': 633, 'big': 478, 'city': 825, 'retarded': 3663, 'young': 4989, 'brother': 598, 'doubt': 1332, 'want': 4788, 'should': 3951, 'china': 795, 'versus': 4722, 'ancient': 225, 'public': 3460, 'fights': 1710, 'men': 2805, 'women': 4923, 'longer': 2645, 'needed': 2988, 'country': 1014, 'two': 4620, 'said': 3774, 'though': 4461, 'them': 4432, 'killing': 2472, 'tender': 4401, 'moving': 2928, 'moments': 2887, 'bitter': 491, 'sweet': 4336, 'sensitive': 3879, 'ones': 3108, 'cry': 1073, 'laugh': 2529, 'equally': 1510, 'enormous': 1490, 'especially': 1520, 'performs': 3234, 'role': 3726, 'boy': 557, 'makes': 2716, 'job': 2405, 'easy': 1410, 'simple': 3983, 'letting': 2583, 'flow': 1762, 'itself': 2371, 'rate': 3526, '10': 0, 'seen': 3865, 'years': 4979, 'ago': 154, 'after': 143, 'watch': 4811, 'sequels': 3886, 'really': 3556, 'best': 469, 'most': 2909, 'popular': 3333, 'already': 197, 'making': 2718, 'pig': 3274, 'these': 4441, 'guys': 2001, 'did': 1241, 'excellent': 1555, 'special': 4097, 'effects': 1431, 'your': 4991, 'chance': 747, 'brilliant': 583, 'russian': 3762, 'system': 4345, 'winning': 4898, 'contract': 973, 'bridge': 578, 'him': 2110, 'beautiful': 428, 'grand': 1953, 'america': 212, 'another': 250, 'silly': 3976, 'soap': 4047, 'opera': 3116, 'fine': 1729, 'production': 3419, 'values': 4710, 'status': 4165, 'enjoyable': 1485, 'little': 2624, 'unexpected': 4650, 'thrown': 4481, 'keep': 2449, 'viewers': 4739, 'attention': 345, 'engaged': 1480, 'introduced': 2337, 'faces': 1618, 'cards': 683, 'introduction': 2339, 'plot': 3309, 'bit': 488, 'wide': 4880, 'variety': 4714, 'different': 1248, 'kinds': 2478, 'americans': 214, 'shown': 3959, 'listening': 2620, 'broadcast': 591, 'game': 1864, 'paul': 3214, 'sophisticated': 4075, 'miss': 2866, 'loving': 2675, 'even': 1533, 'fun': 1848, 'behavior': 446, 'always': 203, 'believable': 453, 'compelling': 916, 'frank': 1821, 'gives': 1914, 'performance': 3228, 'ghost': 1902, 'writer': 4968, 'delightful': 1168, 'persona': 3239, 'small': 4033, 'pal': 3177, 'fast': 1661, 'talking': 4360, 'wonderful': 4928, 'expert': 1585, 'recognize': 3569, 'robinson': 3716, 'emma': 1457, 'sister': 4001, 'reporter': 3636, 'owner': 3159, 'lane': 2515, 'jimmy': 2403, 'final': 1722, 'takes': 4351, 'advantage': 129, 'across': 96, 'since': 3990, 'development': 1225, 'knowledge': 2491, 'attempt': 340, 'explain': 1586, 'anything': 260, 'cute': 1090, 'animated': 241, 'features': 1680, 'comic': 893, 'betty': 474, 'henry': 2084, 'slightly': 4029, 'comics': 895, 'never': 3001, 'speaks': 4096, 'here': 2086, 'speak': 4094, 'wants': 4791, 'pet': 3246, 'store': 4204, 'mind': 2849, 'hilarious': 2106, 'sings': 3997, 'song': 4071, 'gets': 1900, 'battle': 414, 'birds': 485, 'monkey': 2890, 'everything': 1544, 'works': 4945, 'wow': 4962, 'waste': 4808, 'talent': 4354, 'husband': 2204, 'sat': 3786, 'both': 547, 'thinking': 4453, 'actresses': 106, 'wasted': 4809, 'time': 4495, 'characters': 760, 'pacing': 3163, 'make': 2713, 'hours': 2177, 'couldnt': 1008, 'cat': 713, 'appealing': 272, 'stayed': 4167, 'buddy': 609, 'wishing': 4907, 'hit': 2122, 'miserable': 2863, 'entertaining': 1499, 'scenery': 3810, 'costumes': 1006, 'alive': 186, 'seems': 3864, 'recent': 3566, 'school': 3813, 'reaching': 3539, 'heights': 2073, 'general': 1880, 'think': 4452, 'wedding': 4836, 'proves': 3447, 'dead': 1132, 'wrong': 4973, 'completely': 922, 'overrated': 3156, 'far': 1653, 'imdb': 2240, 'commented': 900, 'found': 1811, 'derek': 1192, 'wannabe': 4787, 'black': 493, 'guy': 2000, 'wed': 4835, 'heard': 2062, 'before': 440, 'decent': 1147, 'complete': 921, 'balls': 390, 'supposed': 4306, 'identity': 2217, 'tongue': 4518, 'cheek': 779, 'manner': 2729, 'ending': 1471, 'resolution': 3649, 'player': 3298, 'messed': 2821, 'white': 4870, 'comes': 891, 'turn': 4605, 'town': 4541, 'maybe': 2776, 'start': 4156, 'relationship': 3597, 'last': 2521, 'position': 3345, 'understand': 4643, 'disappointing': 1274, 'expecting': 1578, 'ended': 1470, 'paying': 3217, 'cinema': 816, 'lame': 2510, 'particularly': 3195, 'girlfriend': 1910, 'appalling': 268, 'honestly': 2147, 'wouldve': 4959, 'happy': 2032, 'hands': 2020, 'copies': 992, 'save': 3794, 'myself': 2953, '15': 7, 'ticket': 4487, 'price': 3389, 'step': 4175, 'behind': 447, 'course': 1019, 'superior': 4300, 'birth': 486, 'hope': 2155, 'future': 1856, 'learn': 2550, 'reflect': 3584, 'something': 4066, 'meaningful': 2781, 'done': 1322, 'comedic': 888, 'fashion': 1659, 'disneys': 1290, 'cinderella': 815, 'humor': 2192, 'suspense': 4330, 'while': 4868, 'tales': 4357, 'essential': 1522, 'charm': 767, 'artists': 309, 'provide': 3448, 'fairy': 1632, 'tale': 4353, 'atmosphere': 333, 'highlight': 2103, 'captivating': 675, 'where': 4864, 'coach': 868, 'gorgeous': 1942, 'david': 1124, 'al': 170, 'hoffman': 2128, 'jerry': 2396, 'lovely': 2671, 'songs': 4072, 'dream': 1354, 'wish': 4904, 'heart': 2064, 'scenario': 3808, 'provides': 3450, 'such': 4268, 'thrilling': 4474, 'melodrama': 2797, 'concerns': 934, 'heroine': 2091, 'animal': 239, 'friends': 1837, 'wicked': 4879, 'dreadful': 1353, 'present': 3374, 'menace': 2806, 'dreams': 1355, 'strong': 4229, 'conflict': 939, 'holds': 2131, 'interest': 2323, 'however': 2183, 'nicely': 3009, 'musical': 2947, 'numbers': 3061, 'segments': 3868, 'reveal': 3670, 'personalities': 3241, 'overall': 3150, 'entertainment': 1500, 'held': 2074, 'remarkably': 3614, 'century': 736, 'huge': 2185, 'star': 4150, 'trek': 4578, 'fan': 1648, 'forward': 1808, 'intrigued': 2334, 'pre': 3365, 'hype': 2207, 'enterprise': 1495, 'rough': 3741, 'technology': 4385, 'compared': 912, 'used': 4693, 'pilot': 3276, 'convoluted': 987, 'confusing': 942, 'admit': 122, 'character': 758, 'humans': 2190, 'species': 4098, 'ready': 3546, 'babe': 375, 'incredible': 2269, 'hooked': 2153, 'series': 3890, 'snl': 4044, 'hes': 2093, 'movies': 2927, 'fill': 1714, '90': 60, 'minutes': 2859, 'youve': 4995, 'trailer': 4554, 'largely': 2518, 'tim': 4494, 'doesnt': 1309, 'many': 2732, 'high': 2100, 'points': 3319, 'part': 3193, 'may': 2775, 'funniest': 1851, 'shame': 3918, 'real': 3547, 'reasons': 3560, 'tell': 4395, 'criminal': 1057, 'professor': 3422, 'cop': 991, 'tells': 4397, 'turns': 4609, 'thus': 4486, 'stupid': 4247, 'down': 1335, 'race': 3499, 'pay': 3216, 'racist': 3503, 'played': 3297, 'blacks': 494, 'shouldnt': 3952, 'any': 256, 'problems': 3409, 'enjoying': 1487, 'recommended': 3572, 'everyone': 1542, 'go': 1924, 'animals': 240, 'heads': 2059, 'dogs': 1311, 'somewhat': 4068, 'normal': 3033, 'footage': 1782, 'pass': 3201, 'tries': 4585, 'shock': 3938, 'sure': 4308, 'beginning': 443, 'fake': 1635, 'enough': 1491, 'kind': 2476, 'allowed': 190, 'gore': 1941, 'large': 2517, 'warning': 4800, 'put': 3480, 'types': 4622, 'garbage': 1870, 'surprised': 4313, 'hardcore': 2034, 'turned': 4606, 'stomach': 4196, 'entire': 1502, 'crew': 1053, 'our': 3139, 'local': 2634, 'often': 3095, 'thought': 4462, 'source': 4086, 'began': 441, 'head': 2057, 'shake': 3914, 'superb': 4296, 'study': 4242, 'extremely': 1610, 'scary': 3807, 'slight': 4027, 'embarrassment': 1455, 'ran': 3513, 'someone': 4064, 'knew': 2486, 'gone': 1935, 'whom': 4875, 'day': 1129, 'halfway': 2008, 'id': 2212, 'likely': 2601, 'send': 3875, 'twist': 4617, 'ken': 2453, 'things': 4451, 'finished': 1733, 'hence': 2083, 'search': 3841, 'loss': 2659, 'france': 1816, 'relation': 3595, 'dog': 1310, 'woman': 4921, 'stuff': 4243, 'awake': 365, 'barely': 399, 'details': 1219, 'directors': 1266, 'treatment': 4574, 'write': 4967, 'memory': 2804, 'whose': 4877, 'dvd': 1391, 'hand': 2015, 'le': 2544, 'de': 1131, 'la': 2500, 'examples': 1554, 'quickly': 3491, 'still': 4188, 'else': 1448, 'sort': 4077, 'dark': 1115, 'side': 3965, 'superman': 4301, 'super': 4295, 'historical': 2119, 'plausible': 3295, 'relatively': 3600, 'soft': 4051, 'spoken': 4126, 'driven': 1365, 'patient': 3211, 'among': 217, 'us': 4690, 'once': 3106, 'visually': 4758, 'mean': 2779, 'image': 2233, 'frankenstein': 1822, 'monster': 2892, 'mad': 2696, 'doctor': 1304, 'creation': 1040, 'actual': 108, 'doctors': 1305, 'possible': 3350, 'force': 1786, 'finally': 1724, 'suggest': 4280, 'third': 4455, 'less': 2575, 'fellow': 1691, 'cameras': 660, 'eye': 1611, 'looks': 2649, 'goes': 1930, 'mine': 2853, 'tend': 4400, 'trust': 4598, 'snow': 4045, 'forest': 1791, 'darkness': 1117, 'known': 2492, 'south': 4087, 'entry': 1504, 'finish': 1732, 'comfortable': 892, 'sequence': 3887, 'places': 3284, 'allows': 192, 'whether': 4866, 'weve': 4856, 'reality': 3551, 'massive': 2756, 'weight': 4840, 'thin': 4449, 'frame': 1815, 'sounds': 4084, 'air': 164, 'bright': 581, 'sun': 4292, 'trip': 4588, 'despite': 1211, 'personal': 3240, 'power': 3359, 'failure': 1629, 'matter': 2769, 'alone': 194, 'hasnt': 2044, 'twice': 4613, 'tragedy': 4551, 'remember': 3616, 'leave': 2555, 'perhaps': 3235, 'folks': 1771, 'idea': 2213, 'allowing': 191, 'happen': 2026, 'own': 3158, 'description': 1197, 'others': 3136, 'approach': 282, 'deep': 1154, 'themselves': 4435, 'exists': 1573, 'contact': 961, 'suppose': 4305, 'am': 204, 'days': 1130, 'count': 1010, 'camp': 662, 'latter': 2528, 'indeed': 2271, 'journey': 2421, 'rich': 3685, 'portrayal': 3341, 'distance': 1294, 'must': 2950, 'travel': 4567, 'circle': 821, 'mr': 2929, 'presentation': 3375, 'straight': 4210, 'words': 4938, 'express': 1600, 'balance': 387, 'sadness': 3770, 'wise': 4903, 'innocence': 2293, 'knowing': 2490, 'coming': 896, 'terms': 4406, 'seat': 3845, 'opportunity': 3121, 'spend': 4105, 'brought': 600, 'absolute': 71, 'humanity': 2189, 'brutal': 603, 'honesty': 2148, 'given': 1913, 'credit': 1049, 'lynch': 2691, 'courage': 1018, 'showed': 3956, 'develop': 1222, 'slowly': 4032, 'nonetheless': 3029, 'areas': 287, 'expression': 1602, 'money': 2888, 'hearts': 2066, 'adventure': 130, 'rushed': 3760, 'understood': 4647, 'simply': 3986, 'telling': 4396, 'task': 4368, 'youd': 4987, 'experience': 1580, 'introduce': 2336, 'precious': 3366, 'yourself': 4993, 'worse': 4951, 'spending': 4106, 'giving': 1915, 'next': 3007, 'night': 3013, 'episode': 1507, 'seasons': 3844, 'least': 2554, 'rob': 3710, 'john': 2409, 'date': 1118, 'included': 2262, 'mummy': 2937, 'give': 1912, 'provoking': 3452, 'season': 3843, 'die': 1243, 'treated': 4573, 'cliff': 847, 'having': 2054, 'conversation': 980, 'caught': 722, 'cheating': 776, 'desperately': 1209, 'trying': 4601, 'win': 4892, 'back': 378, 'find': 1726, 'accident': 84, 'catches': 715, 'fire': 1734, 'onto': 3111, 'hospital': 2172, 'decide': 1148, 'live': 2625, 'state': 4160, 'skin': 4015, 'theres': 4440, 'effect': 1428, 'walking': 4779, 'causes': 725, 'trouble': 4592, 'sorts': 4078, 'certainly': 738, 'ranks': 3519, 'episodes': 1508, 'gruesome': 1986, 'threw': 4470, 'twists': 4619, 'touch': 4533, 'living': 2629, 'forever': 1792, 'original': 3129, 'jason': 2383, 'scott': 3824, 'lee': 2559, 'vampire': 4711, 'hunter': 2199, 'dragon': 1344, 'bruce': 602, 'london': 2641, 'luke': 2687, 'helps': 2082, 'loves': 2674, 'steal': 4170, 'diane': 1238, 'steals': 4172, 'order': 3126, 'finds': 1728, 'cure': 1081, 'dying': 1393, 'boyfriend': 558, 'stephen': 4176, 'dracula': 1341, 'gerard': 1895, 'butler': 637, 'roy': 3745, 'rest': 3657, 'lees': 2560, 'sequel': 3885, 'trilogy': 4586, 'close': 853, 'note': 3044, 'enjoyed': 1486, 'pokemon': 3320, 'corny': 997, 'mediocre': 2791, 'certain': 737, 'theyre': 4445, 'aimed': 162, 'adult': 125, 'fields': 1705, 'able': 66, 'guard': 1988, 'arent': 288, 'pieces': 3273, 'opinion': 3118, 'greatly': 1967, 'previous': 3387, 'touching': 4536, 'lovable': 2668, 'fresh': 1833, 'installment': 2303, 'popcorn': 3331, 'considered': 951, 'nothing': 3047, 'marks': 2742, 'intensity': 2317, 'climax': 849, 'likable': 2598, 'humorous': 2193, 'lowest': 2678, 'rated': 3527, 'four': 1812, 'feature': 1678, 'length': 2569, 'deserve': 1199, 'grown': 1984, 'creates': 1038, 'hard': 2033, 'love': 2669, 'getting': 1901, 'marriage': 2743, 'quit': 3494, 'suit': 4284, 'main': 2707, 'ho': 2127, 'couldve': 1009, 'anyways': 262, 'forgot': 1796, 'year': 4978, 'lyrics': 2692, 'remake': 3612, 'expect': 1575, 'everybody': 1540, 'parents': 3188, 'doing': 1312, 'budget': 610, 'flick': 1754, '50': 51, 'cause': 723, 'team': 4378, 'cool': 989, '40': 48, 'demon': 1177, 'costume': 1005, 'cliche': 843, 'loved': 2670, 'bring': 585, 'book': 535, 'giallo': 1904, 'came': 656, 'grave': 1962, 'combination': 883, 'gothic': 1945, 'although': 201, 'lose': 2654, 'earlier': 1399, 'delight': 1167, 'puts': 3481, 'emphasis': 1463, 'result': 3660, 'typical': 4623, 'place': 3282, 'red': 3576, 'definite': 1161, 'bonus': 534, 'hold': 2129, 'audiences': 353, 'storytelling': 4209, 'improved': 2255, 'opens': 3115, 'sees': 3866, 'girls': 1911, 'fighting': 1709, 'grandfather': 1954, 'explains': 1589, 'legend': 2564, 'painting': 3175, 'castle': 712, 'revolves': 3682, 'called': 652, 'queen': 3485, 'returns': 3668, 'hundred': 2195, 'kills': 2474, 'seven': 3903, 'later': 2525, 'murders': 2943, 'begin': 442, 'occur': 3076, 'obvious': 3071, 'colour': 880, 'important': 2247, 'heavily': 2069, 'appears': 278, 'against': 147, 'likes': 2602, 'stylish': 4251, 'knows': 2493, 'murder': 2939, 'involving': 2349, 'death': 1141, 'iron': 2354, 'favourite': 1673, 'female': 1693, 'stunning': 4244, 'ladies': 2506, 'afraid': 140, 'clothes': 860, 'score': 3822, 'catchy': 717, 'rock': 3720, 'fits': 1741, 'murderer': 2941, 'highly': 2105, 'fans': 1650, 'word': 4937, 'shes': 3930, 'pregnant': 3369, 'point': 3316, 'looked': 2647, 'crappy': 1032, 'renting': 3629, 'buying': 641, 'oh': 3096, 'drama': 1346, 'favorites': 1672, 'robert': 3713, 'tiny': 4500, 'mid': 2832, 'cold': 872, 'war': 4792, 'beaten': 424, 'minimal': 2855, 'action': 100, 'says': 3801, 'destroy': 1213, 'civilization': 827, 'redeeming': 3577, 'events': 1536, 'berlin': 467, 'crisis': 1060, 'spring': 4134, 'subsequent': 4257, 'reasonable': 3558, 'major': 2711, 'cities': 823, 'ruined': 3751, 'survivors': 4325, 'impossible': 2249, 'situation': 4008, 'lovers': 2673, 'gags': 1862, 'contrived': 976, 'pull': 3461, 'gag': 1861, 'thinks': 4454, 'let': 2579, 'boss': 546, 'father': 1666, 'law': 2538, 'co': 867, 'workers': 4943, 'terribly': 4408, 'intelligent': 2314, 'sent': 3880, 'laughter': 2535, 'james': 2378, 'admire': 121, 'romantic': 3733, 'guts': 1999, 'serves': 3895, 'total': 4531, 'witch': 4909, 'blair': 497, 'hardly': 2036, 'marry': 2745, 'hollywood': 2137, 'talented': 4355, 'havent': 2053, 'view': 4736, 'mainstream': 2709, 'kevin': 2457, 'help': 2079, 'roles': 3727, 'perfectly': 3226, 'effectively': 1430, 'each': 1395, 'julia': 2427, 'again': 146, 'damn': 1100, 'girl': 1909, 'smile': 4036, 'unique': 4662, 'personality': 3242, 'beauty': 430, 'shows': 3960, 'inside': 2297, 'name': 2960, 'drunk': 1375, 'julie': 2428, 'received': 3564, 'airplane': 166, 'lost': 2660, 'same': 3778, 'opportunities': 3120, 'skills': 4014, 'horrible': 2163, 'trailers': 4555, 'office': 3091, 'charming': 768, 'comedies': 889, 'nowadays': 3055, 'feels': 1687, 'toilet': 4512, 'deserves': 1201, 'generation': 1883, 'break': 569, 'neither': 2996, 'entirely': 1503, 'home': 2142, 'conservative': 948, 'muslim': 2949, 'nor': 3032, 'liberal': 2588, 'martial': 2747, 'arts': 310, 'becomes': 434, 'fight': 1707, 'herself': 2092, 'strength': 4219, 'allow': 189, 'spite': 4117, 'manages': 2725, 'narrative': 2966, 'depth': 1190, 'becoming': 435, 'philosophical': 3253, 'drawing': 1350, 'choreography': 802, 'pays': 3218, 'spectacular': 4101, 'sequences': 3888, 'debut': 1143, 'spirit': 4113, 'raw': 3532, 'charisma': 762, 'premise': 3370, 'goofy': 1939, 'ease': 1404, 'audience': 352, 'mix': 2876, 'child': 789, 'dance': 1103, 'charlotte': 766, 'lewis': 2586, 'murphy': 2944, '80s': 59, 'surreal': 4317, 'fairly': 1631, 'overlooked': 3154, 'flicks': 1755, 'nearly': 2981, '2000': 30, 'user': 4696, 'wearing': 4831, 'six': 4010, 'record': 3573, 'merely': 2815, 'primarily': 3393, 'intended': 2315, 'period': 3236, 'piece': 3272, 'clearly': 840, 'unusual': 4681, 'imagined': 2239, 'until': 4680, 'recently': 3567, 'urge': 4689, 'changed': 750, 'von': 4765, 'reading': 3544, 'sight': 3969, 'read': 3543, 'borrowed': 545, 'form': 1798, 'books': 536, 'irritating': 2359, 'companion': 909, 'busy': 635, 'gradually': 1952, 'buy': 640, 'glad': 1916, 'purchase': 3469, 'quiet': 3492, 'constructed': 959, 'italian': 2367, 'post': 3352, 'starts': 4159, 'married': 2744, 'pool': 3327, 'holiday': 2134, 'together': 4511, 'families': 1644, 'italy': 2368, 'circumstances': 822, 'lead': 2545, 'joined': 2413, 'backgrounds': 381, 'theme': 4433, 'essentially': 1523, 'progresses': 3426, 'mature': 2773, 'occasional': 3074, 'male': 2719, 'thrills': 4475, 'dramatic': 1348, 'sex': 3907, 'natural': 2973, 'style': 4249, 'none': 3028, 'necessary': 2984, 'prove': 3445, 'try': 4600, 'rank': 3518, 'rare': 3523, 'cases': 708, 'pleasure': 3306, 'visual': 4757, 'appeal': 271, 'setting': 3900, 'segment': 3867, 'eyes': 1613, 'tv': 4610, 'generally': 1881, 'filmed': 1717, 'reduced': 3579, 'background': 380, 'changes': 751, 'basically': 407, 'remains': 3611, 'true': 4596, 'due': 1382, 'mike': 2838, 'members': 2801, 'british': 589, 'play': 3296, 'principal': 3398, 'huh': 2187, 'woody': 4936, 'allen': 188, '2001': 31, 'liked': 2600, 'realizing': 3555, 'filmmaker': 1719, 'ahead': 159, 'desert': 1198, 'blow': 514, 'outside': 3146, 'native': 2972, 'sense': 3877, 'tried': 4584, 'medium': 2792, 'results': 3662, 'lack': 2502, 'images': 2235, 'feelings': 1686, 'colors': 879, 'era': 1513, 'stated': 4161, 'whatever': 4859, 'disappoint': 1272, 'yet': 4984, 'feeling': 1685, 'themes': 4434, 'bringing': 586, 'forth': 1804, 'purpose': 3474, 'neo': 2998, 'realistic': 3550, 'mostly': 2910, 'non': 3027, 'professional': 3421, 'corporate': 998, 'stars': 4155, 'mark': 2739, 'under': 4639, 'directing': 1260, 'split': 4120, 'acts': 107, 'thankfully': 4422, 'escapes': 1519, 'existence': 1571, 'dangerous': 1110, 'late': 2523, '60s': 54, 'area': 286, 'meeting': 2794, 'meet': 2793, 'plane': 3288, 'bizarre': 492, 'act': 97, 'leads': 2548, 'fair': 1630, 'exactly': 1551, 'draws': 1352, 'curiosity': 1082, 'ideas': 2215, 'screenplay': 3831, 'sam': 3777, 'revealing': 3672, 'except': 1556, 'brief': 579, 'instant': 2305, 'drugs': 1374, 'vs': 4767, 'towards': 4540, 'decides': 1150, 'arrives': 302, 'taking': 4352, 'account': 89, 'infamous': 2284, 'five': 1743, 'problem': 3408, 'doubts': 1333, 'fears': 1677, 'self': 3869, 'confidence': 938, 'anti': 254, 'fully': 1847, 'aware': 368, 'editor': 1423, 'cinematography': 820, 'technical': 4381, 'degree': 1164, 'probably': 3407, 'greater': 1965, 'documentary': 1307, 'theatrical': 4430, 'francis': 1818, 'ford': 1789, 'ups': 4686, 'art': 304, 'soundtrack': 4085, 'master': 2757, 'including': 2264, 'rolling': 3730, 'stones': 4198, 'pink': 3277, 're': 3535, 'titled': 4505, 'careful': 688, 'explosion': 1596, 'werent': 4849, 'par': 3184, 'genius': 1887, 'hippie': 2115, 'movement': 2923, 'hey': 2095, 'born': 544, 'eighties': 1437, 'ask': 316, 'relies': 3606, 'lot': 2661, 'saying': 3800, 'bond': 532, 'wears': 4832, 'tremendous': 4579, 'amount': 219, 'gross': 1978, 'hopefully': 2157, 'animation': 242, 'properly': 3437, 'creature': 1045, 'concern': 931, 'subtle': 4260, 'bbc': 417, 'recorded': 3574, 'voices': 4763, 'perfect': 3224, 'match': 2762, 'street': 4216, 'calling': 653, 'fact': 1621, 'jim': 2402, 'carrey': 696, 'morgan': 2905, 'freeman': 1829, 'jennifer': 2392, 'combine': 884, '2003': 33, 'improvement': 2256, 'past': 3207, 'crazy': 1035, 'personally': 3243, 'antics': 255, 'carries': 699, 'elements': 1443, 'abilities': 64, 'continue': 969, 'summer': 4291, 'hits': 2125, 'fit': 1740, 'lacking': 2504, 'superbly': 4297, 'polished': 3323, 'ensemble': 1492, 'solid': 4057, 'message': 2819, 'spiritual': 4116, 'parody': 3192, 'taste': 4369, 'eight': 1436, 'ten': 4399, 'westerns': 4854, 'broken': 594, 'fabulous': 1615, 'douglas': 1334, 'inspired': 2301, 'imitation': 2241, 'mans': 2730, 'daughter': 1121, 'credible': 1048, 'sinatra': 3989, 'curtis': 1087, 'parts': 3199, 'cannot': 670, 'poor': 3328, 'wealthy': 4827, 'fall': 1637, 'land': 2511, 'minded': 2850, 'everywhere': 1545, 'seemed': 3862, 'casting': 711, 'glover': 1923, 'serial': 3889, 'killer': 2470, 'grows': 1985, 'portray': 3340, 'convincing': 985, 'villain': 4744, 'run': 3755, 'mill': 2845, 'innovative': 2295, 'worlds': 4947, 'finest': 1730, 'project': 3427, 'batman': 413, 'line': 2610, 'anyway': 261, 'standards': 4145, 'everyday': 1541, 'regard': 3588, 'excited': 1561, 'sad': 3767, 'youll': 4988, 'cheated': 775, 'exist': 1569, 'wonder': 4926, 'surely': 4309, 'judge': 2424, 'purely': 3472, 'cardboard': 682, 'sets': 3899, 'cheap': 774, 'impressive': 2253, 'obviously': 3072, 'wasnt': 4807, 'sky': 4017, 'lighting': 2596, 'quick': 3490, 'build': 614, 'shots': 3950, 'mainly': 2708, 'flying': 1764, 'standing': 4146, 'camera': 659, 'angle': 236, 'below': 462, 'laughable': 2530, 'michael': 2829, 'clark': 832, 'greatest': 1966, 'actor': 103, 'kurt': 2499, 'awesome': 371, 'served': 3894, 'begins': 444, 'compare': 911, 'amazing': 209, 'hear': 2061, 'sound': 4081, 'plans': 3292, 'create': 1036, 'separate': 3883, 'ok': 3098, 'producers': 3416, 'clue': 864, 'whats': 4860, 'lines': 2612, 'comment': 898, 'minimum': 2856, 'include': 2261, 'spoilers': 4124, 'remarks': 3615, 'effort': 1432, 'border': 539, 'space': 4090, 'porn': 3336, 'eventually': 1537, 'started': 4157, 'god': 1926, 'angel': 231, 'dumb': 1385, 'semi': 3874, 'pathetic': 3210, 'absolutely': 72, 'worst': 4952, 'television': 4394, 'please': 3304, 'sucks': 4271, 'positive': 3346, 'wear': 4830, 'clothing': 861, 'questions': 3489, 'mixture': 2878, 'incredibly': 2270, 'obscure': 3068, 'haunted': 2050, 'edward': 1426, 'jr': 2423, 'adds': 119, 'pictures': 3270, 'surrounded': 4318, 'insight': 2298, 'qualities': 3483, 'brilliance': 582, 'woods': 4935, 'sick': 3963, 'disney': 1289, 'cartoon': 704, 'classic': 835, 'starring': 4154, 'glenn': 1918, 'bomb': 531, 'worked': 4941, 'adults': 126, 'running': 3756, 'cartoons': 705, 'beings': 449, 'prison': 3401, 'change': 749, 'proved': 3446, 'pleasant': 3302, 'reputation': 3640, 'sudden': 4272, 'officers': 3093, 'spots': 4132, 'revenge': 3675, 'determined': 1221, 'actress': 105, 'wouldnt': 4958, 'alright': 198, 'agree': 155, 'europe': 1529, 'eg': 1434, 'outstanding': 3147, 'anthony': 253, 'reed': 3580, 'western': 4853, 'discover': 1279, 'don': 1320, 'del': 1165, 'ed': 1415, 'ex': 1549, 'tarzan': 4367, 'villains': 4745, 'king': 2479, 'smart': 4035, 'sword': 4340, 'torn': 4528, 'tribute': 4581, 'content': 966, 'virtually': 4751, 'pointless': 3318, 'motivation': 2914, 'information': 2288, 'provided': 3449, 'bettie': 473, 'gonna': 1936, 'either': 1438, 'famous': 1647, 'photo': 3257, 'shoots': 3944, '75': 57, 'person': 3238, 'briefly': 580, 'lived': 2626, 'decision': 1151, 'become': 433, 'religious': 3608, 'favor': 1670, 'showing': 3958, 'drawn': 1351, 'substance': 4258, 'resembles': 3646, 'topless': 4527, 'nudity': 3059, 'during': 1387, 'credits': 1050, 'within': 4912, 'wooden': 4934, 'involved': 2346, 'memorable': 2802, 'joke': 2414, 'list': 2617, 'seek': 3858, 'youre': 4992, 'interested': 2324, 'theory': 4437, 'string': 4227, 'elegant': 1441, 'universe': 4666, 'brian': 576, 'university': 4667, 'age': 148, 'scientist': 3818, 'ingredients': 2289, 'spread': 4133, 'celluloid': 731, 'serving': 3897, 'text': 4419, 'spanish': 4092, 'language': 2516, 'moment': 2886, 'meets': 2795, 'taken': 4350, 'intimate': 2331, 'strangers': 4214, 'learning': 2552, 'headed': 2058, 'pursuit': 3476, 'happiness': 2031, 'smith': 4038, 'nude': 3058, 'relations': 3596, '30': 42, 'early': 1400, '1930s': 11, 'weakest': 4825, '70': 55, 'spain': 4091, 'wealth': 4826, 'excessive': 1560, 'condition': 937, 'extreme': 1609, 'poverty': 3357, 'european': 1530, 'shocking': 3940, 'narrator': 2967, 'children': 792, 'taught': 4370, 'value': 4709, 'teaching': 4377, 'access': 83, 'latest': 2526, 'overcome': 3151, 'comparison': 914, 'dawson': 1128, 'comments': 901, 'nature': 2975, 'practically': 3362, 'simplistic': 3985, 'issue': 2364, 'belief': 451, 'literature': 2623, 'honest': 2146, 'otherwise': 3137, 'cinematic': 818, 'bland': 500, 'discussion': 1284, 'african': 142, 'couples': 1017, 'stay': 4166, 'moved': 2922, 'minor': 2857, 'spike': 4111, 'danny': 1112, '1970s': 17, 'neighborhood': 2993, 'goldberg': 1933, 'told': 4513, 'door': 1328, 'won': 4925, 'alike': 185, 'neighbor': 2992, 'whos': 4876, 'process': 3412, 'question': 3487, 'racism': 3502, 'shut': 3961, 'helping': 2081, 'trap': 4563, 'changing': 752, 'culture': 1079, 'blonde': 511, 'hair': 2005, 'blue': 518, 'terrible': 4407, 'sake': 3775, 'fitting': 1742, 'forget': 1793, 'struggles': 4235, 'working': 4944, 'bette': 471, 'davis': 1126, 'claimed': 829, 'mildred': 2841, 'rogers': 3725, 'waitress': 4773, 'target': 4366, 'leslie': 2574, 'eager': 1396, 'sink': 3999, 'teeth': 4393, 'awful': 372, 'meant': 2784, 'throughout': 4478, 'transformation': 4560, 'widely': 4881, 'noted': 3045, 'uneven': 4649, 'watchable': 4812, 'howard': 2182, 'history': 2121, 'philip': 3252, 'chemistry': 782, 'existent': 1572, 'interview': 2329, 'helped': 2080, 'awkward': 374, 'remain': 3609, 'stiff': 4187, 'brings': 587, 'nervous': 2999, 'presence': 3373, 'fails': 1628, 'whenever': 4863, 'passing': 3204, 'complicated': 925, 'angles': 237, 'bare': 398, 'translation': 4562, 'novel': 3052, 'pages': 3168, 'punishment': 3467, 'sexual': 3908, 'attraction': 350, 'emotion': 1458, 'distant': 1295, 'cousin': 1021, 'william': 4887, 'hurt': 2202, 'possibly': 3351, 'kay': 2447, 'johnson': 2411, 'vulnerable': 4768, 'realizes': 3554, 'bound': 553, 'miller': 2846, 'moral': 2902, 'scream': 3826, 'dean': 1139, 'repeated': 3631, 'rocks': 3722, 'falling': 1639, 'paper': 3183, 'plastic': 3294, 'guns': 1998, 'screen': 3829, 'multiple': 2936, 'happening': 2028, 'negative': 2991, 'ratings': 3530, 'ron': 3734, 'insane': 2296, 'ultra': 4629, 'harry': 2039, 'wrote': 4974, 'receives': 3565, 'doll': 1313, 'orders': 3127, 'amounts': 220, 'rape': 3521, 'kill': 2468, 'wall': 4781, 'exploitation': 1592, 'stays': 4169, 'repetitive': 3633, 'tom': 4514, 'green': 1971, 'candy': 668, 'bush': 632, 'naked': 2959, 'repeatedly': 3632, 'carol': 693, 'brothers': 599, 'suspect': 4327, 'sinister': 3998, 'closer': 856, 'threat': 4467, 'theyll': 4444, 'stop': 4201, 'sleazy': 4023, 'offer': 3087, 'filled': 1715, 'plenty': 3307, 'core': 995, 'particular': 3194, 'believed': 455, 'unfortunately': 4654, 'bore': 540, 'mentioned': 2811, 'numerous': 3062, 'sexy': 3911, 'favorite': 1671, 'dull': 1384, 'directed': 1259, 'daughters': 1122, 'amateurish': 207, 'brosnan': 597, 'burned': 626, 'seed': 3856, 'tight': 4492, 'gold': 1932, 'ugly': 4625, 'struggling': 4236, 'noble': 3021, 'mexico': 2827, 'staying': 4168, 'hotel': 2175, 'luck': 2681, 'businessman': 634, 'desperate': 1208, 'return': 3665, 'news': 3005, 'techniques': 4384, 'suffering': 4277, 'agent': 150, 'scripts': 3836, 'closing': 859, 'projects': 3428, 'japanese': 2382, 'freedom': 1828, 'ultimately': 4628, 'anime': 243, 'drives': 1367, 'college': 875, 'students': 4239, 'ignored': 2225, 'anybody': 257, 'experienced': 1581, 'deeply': 1156, 'detailed': 1218, 'parties': 3196, 'subtitles': 4259, 'landscapes': 2514, 'imagination': 2236, 'water': 4816, 'title': 4504, 'eat': 1411, 'elephant': 1444, 'exciting': 1563, 'comparing': 913, 'acid': 95, 'adding': 117, 'proceedings': 3410, 'kings': 2481, 'house': 2178, 'fred': 1825, 'ground': 1979, 'pure': 3471, 'evil': 1548, 'soon': 4074, 'anymore': 258, 'gripping': 1976, 'eerie': 1427, 'frightening': 1839, 'truly': 4597, 'pops': 3332, 'rachel': 3500, 'passed': 3202, 'scares': 3806, 'delivers': 1172, 'flawless': 1751, 'aired': 165, 'emotional': 1459, 'itll': 2369, 'carpenter': 694, 'ultimate': 4627, 'roll': 3728, 'elvis': 1451, 'revelation': 3674, 'mention': 2810, 'storm': 4206, 'powers': 3361, 'slow': 4031, 'paint': 3173, 'dry': 1377, 'throwing': 4480, 'basement': 405, 'hood': 2151, 'buddies': 608, 'afternoon': 144, 'bored': 541, 'unconvincing': 4638, 'amateur': 206, 'similarities': 3979, 'nobody': 3022, 'review': 3676, 'harsh': 2040, 'reviews': 3679, 'purchased': 3470, 'younger': 4990, 'sappy': 3784, 'badly': 383, 'rarely': 3524, 'stand': 4143, 'serious': 3891, 'blame': 499, 'catch': 714, 'dude': 1381, 'cut': 1089, '24': 39, 'hour': 2176, 'writing': 4971, 'stale': 4141, 'san': 3780, 'francisco': 1819, 'unrealistic': 4677, 'mall': 2720, 'recording': 3575, 'nick': 3012, 'call': 651, 'disaster': 1276, 'idiotic': 2219, 'definitely': 1162, 'mood': 2898, 'painful': 3171, 'choice': 797, 'earth': 1403, 'cash': 709, 'clear': 839, 'exotic': 1574, 'ghosts': 1903, 'vehicle': 4718, 'mess': 2818, 'beach': 419, 'inappropriate': 2259, 'utterly': 4702, 'survivor': 4324, 'alex': 179, 'ryan': 3765, 'media': 2789, 'watched': 4813, 'apart': 264, 'treat': 4572, 'tired': 4501, 'clichéd': 845, 'thoughts': 4464, 'amy': 222, 'class': 833, 'aka': 168, 'bar': 396, 'club': 863, 'ideal': 2214, 'partner': 3198, 'obsessed': 3069, 'husbands': 2205, 'figures': 1713, 'junior': 2435, 'unbelievable': 4634, 'grew': 1972, 'older': 3101, 'stereotypes': 4179, 'society': 4050, 'dating': 1120, 'mile': 2842, 'blind': 506, 'sadly': 3769, 'bed': 436, 'tame': 4363, 'lesbian': 2573, 'map': 2733, 'todays': 4509, '17': 9, 'rating': 3529, 'females': 1694, 'addition': 118, 'politics': 3326, 'catching': 716, '1968': 16, 'seconds': 3848, 'missing': 2869, 'valley': 4707, 'dolls': 1316, 'satisfying': 3791, 'unpredictable': 4675, 'logical': 2639, 'creative': 1041, 'bill': 481, 'zombie': 4997, 'originality': 3130, 'shines': 3932, 'fiction': 1702, 'opening': 3114, 'till': 4493, 'fascinated': 1657, 'disgusting': 1286, 'west': 4852, 'bathroom': 412, 'widow': 4883, 'move': 2921, 'cowboy': 1025, 'accurate': 90, 'harris': 2038, 'press': 3379, 'worthy': 4956, 'timeless': 4496, 'arrogant': 303, 'irrelevant': 2358, 'handle': 2018, 'walter': 4784, 'extraordinary': 1607, 'meaning': 2780, '1990s': 25, 'president': 3378, 'created': 1037, 'bank': 394, 'dollars': 1315, 'nightmare': 3014, 'fired': 1735, 'sympathy': 4343, 'apartment': 265, 'purposes': 3475, 'homeless': 2143, 'introduces': 2338, 'company': 910, 'miracle': 2860, 'simon': 3982, 'restaurant': 3658, 'jewish': 2401, 'center': 732, 'mother': 2911, 'dies': 1245, 'suddenly': 4273, 'clean': 838, 'resort': 3650, 'chooses': 800, 'room': 3735, 'unhappy': 4656, 'innocent': 2294, 'met': 2822, 'laura': 2536, 'heavy': 2070, 'affair': 135, 'worker': 4942, 'unknown': 4668, 'free': 1827, 'passion': 3205, 'daniel': 1111, 'wonders': 4931, 'proper': 3436, 'perspective': 3245, 'surprising': 4315, 'handsome': 2021, 'magnificent': 2705, 'surprise': 4312, 'fallen': 1638, 'attitude': 346, 'steven': 4182, 'speaking': 4095, 'tune': 4602, 'reviewers': 3678, 'followed': 1773, 'social': 4049, 'mothers': 2912, 'hero': 2088, 'ill': 2228, 'listed': 2618, 'inspector': 2299, 'convinced': 984, 'aged': 149, 'fat': 1663, 'carry': 700, 'sidekick': 3966, 'fox': 1814, 'england': 1482, 'ms': 2931, 'peace': 3219, 'example': 1553, 'tortured': 4530, 'misery': 2865, 'pan': 3180, 'enemy': 1477, 'attack': 337, 'survive': 4321, 'german': 1896, 'loads': 2633, 'editing': 1421, 'gotten': 1947, 'producer': 3415, 'author': 359, 'un': 4630, 'equal': 1509, 'games': 1865, 'situations': 4009, 'usual': 4699, 'crime': 1055, 'cops': 993, 'irish': 2353, 'shop': 3945, 'veteran': 4724, 'detective': 1220, 'flaws': 1752, 'walks': 4780, 'violent': 4748, 'joe': 2407, 'macy': 2695, 'evident': 1547, 'womans': 4922, 'daddy': 1096, 'van': 4713, 'angry': 238, 'pro': 3406, 'laughing': 2533, 'baby': 376, 'corner': 996, 'dad': 1095, 'protect': 3443, 'waiting': 4772, 'pick': 3265, 'mary': 2751, 'reference': 3582, 'uninteresting': 4660, 'nyc': 3065, 'sue': 4274, 'ann': 244, 'guest': 1992, 'moore': 2901, 'reunion': 3669, 'dick': 1239, 'richards': 3687, 'wet': 4855, 'pants': 3182, 'stopped': 4202, 'funnier': 1850, 'edition': 1422, 'thumbs': 4485, 'number': 3060, 'hill': 2108, 'bud': 607, 'spent': 4108, 'mistakes': 2873, 'futuristic': 1857, 'expensive': 1579, 'sci': 3815, 'fi': 1701, 'unlike': 4670, 'former': 1800, 'forgotten': 1797, 'reflection': 3585, 'dozen': 1338, 'flat': 1748, 'oz': 3160, 'cup': 1080, 'pulled': 3462, 'scooby': 3820, 'doo': 1325, 'friendly': 1836, 'sheriff': 3929, 'disturbing': 1300, 'murdered': 2940, 'community': 908, 'reach': 3536, 'cabin': 643, 'overdone': 3152, 'doors': 1329, 'open': 3112, 'wrap': 4963, 'okay': 3099, 'stooges': 4200, 'joseph': 2419, 'rex': 3683, 'minds': 2852, 'difference': 1246, 'medical': 2790, 'spell': 4104, 'fu': 1844, 'bugs': 613, 'unwatchable': 4682, 'mst3k': 2932, 'turkey': 4604, 'became': 431, 'spielberg': 4110, 'george': 1893, 'lucas': 2680, '45': 50, 'stuck': 4237, 'design': 1202, 'copy': 994, 'resist': 3648, 'odd': 3080, 'jean': 2389, 'assume': 328, 'influence': 2286, 'quest': 3486, 'jonathan': 2417, 'portion': 3338, 'travels': 4569, 'references': 3583, 'chase': 769, 'heroes': 2089, 'aspect': 321, 'returned': 3666, 'robots': 3718, 'covered': 1023, 'beneath': 464, 'giant': 1905, 'tree': 4576, 'views': 4742, 'surface': 4310, 'opposed': 3122, 'underground': 4640, 'irony': 2357, 'robot': 3717, 'garden': 1872, 'silent': 3975, 'slick': 4026, 'detail': 1217, 'buildings': 616, 'treasure': 4571, 'extra': 1606, 'ashamed': 312, 'embarrassed': 1453, 'tedious': 4387, 'cringe': 1059, 'difficult': 1249, 'assistant': 326, 'section': 3853, 'emotions': 1461, 'disappointment': 1275, 'rage': 3505, 'larger': 2519, 'bat': 410, 'sitting': 4007, 'bull': 619, 'stewart': 4184, 'fathers': 1667, 'primary': 3394, 'thousand': 4465, 'colorful': 878, 'dan': 1102, 'tone': 4517, 'brilliantly': 584, 'psychological': 3458, 'tall': 4362, 'chasing': 772, 'gun': 1996, 'failed': 1626, 'defined': 1160, 'conversations': 981, 'mitchell': 2875, 'use': 4692, 'environment': 1505, 'mountains': 2918, 'occurs': 3078, 'loose': 2650, 'mountain': 2917, 'physical': 3262, 'victor': 4731, 'victim': 4729, 'cinematographer': 819, 'range': 3516, 'photography': 3260, 'mann': 2728, 'presents': 3377, 'vivid': 4760, 'picture': 3269, 'shooting': 3943, 'contest': 967, 'cuts': 1091, 'display': 1291, 'chosen': 805, 'convey': 982, 'shelley': 3928, 'winters': 4901, 'climactic': 848, 'reveals': 3673, 'light': 2595, 'intense': 2316, 'joy': 2422, 'wait': 4770, 'french': 1830, 'absurd': 73, 'witty': 4917, 'influenced': 2287, 'thousands': 4466, 'deaths': 1142, 'promised': 3431, 'genuine': 1891, 'christian': 808, 'directs': 1267, 'vincent': 4746, 'grace': 1950, 'deceased': 1146, 'mere': 2814, 'officer': 3092, 'intentions': 2321, 'imagine': 2238, 'sons': 4073, 'fantasy': 1652, 'spoil': 4121, 'friend': 1835, 'suggested': 4281, 'rubbish': 3748, 'bunch': 623, 'element': 1442, 'featured': 1679, 'spoke': 4125, 'whatsoever': 4861, 'swear': 4334, 'kept': 2456, 'ie': 2221, 'welcome': 4842, 'todd': 4510, 'zombies': 4998, 'appear': 273, 'talents': 4356, 'cares': 690, 'gory': 1943, 'share': 3920, 'lol': 2640, 'titanic': 4503, 'support': 4303, 'strange': 4211, 'previously': 3388, 'impact': 2244, 'sisters': 4002, 'twins': 4616, 'interaction': 2322, 'format': 1799, 'somewhere': 4069, 'producing': 3417, 'slasher': 4020, 'splatter': 4118, 'subplots': 4256, 'escaped': 1518, 'catholic': 720, 'honor': 2150, 'st': 4137, 'argue': 290, 'meanwhile': 2785, 'parker': 3191, 'incompetent': 2266, 'deals': 1137, 'creepy': 1052, 'blank': 501, 'breath': 573, 'inane': 2258, 'produce': 3413, 'frustration': 1843, 'coffee': 870, 'quality': 3484, 'killers': 2471, 'paid': 3169, 'jerk': 2395, 'aint': 163, 'justice': 2438, 'hung': 2197, 'tag': 4348, 'childrens': 793, 'miike': 2837, 'uses': 4697, 'wild': 4885, 'territory': 4411, 'follows': 1775, 'spirits': 4115, 'foot': 1781, 'arms': 294, 'burning': 627, 'dr': 1340, 'performing': 3233, 'similar': 3978, 'murderous': 2942, 'walls': 4783, 'creatures': 1046, 'soul': 4079, 'magical': 2704, 'believes': 456, 'heroic': 2090, 'faith': 1633, 'desire': 1205, 'party': 3200, 'lay': 2542, 'mistake': 2871, 'invasion': 2340, 'unable': 4631, 'youth': 4994, 'leaving': 2557, 'childhood': 790, 'horrors': 2169, 'object': 3066, 'machines': 2694, 'sometimes': 4067, 'focused': 1767, 'cgi': 740, 'neck': 2985, 'considering': 952, 'engaging': 1481, 'loud': 2664, 'ages': 152, 'draw': 1349, 'presumably': 3380, 'nostalgia': 3038, 'asking': 318, 'preview': 3386, 'dennis': 1179, 'holding': 2130, 'aging': 153, 'growing': 1983, 'thoughtful': 4463, 'figure': 1711, 'considerable': 950, 'artistic': 308, 'merit': 2816, 'commercial': 902, 'science': 3816, 'commentary': 899, 'focus': 1766, 'aliens': 184, 'russell': 3761, 'machine': 2693, 'typically': 4624, 'answer': 251, 'broad': 590, 'expressions': 1603, 'viewings': 4741, 'surrounding': 4319, 'logic': 2638, 'flawed': 1750, 'explained': 1587, 'ability': 65, 'army': 295, 'supposedly': 4307, 'troops': 4591, 'showcase': 3954, 'warming': 4795, 'released': 3603, 'immensely': 2243, 'channel': 753, 'touched': 4534, 'sub': 4252, 'pretentious': 3383, 'jumped': 2430, 'common': 906, 'dig': 1250, 'teen': 4388, 'biggest': 480, 'fulci': 1845, 'violence': 4747, 'randomly': 3515, 'putting': 3482, 'rental': 3627, 'sleep': 4024, 'sucked': 4270, 'pit': 3278, 'feet': 1688, 'leader': 2546, 'church': 813, 'related': 3594, 'christmas': 810, 'household': 2179, 'cried': 1054, 'tears': 4380, 'heres': 2087, 'dealt': 1138, 'christians': 809, 'gray': 1963, 'gods': 1928, 'instantly': 2306, 'powerful': 3360, 'follow': 1772, 'football': 1783, 'control': 977, 'easier': 1405, 'relate': 3593, 'laid': 2508, 'bible': 477, 'grant': 1956, 'taylor': 4372, 'losing': 2658, 'row': 3744, 'boys': 559, 'million': 2847, 'kicking': 2462, 'field': 1704, 'passes': 3203, 'championship': 745, 'league': 2549, 'truck': 4595, 'shallow': 3917, 'raise': 3507, 'kick': 2460, 'goal': 1925, 'matters': 2770, 'praise': 3364, 'lord': 2652, 'christ': 807, 'tap': 4364, 'mystery': 2956, 'sports': 4130, 'clichés': 846, 'planning': 3291, 'add': 115, 'learned': 2551, 'meat': 2787, 'facing': 1620, 'manage': 2722, 'grasp': 1960, '12': 3, 'immediately': 2242, 'sitcom': 4004, 'canada': 666, 'shirley': 3936, 'week': 4837, 'gay': 1876, 'wanting': 4790, 'chinese': 796, 'jesse': 2397, 'andrew': 228, 'visit': 4755, 'norman': 3035, 'chances': 748, 'accepted': 82, 'delivery': 1173, '1950s': 14, 'program': 3424, 'fail': 1625, 'performers': 3232, 'material': 2766, 'impress': 2250, 'inferior': 2285, 'fest': 1696, 'forgettable': 1794, 'homosexual': 2145, 'protagonist': 3441, 'friday': 1834, 'spider': 4109, 'genuinely': 1892, 'scared': 3805, 'beat': 423, 'thief': 4448, 'imaginative': 2237, 'twelve': 4611, 'using': 4698, 'dimensional': 1253, 'cynical': 1093, 'princess': 3397, 'demands': 1175, 'struck': 4232, 'mechanical': 2788, 'horses': 2171, 'temple': 4398, 'stolen': 4195, 'magic': 2703, 'seeking': 3859, 'loses': 2657, 'excitement': 1562, 'steve': 4181, 'martin': 2748, 'kate': 2446, 'attractive': 351, 'excuse': 1564, 'strip': 4228, 'drunken': 1376, 'amusing': 221, 'dubbed': 1379, 'sid': 3964, 'samurai': 3779, 'facial': 1619, 'majority': 2712, 'folk': 1770, 'elsewhere': 1449, 'insulting': 2310, 'hoping': 2160, 'sir': 4000, 'screening': 3830, 'masterpiece': 2759, 'offensive': 3086, 'thriller': 4472, 'gangsters': 1869, 'national': 2970, 'belongs': 460, 'summary': 4290, 'eastern': 1408, 'countries': 1013, '90s': 61, 'soviet': 4089, 'union': 4661, 'fell': 1690, 'nations': 2971, 'corruption': 1002, 'gangster': 1868, 'teens': 4392, 'artificial': 306, 'weird': 4841, 'expectations': 1576, 'jane': 2380, 'drag': 1342, 'flaw': 1749, 'lively': 2627, 'capable': 672, 'upper': 4685, 'front': 1841, 'bother': 548, 'stories': 4205, 'paltrow': 3178, '35': 45, 'roger': 3724, 'crude': 1069, 'walked': 4776, 'witnesses': 4916, 'museum': 2945, 'ape': 266, 'finale': 1723, 'dressed': 1358, 'asks': 319, 'exception': 1557, 'gordon': 1940, 'rip': 3700, 'carrie': 697, 'psycho': 3457, 'explanation': 1590, 'dirty': 1268, 'spoof': 4127, 'hitchcock': 2123, 'homage': 2141, 'originally': 3131, 'theater': 4427, 'code': 869, 'claim': 828, 'earl': 1398, 'stage': 4139, 'manager': 2724, 'hiding': 2099, 'rose': 3739, 'vicious': 4728, 'duke': 1383, 'los': 2653, 'angeles': 233, 'picked': 3266, 'united': 4664, 'september': 3884, 'happens': 2029, 'progress': 3425, 'track': 4544, 'chorus': 803, 'dorothy': 1330, 'melodramatic': 2798, 'twenty': 4612, 'thirty': 4456, 'relief': 3605, 'inevitable': 2282, 'carl': 692, 'singing': 3995, 'agents': 151, 'leading': 2547, 'eyed': 1612, 'fictional': 1703, 'ralph': 3510, 'patrick': 3213, 'donald': 1321, 'wing': 4896, 'wilson': 4891, 'arthur': 305, 'mickey': 2831, 'mouse': 2919, 'disagree': 1269, 'staged': 4140, 'today': 4508, 'routine': 3743, 'peter': 3247, 'thank': 4421, 'turner': 4607, 'lit': 2621, 'regarding': 3589, '2005': 35, 'banned': 395, 'symbolism': 4341, 'consistently': 954, 'challenge': 743, 'lies': 2591, 'village': 4743, 'enjoyment': 1488, 'endearing': 1469, 'yeah': 4977, 'glorious': 1921, 'cd': 728, 'eddie': 1416, 'albert': 174, 'countryside': 1015, 'olivier': 3103, 'flight': 1757, 'fancy': 1649, 'paris': 3189, 'release': 3602, 'fantastic': 1651, 'gene': 1879, 'kelly': 2452, 'dancers': 1105, 'supporting': 4304, 'oscar': 3133, 'quirky': 3493, 'georges': 1894, 'ballet': 389, 'choreographed': 801, 'filming': 1718, 'testament': 4417, 'tragic': 4552, 'chris': 806, 'covers': 1024, 'supernatural': 4302, 'worn': 4948, 'blatant': 502, 'feminist': 1695, 'gratuitous': 1961, 'represent': 3637, 'writers': 4969, 'cruel': 1070, 'opposite': 3123, 'nominated': 3025, 'explaining': 1588, 'revealed': 3671, 'laughs': 2534, 'stretched': 4222, 'inducing': 2279, 'hunters': 2200, 'powell': 3358, 'seemingly': 3863, 'complexity': 924, 'depiction': 1185, 'wwii': 4975, 'asked': 317, 'includes': 2263, 'portraying': 3343, 'instance': 2304, 'der': 1191, 'silver': 3977, 'heaven': 2068, 'relative': 3599, 'kim': 2475, 'pity': 3281, 'cutting': 1092, 'floor': 1759, 'videos': 4734, 'ironically': 2356, '1940s': 13, 'starred': 4153, 'cary': 706, 'styles': 4250, 'according': 88, 'carter': 703, 'initially': 2291, 'smooth': 4041, 'britain': 588, 'gentle': 1890, 'military': 2844, 'faced': 1617, 'enemies': 1476, 'explicit': 1591, 'hoped': 2156, 'continues': 971, 'sides': 3967, 'totally': 4532, 'reminded': 3619, 'brady': 561, 'australian': 357, 'nine': 3017, 'photographed': 3258, 'mexican': 2826, 'bin': 483, 'cover': 1022, 'grade': 1951, 'key': 2458, 'rent': 3626, 'jaw': 2384, 'dropping': 1371, 'floating': 1758, 'lily': 2605, 'monsters': 2893, 'protagonists': 3442, 'farm': 1656, 'graphics': 1959, 'creating': 1039, 'soldiers': 4054, 'prevent': 3385, 'actions': 101, 'jungle': 2434, 'contrary': 974, 'groups': 1981, 'wishes': 4906, 'department': 1182, 'bela': 450, 'lugosi': 2686, 'thrill': 4471, 'stone': 4197, 'claire': 831, 'neighbors': 2994, 'bath': 411, 'millions': 2848, 'pat': 3208, 'convince': 983, 'scientists': 3819, 'daily': 1097, 'saturday': 3792, 'decisions': 1152, 'hurts': 2203, 'struggle': 4234, 'states': 4163, 'stick': 4185, '100': 1, 'member': 2800, 'diamond': 1236, 'oil': 3097, 'government': 1948, 'abuse': 74, 'glory': 1922, 'willing': 4889, 'letters': 2582, 'color': 877, 'studio': 4240, 'agreed': 156, '11': 2, 'terrorist': 4413, 'attacks': 339, 'nuclear': 3057, 'weapon': 4828, 'arrested': 298, 'frequent': 1831, 'korean': 2495, 'thanks': 4423, 'speech': 4102, 'nazi': 2977, 'germany': 1898, 'plight': 3308, 'nazis': 2978, 'acted': 98, 'nose': 3037, 'wake': 4774, 'wolf': 4920, 'proof': 3434, 'middle': 2833, 'east': 1407, 'jesus': 2399, 'hed': 2072, 'involves': 2348, 'tracy': 4546, 'jobs': 2406, 'traveling': 4568, 'eaten': 1412, 'rocky': 3723, 'river': 3707, 'identify': 2216, 'site': 4005, 'mask': 2752, 'english': 1483, 'endure': 1475, 'empty': 1465, 'erotic': 1515, 'energy': 1478, 'exercise': 1568, 'awe': 370, 'usa': 4691, 'blowing': 515, 'designs': 1204, 'advertising': 132, 'decades': 1145, 'following': 1774, 'facts': 1624, 'screens': 3832, 'et': 1526, 'pair': 3176, 'died': 1244, 'carefully': 689, 'regular': 3592, 'swimming': 4338, 'relevant': 3604, 'stanwyck': 4149, 'lover': 2672, 'subtlety': 4261, 'receive': 3563, 'sends': 3876, 'encounters': 1467, 'mouth': 2920, 'shell': 3927, 'reached': 3537, 'success': 4265, 'jail': 2376, 'needs': 2990, 'warner': 4799, 'elaborate': 1439, 'subjects': 4254, 'achieve': 92, 'alfred': 181, 'hints': 2113, 'jazz': 2387, 'ring': 3698, 'uk': 4626, 'based': 404, 'dramas': 1347, 'etc': 1527, 'tiresome': 4502, 'above': 68, 'priest': 3392, 'asian': 314, 'raised': 3508, 'savage': 3793, 'masters': 2761, 'emotionally': 1460, 'matched': 2763, 'failing': 1627, 'slightest': 4028, 'intrigue': 2333, 'survival': 4320, 'disappeared': 1271, 'potentially': 3356, 'effective': 1429, 'unnecessary': 4672, 'transition': 4561, 'hollywoods': 2138, 'tricks': 4583, 'speed': 4103, 'indie': 2276, 'wacky': 4769, 'throw': 4479, 'redemption': 3578, 'clips': 852, 'amongst': 218, 'credibility': 1047, 'superhero': 4299, 'perform': 3227, 'endless': 1473, 'upon': 4684, 'weapons': 4829, 'breathtaking': 574, 'tension': 4404, 'stands': 4147, 'priceless': 3390, 'craig': 1030, 'limited': 2606, 'liners': 2611, 'plan': 3287, 'da': 1094, 'commercials': 903, 'issues': 2365, 'storyline': 4208, 'acceptable': 81, 'normally': 3034, 'kingdom': 2480, 'australia': 356, 'continuity': 972, 'destroyed': 1214, 'settings': 3901, 'standard': 4144, 'blockbuster': 509, 'dear': 1140, 'darker': 1116, 'window': 4894, 'website': 4834, 'missed': 2867, 'productions': 3420, 'titles': 4506, '1980s': 21, 'firstly': 1737, 'smaller': 4034, 'scale': 3802, 'executed': 1565, 'rings': 3699, 'notice': 3048, 'mirror': 2861, 'hong': 2149, 'kong': 2494, 'yesterday': 4983, 'evening': 1534, 'placed': 3283, 'whoever': 4872, 'disjointed': 1287, 'con': 928, 'jon': 2416, 'keaton': 2448, 'jeff': 2390, 'gotta': 1946, 'library': 2589, 'lawrence': 2539, 'offered': 3088, 'anna': 245, 'scrooge': 3837, 'locations': 2636, 'authentic': 358, 'understated': 4646, 'bob': 524, 'lust': 2689, 'flashbacks': 1747, 'dickens': 1240, 'flashback': 1746, 'sincere': 3991, 'apparent': 269, 'forgive': 1795, 'gary': 1873, 'promise': 3430, 'promising': 3433, '1996': 26, 'formula': 1802, 'virus': 4752, 'building': 615, 'led': 2558, 'mildly': 2840, 'hidden': 2096, 'potential': 3355, 'falls': 1640, '1st': 28, 'makers': 2715, 'chose': 804, 'cared': 685, 'grow': 1982, 'kudos': 2497, 'lacked': 2503, 'bride': 577, 'dealing': 1136, 'farce': 1654, 'bumbling': 622, 'kung': 2498, 'complaint': 920, 'physically': 3263, 'sleeping': 4025, 'desperation': 1210, 'claims': 830, 'equivalent': 1512, 'horse': 2170, 'unfortunate': 4653, 'lena': 2568, 'hank': 2024, 'faults': 1669, 'appropriate': 283, 'therefore': 4439, 'rules': 3754, 'succeed': 4262, 'reaches': 3538, 'rid': 3690, 'friendship': 1838, 'warmth': 4796, 'recognition': 3568, 'watches': 4814, 'lying': 2690, 'commit': 904, 'lights': 2597, 'describes': 1196, 'requires': 3642, 'respect': 3652, 'service': 3896, 'secret': 3849, 'chases': 771, 'hall': 2009, 'punch': 3466, 'torture': 4529, 'hated': 2047, 'terrorists': 4414, 'adam': 111, 'sandler': 3781, 'comedian': 887, 'jealous': 2388, 'obnoxious': 3067, 'remotely': 3623, 'hide': 2097, 'danger': 1109, 'turning': 4608, 'winner': 4897, 'loser': 2655, 'technically': 4382, 'steps': 4177, 'twisted': 4618, 'alert': 178, 'cheesy': 781, 'hot': 2174, 'jump': 2429, 'wore': 4939, 'outfit': 3144, 'buff': 611, 'costs': 1004, 'chased': 770, 'island': 2361, 'connection': 946, 'serve': 3893, 'respected': 3653, 'inept': 2281, 'wells': 4845, 'appeared': 276, 'page': 3167, 'aid': 160, 'shoot': 3942, 'drivel': 1364, 'delivered': 1170, 'humour': 2194, 'maker': 2714, 'jake': 2377, 'bothered': 549, 'presented': 3376, 'york': 4985, 'focuses': 1768, 'alien': 183, 'suck': 4269, 'mixed': 2877, 'stargate': 4151, 'boot': 538, 'describe': 1194, 'mentions': 2813, 'join': 2412, 'suits': 4287, 'wandering': 4785, 'research': 3644, 'base': 402, 'broke': 593, 'remarkable': 3613, 'horribly': 2164, '13th': 5, 'fame': 1642, 'teenagers': 4391, 'dress': 1357, 'extras': 1608, 'model': 2880, 'orson': 3132, 'welles': 4844, 'central': 735, 'park': 3190, 'regret': 3591, 'nowhere': 3056, 'noir': 3023, 'secrets': 3852, 'shadows': 3913, 'shorts': 3948, 'analysis': 224, 'associated': 327, 'heat': 2067, 'roman': 3731, 'mob': 2879, 'wars': 4804, 'elizabeth': 1445, 'curse': 1086, 'golden': 1934, 'studios': 4241, 'deeper': 1155, 'despair': 1207, 'kicked': 2461, 'ii': 2226, 'sneak': 4043, 'bullet': 620, 'path': 3209, 'twilight': 4614, 'zone': 4999, 'satire': 3788, 'christopher': 811, 'contains': 964, 'statement': 4162, 'concerning': 933, 'psychotic': 3459, 'double': 1331, 'lawyer': 2541, 'escape': 1517, 'remote': 3622, 'destroying': 1215, 'dropped': 1370, 'named': 2961, 'painted': 3174, 'directly': 1263, 'interpretation': 2328, 'shark': 3921, 'trial': 4580, 'suggests': 4282, 'carrying': 701, 'pamela': 3179, 'fix': 1744, 'learns': 2553, 'tooth': 4524, 'fate': 1665, 'generous': 1886, 'memories': 2803, 'nightmares': 3015, 'category': 718, 'senseless': 3878, 'device': 1227, 'scripted': 3835, 'dialogues': 1235, 'chuck': 812, 'offers': 3090, 'inventive': 2341, 'nasty': 2968, 'generic': 1885, 'reasonably': 3559, 'atmospheric': 334, 'motion': 2913, 'appearance': 274, 'threatening': 4468, 'movements': 2924, 'location': 2635, 'anne': 246, 'warn': 4797, 'concept': 930, 'execution': 1566, 'nonsense': 3030, 'corrupt': 1001, '20': 29, 'hollow': 2135, 'devoted': 1231, 'displayed': 1292, 'fascinating': 1658, 'props': 3439, 'built': 618, 'notion': 3050, 'possibility': 3349, 'edited': 1420, 'random': 3514, 'historically': 2120, 'morning': 2906, 'unlikely': 4671, 'eva': 1531, 'produced': 3414, 'motives': 2916, 'ludicrous': 2685, 'network': 3000, 'stranger': 4213, 'jumps': 2432, 'suspenseful': 4331, 'dialogs': 1233, 'worthless': 4954, 'figured': 1712, 'expected': 1577, 'saving': 3797, 'alan': 171, 'stole': 4194, 'concerned': 932, 'via': 4726, 'poetic': 3313, 'deserved': 1200, 'wisdom': 4902, 'refreshing': 3586, 'leaves': 2556, 'doomed': 1327, 'gritty': 1977, 'impressed': 2251, 'collection': 874, 'denzel': 1181, 'washington': 4806, 'exceptional': 1558, 'kidnapped': 2466, 'succeeds': 4264, 'tracks': 4545, 'unsettling': 4679, 'depressing': 1188, 'ruins': 3752, 'forty': 1807, 'academy': 77, 'awards': 367, 'admittedly': 123, 'ted': 4386, 'kicks': 2463, 'writes': 4970, 'overlook': 3153, 'ordinary': 3128, 'push': 3477, 'peoples': 3222, 'dare': 1113, 'continued': 970, '20th': 38, 'ian': 2209, 'stereotypical': 4180, 'entertain': 1497, 'stinker': 4191, 'captain': 674, 'laws': 2540, 'adequate': 120, 'cult': 1077, 'pitch': 3279, 'computer': 927, 'sheer': 3925, 'explosions': 1597, 'generated': 1882, 'imagery': 2234, 'intriguing': 2335, 'amazingly': 210, 'cars': 702, 'train': 4556, 'raising': 3509, 'crying': 1074, 'decade': 1144, 'sentence': 3881, 'satisfy': 3790, 'gundam': 1997, 'depicted': 1183, 'rise': 3702, 'striking': 4226, 'coherent': 871, 'grim': 1974, 'shine': 3931, 'sexuality': 3909, 'hundreds': 2196, 'drug': 1373, 'staff': 4138, 'illegal': 2229, 'legs': 2566, 'phone': 3255, 'frankly': 1823, '50s': 52, 'blob': 507, 'halloween': 2010, 'bigger': 479, 'cameron': 661, 'plots': 3310, 'billy': 482, 'lower': 2677, 'artist': 307, 'exploration': 1593, 'wreck': 4965, 'searching': 3842, 'occurred': 3077, 'boat': 523, 'ireland': 2352, 'april': 284, 'developed': 1223, 'hopeless': 2158, 'ship': 3934, 'newspaper': 3006, 'planned': 3290, 'waters': 4817, 'attempted': 341, 'holes': 2133, 'calls': 654, 'california': 650, 'miles': 2843, 'severe': 3906, 'ice': 2210, 'causing': 726, 'suffered': 4276, 'gain': 1863, 'metal': 2823, 'added': 116, 'molly': 2884, 'brown': 601, 'thomas': 4458, 'afterwards': 145, 'survived': 4322, 'canadian': 667, 'mrs': 2930, 'furthermore': 1854, 'smoking': 4040, 'manhattan': 2726, 'saved': 3795, 'cost': 1003, 'womens': 4924, 'financial': 1725, 'security': 3854, 'wished': 4905, 'dinner': 1254, 'cross': 1066, 'reactions': 3542, 'fifteen': 1706, 'explored': 1595, 'viewed': 4737, 'bottom': 551, 'ocean': 3079, 'epic': 1506, 'novels': 3053, 'treats': 4575, 'award': 366, 'appreciated': 280, 'alas': 172, 'engage': 1479, 'profound': 3423, 'worthwhile': 4955, 'experiences': 1582, 'sloppy': 4030, 'structure': 4233, 'lessons': 2578, 'opened': 3113, 'closed': 854, 'matthew': 2772, 'walker': 4778, 'performed': 3230, 'experiments': 1584, 'foster': 1809, 'demons': 1178, 'charismatic': 763, 'uwe': 4703, 'boll': 529, 'generations': 1884, 'stereotype': 4178, 'vote': 4766, 'brazil': 568, 'thrillers': 4473, 'political': 3324, 'experiment': 1583, 'perfection': 3225, 'kennedy': 2454, 'investigate': 2342, 'per': 3223, 'investigation': 2343, 'thoroughly': 4459, 'composed': 926, 'shadow': 3912, 'ruthless': 3764, 'depicting': 1184, 'mail': 2706, 'ridiculously': 3694, 'wanna': 4786, 'burns': 628, 'advice': 133, 'marie': 2737, 'tea': 4373, 'butt': 638, 'familys': 1646, 'wonderfully': 4929, 'spirited': 4114, 'hip': 2114, 'clever': 841, 'wit': 4908, 'initial': 2290, 'shakespeare': 3915, 'restored': 3659, 'print': 3399, 'dancer': 1104, 'dancing': 1107, 'loyal': 2679, 'matches': 2764, 'romance': 3732, 'harder': 2035, 'mysteries': 2954, 'scare': 3803, 'committed': 905, 'mass': 2753, 'swedish': 4335, 'parallel': 3185, 'realism': 3549, 'existed': 1570, 'florida': 1761, 'gandhi': 1866, 'hole': 2132, 'talks': 4361, 'afford': 138, 'spare': 4093, 'drags': 1345, 'bought': 552, 'sole': 4055, 'outer': 3143, 'anywhere': 263, 'photographer': 3259, 'topic': 4526, 'legendary': 2565, 'unforgettable': 4652, 'pop': 3330, 'fear': 1676, '70s': 56, 'connected': 945, 'tied': 4489, 'horrific': 2166, 'singer': 3993, 'band': 391, 'context': 968, 'exact': 1550, 'closely': 855, 'obsession': 3070, 'internet': 2327, 'backdrop': 379, 'hint': 2112, 'strongly': 4231, '14': 6, 'lucky': 2683, 'swim': 4337, 'combined': 885, 'inspiring': 2302, 'individuals': 2278, 'enter': 1494, 'alice': 182, '1983': 22, 'abusive': 75, 'margaret': 2735, 'dawn': 1127, 'susan': 4326, 'anderson': 227, '1973': 19, 'paced': 3162, 'purple': 3473, 'involve': 2345, 'ah': 158, 'jackson': 2375, 'album': 175, 'breaking': 570, 'dances': 1106, 'keeping': 2450, '30s': 44, 'runs': 3757, 'planet': 3289, 'starting': 4158, 'discovers': 1281, 'abandoned': 62, 'picks': 3268, 'mentally': 2809, 'grab': 1949, 'flies': 1756, 'spends': 4107, '25': 40, 'skip': 4016, 'ray': 3533, 'bakshi': 386, 'streep': 4215, 'danes': 1108, 'spin': 4112, 'broadway': 592, 'hopes': 2159, 'worried': 4949, 'hates': 2048, 'forces': 1788, 'caring': 691, 'reviewer': 3677, 'helicopter': 2076, 'fly': 1763, 'unfolds': 4651, 'kitchen': 2485, '2nd': 41, 'picking': 3267, 'executive': 1567, 'holy': 2140, 'tony': 4521, 'direct': 1258, 'uncle': 4636, 'dinosaurs': 1256, 'dinosaur': 1255, 'voiced': 4762, 'responsible': 3656, 'rabbit': 3498, 'crowd': 1067, 'apes': 267, 'mentioning': 2812, 'religion': 3607, 'foreign': 1790, 'food': 1778, 'idiot': 2218, 'overacting': 3149, 'fool': 1779, 'student': 4238, 'correct': 1000, 'poster': 3353, 'frustrated': 1842, 'andy': 230, 'saves': 3796, 'sympathetic': 4342, 'intellectual': 2312, 'craft': 1028, 'pseudo': 3454, 'handed': 2016, 'mild': 2839, 'stupidity': 4248, 'shoes': 3941, 'staring': 4152, 'ego': 1435, 'overwhelming': 3157, 'japan': 2381, 'pile': 3275, 'sell': 3871, 'arm': 292, 'bo': 521, 'consistent': 953, 'hitler': 2124, 'yelling': 4980, 'spot': 4131, 'appearing': 277, 'riding': 3695, 'idiots': 2220, 'nicholson': 3011, 'pg': 3250, 'incoherent': 2265, 'sport': 4129, 'soldier': 4053, 'worry': 4950, 'annoyed': 248, 'southern': 4088, 'accent': 78, 'branagh': 564, 'hideous': 2098, 'bone': 533, 'solution': 4059, 'justify': 2439, 'strangely': 4212, 'partly': 3197, 'naive': 2958, 'brave': 567, 'troubled': 4593, 'wins': 4899, 'replaced': 3634, 'rival': 3706, 'fever': 1699, 'criticism': 1063, 'naturally': 2974, 'warm': 4794, 'williams': 4888, 'practice': 3363, 'strike': 4224, 'angels': 234, 'subject': 4253, 'adaptation': 113, 'selling': 3873, 'ruby': 3749, 'racial': 3501, 'educational': 1425, 'consider': 949, 'handful': 2017, 'eve': 1532, 'edie': 1419, 'duo': 1386, 'prince': 3396, 'cable': 644, 'hanging': 2023, 'weeks': 4839, 'abc': 63, 'everyones': 1543, 'warned': 4798, 'tape': 4365, 'pleased': 3305, 'product': 3418, 'jones': 2418, 'entertained': 1498, 'overly': 3155, 'riveting': 3708, 'complex': 923, 'loaded': 2632, 'jamie': 2379, 'lifetime': 2594, 'justin': 2440, 'matt': 2768, 'driver': 1366, 'maggie': 2702, 'lesson': 2577, 'neat': 2982, 'wasting': 4810, 'attempting': 342, 'individual': 2277, 'fare': 1655, 'nostalgic': 3039, 'simplicity': 3984, 'characterization': 759, 'edge': 1418, 'secretary': 3850, 'hugh': 2186, 'card': 681, 'ambitious': 211, 'surprisingly': 4316, 'clues': 865, 'guilt': 1994, 'pretending': 3382, 'beats': 426, 'outcome': 3142, 'brooklyn': 595, 'celebrity': 729, 'critics': 1064, 'rebel': 3561, 'deliver': 1169, 'useless': 4695, 'critical': 1062, 'fond': 1776, 'noticed': 3049, 'petty': 3249, 'careers': 687, 'report': 3635, 'skill': 4013, 'ashley': 313, 'calm': 655, 'surprises': 4314, 'che': 773, 'revolution': 3680, 'revolutionary': 3681, 'shirt': 3937, 'industry': 2280, 'captured': 677, 'cuba': 1075, 'disturbed': 1299, 'haunting': 2051, 'damon': 1101, 'cameo': 657, 'depicts': 1186, 'germans': 1897, 'ruth': 3763, 'funeral': 1849, 'maria': 2736, 'forbidden': 1785, 'tradition': 4549, 'interviews': 2330, 'journalist': 2420, 'prisoner': 3402, 'factory': 1623, 'bold': 528, 'channels': 754, 'lie': 2590, 'finding': 1727, 'roberts': 3714, 'liking': 2604, 'texas': 4418, 'teenage': 4389, 'victims': 4730, 'significant': 3972, 'flash': 1745, 'throat': 4476, 'someones': 4065, 'lips': 2615, 'ripped': 3701, 'embarrassing': 1454, 'chapter': 757, 'neil': 2995, 'beloved': 461, 'unpleasant': 4674, 'unfunny': 4655, 'nuts': 3064, 'wounded': 4961, 'mission': 2870, '3000': 43, 'altogether': 202, 'navy': 2976, 'ben': 463, 'stiller': 4189, 'outrageous': 3145, 'pushing': 3479, 'dollar': 1314, 'pot': 3354, 'legal': 2563, 'satan': 3787, 'whilst': 4869, 'sign': 3970, 'link': 2613, 'private': 3404, 'lousy': 2667, 'useful': 4694, 'impression': 2252, 'intention': 2319, 'inevitably': 2283, 'franco': 1820, 'lake': 2509, 'bay': 416, 'prepared': 3371, 'sarah': 3785, 'heck': 2071, 'stress': 4220, 'exceptionally': 1559, 'tunes': 4603, 'alcohol': 176, 'toys': 4543, 'damage': 1099, 'africa': 141, 'represented': 3638, 'nelson': 2997, 'indians': 2275, 'portrait': 3339, 'horrid': 2165, 'errors': 1516, 'accept': 80, 'hanks': 2025, 'teacher': 4375, 'sea': 3838, 'consequences': 947, 'argument': 291, 'adventures': 131, 'waves': 4819, 'wayne': 4821, 'fourth': 1813, 'bollywood': 530, 'stood': 4199, 'terrific': 4409, 'prime': 3395, 'test': 4416, 'holmes': 2139, 'burt': 629, 'accents': 79, 'distinct': 1296, 'sacrifice': 3766, 'propaganda': 3435, 'singers': 3994, 'bands': 392, 'wave': 4818, 'sing': 3992, 'rights': 3697, 'crash': 1033, 'terry': 4415, 'classics': 837, 'mini': 2854, 'bear': 420, 'evidence': 1546, 'bears': 421, 'stinks': 4192, 'mental': 2808, 'table': 4346, 'noise': 3024, 'deliberately': 1166, 'removed': 3624, 'conceived': 929, 'shape': 3919, 'hilariously': 2107, 'foul': 1810, 'ought': 3138, 'vhs': 4725, 'matrix': 2767, 'humble': 2191, 'luckily': 2682, 'wondering': 4930, 'unit': 4663, 'empire': 1464, 'leo': 2571, 'ad': 110, 'max': 2774, 'assault': 324, 'offering': 3089, 'citizen': 824, 'kane': 2442, 'opinions': 3119, 'colonel': 876, 'realized': 3553, 'appreciation': 281, 'spoiled': 4122, 'atlantis': 332, '18': 10, 'gem': 1877, 'vice': 4727, '80': 58, 'command': 897, 'blah': 496, 'bullets': 621, 'guilty': 1995, 'sally': 3776, 'whereas': 4865, 'dragged': 1343, 'underrated': 4642, 'cox': 1026, 'travesty': 4570, 'saga': 3773, 'modesty': 2883, 'hat': 2045, 'button': 639, '3rd': 47, 'higher': 2101, 'notch': 3043, 'critic': 1061, 'theyve': 4446, 'cake': 648, 'alternate': 200, 'blues': 519, 'cave': 727, 'event': 1535, 'roots': 3738, '40s': 49, 'multi': 2935, 'versions': 4721, 'defeat': 1157, 'bet': 470, 'theatre': 4429, 'depressed': 1187, 'lifestyle': 2593, 'trail': 4553, 'hitting': 2126, 'prize': 3405, 'proceeds': 3411, 'settle': 3902, 'larry': 2520, 'names': 2963, 'appearances': 275, 'hal': 2006, 'gang': 1867, 'stock': 4193, 'stunt': 4245, 'competent': 917, 'deaf': 1134, 'nomination': 3026, 'bag': 384, 'vietnam': 4735, 'maintain': 2710, 'utter': 4701, 'complain': 919, 'technique': 4383, 'mysterious': 2955, 'understandable': 4644, 'leonard': 2572, 'barry': 401, 'triumph': 4590, 'enters': 1496, 'duty': 1390, 'developing': 1224, 'available': 361, 'doom': 1326, 'robbins': 3712, 'capture': 676, 'clip': 851, 'hadnt': 2004, 'faithful': 1634, 'parent': 3187, 'timing': 4498, 'jaws': 2385, 'whale': 4857, 'mate': 2765, 'seeks': 3860, 'exaggerated': 1552, 'vengeance': 4719, 'ass': 323, 'dave': 1123, 'fatal': 1664, 'chaos': 755, 'notable': 3041, 'blew': 505, 'chain': 741, 'nail': 2957, 'locked': 2637, 'albeit': 173, 'notably': 3042, 'steel': 4173, 'chair': 742, 'santa': 3783, 'ear': 1397, 'louise': 2666, 'disbelief': 1277, 'vampires': 4712, '16': 8, 'teenager': 4390, 'werewolf': 4850, 'reaction': 3541, 'moon': 2900, 'alexander': 180, '1980': 20, 'domestic': 1318, 'boom': 537, 'depression': 1189, 'conspiracy': 956, 'hysterical': 2208, 'greek': 1970, 'lacks': 2505, 'narration': 2965, 'dynamic': 1394, 'trained': 4557, 'snake': 4042, 'sin': 3988, 'li': 2587, 'combat': 882, 'icon': 2211, 'kidding': 2465, 'gift': 1906, 'bodies': 526, 'unaware': 4632, 'suspicious': 4332, 'insult': 2309, 'unbelievably': 4635, 'understanding': 4645, 'controversial': 978, 'driving': 1368, 'constant': 957, 'selfish': 3870, 'hearing': 2063, 'brenda': 575, 'birthday': 487, 'lloyd': 2630, 'risk': 3704, 'daring': 1114, 'delivering': 1171, 'belong': 459, 'adorable': 124, 'theyd': 4443, 'spoiler': 4123, 'feed': 1683, 'eating': 1413, 'responsibility': 3655, 'cusack': 1088, 'beating': 425, 'stilted': 4190, 'twin': 4615, 'cooper': 990, 'throws': 4482, 'bottle': 550, 'virgin': 4749, 'lonely': 2643, 'enthusiasm': 1501, 'definition': 1163, 'methods': 2825, 'jay': 2386, 'encounter': 1466, 'catherine': 719, 'dignity': 1252, 'inspiration': 2300, 'months': 2897, 'cheese': 780, 'wholly': 4874, 'ruin': 3750, 'disease': 1285, 'melting': 2799, 'satisfied': 3789, 'flesh': 1753, 'drink': 1361, 'terror': 4412, 'perry': 3237, 'judy': 2426, 'blake': 498, 'rick': 3689, 'nurse': 3063, 'screams': 3828, 'models': 2881, 'estate': 1525, 'accused': 91, 'creators': 1044, 'pride': 3391, 'nonsensical': 3031, 'upset': 4687, 'response': 3654, 'felix': 1689, 'crimes': 1056, 'prefer': 3368, 'suffer': 4275, 'recognized': 3570, 'hart': 2041, 'joan': 2404, 'construction': 960, 'cole': 873, 'checking': 778, 'armed': 293, 'poetry': 3314, 'market': 2740, 'ham': 2011, 'reads': 3545, 'increasingly': 2268, 'levels': 2585, 'rooms': 3736, 'realise': 3548, 'suited': 4286, 'transfer': 4559, 'remind': 3618, 'diana': 1237, 'wind': 4893, 'ha': 2002, 'ignore': 2224, 'kenneth': 2455, 'motivations': 2915, 'orange': 3125, 'factor': 1622, 'laughed': 2532, 'directorial': 1265, 'displays': 1293, 'hearted': 2065, 'tonight': 4519, 'glimpse': 1919, 'beliefs': 452, 'eric': 1514, 'stellar': 4174, 'chilling': 794, 'inner': 2292, 'web': 4833, 'amanda': 205, 'mafia': 2700, 'godfather': 1927, 'rule': 3753, 'tough': 4537, 'shelf': 3926, 'fortunately': 1805, 'dislike': 1288, 'gas': 1874, 'raymond': 3534, 'advanced': 128, 'richardson': 3688, 'reminiscent': 3621, 'conventional': 979, 'pearl': 3220, 'secretly': 3851, 'confusion': 943, 'popularity': 3334, 'thick': 4447, 'virginia': 4750, 'baker': 385, 'discovery': 1282, 'falk': 1636, 'confused': 941, 'false': 1641, 'incomprehensible': 2267, 'hbo': 2055, 'hills': 2109, 'vaguely': 4706, 'carried': 698, 'landscape': 2513, 'franchise': 1817, 'cinemas': 817, 'successfully': 4267, 'needless': 2989, 'illogical': 2231, 'descent': 1193, 'lazy': 2543, 'devoid': 1230, 'bargain': 400, 'empathy': 1462, 'slap': 4018, 'extent': 1605, 'earned': 1401, 'guarantee': 1987, 'sunday': 4293, 'bus': 631, 'tour': 4538, 'seventies': 3904, 'lab': 2501, 'sticks': 4186, 'politically': 3325, 'dreary': 1356, 'nearby': 2980, 'prostitute': 3440, 'affected': 137, 'centered': 733, 'blows': 517, 'surviving': 4323, 'pacino': 3164, 'mayor': 2777, 'fonda': 1777, 'manipulative': 2727, 'mistress': 2874, 'pulp': 3465, 'kiss': 2483, 'granted': 1957, 'rush': 3759, 'prior': 3400, 'blend': 504, 'exposure': 1599, 'miscast': 2862, 'jenny': 2393, 'slave': 4022, 'improve': 2254, 'alcoholic': 177, 'dutch': 1389, 'ensues': 1493, 'freddy': 1826, 'currently': 1085, 'unbearable': 4633, 'jet': 2400, 'genres': 1889, 'method': 2824, 'featuring': 1681, 'oscars': 3134, 'somebody': 4062, 'month': 2896, 'kirk': 2482, 'heston': 2094, 'resources': 3651, 'bleak': 503, 'population': 3335, 'rain': 3506, 'theaters': 4428, 'misses': 2868, 'regardless': 3590, 'answers': 252, 'landing': 2512, 'contemporary': 965, 'marketing': 2741, 'solely': 4056, 'consists': 955, 'ears': 1402, 'stronger': 4230, 'fault': 1668, 'criminals': 1058, 'joey': 2408, 'burn': 625, 'arrived': 301, 'nancy': 2964, 'cultural': 1078, 'trashy': 4566, 'choices': 798, 'sandra': 3782, '1990': 24, 'performer': 3231, 'madonna': 2699, 'warren': 4801, 'beatty': 427, 'rendition': 3625, 'indian': 2274, 'mighty': 2836, 'rap': 3520, 'shed': 3924, 'board': 522, 'adapted': 114, 'audio': 354, 'notes': 3046, 'fighter': 1708, 'march': 2734, 'garbo': 1871, 'ned': 2986, 'goodness': 1938, 'wes': 4851, 'craven': 1034, 'guessing': 1991, 'ya': 4976, 'sold': 4052, 'souls': 4080, 'hire': 2116, 'pack': 3165, '1960s': 15, 'arrival': 299, 'wound': 4960, 'campbell': 663, 'fury': 1855, 'rolled': 3729, 'mars': 2746, 'warriors': 4803, 'childish': 791, 'masterpieces': 2760, 'aforementioned': 139, 'suitable': 4285, 'suffice': 4279, 'horrendous': 2162, 'dub': 1378, 'robin': 3715, 'hello': 2078, 'adams': 112, 'differences': 1247, 'vision': 4754, 'extended': 1604, 'achieved': 93, 'annie': 247, 'current': 1084, 'walk': 4775, 'loosely': 2651, 'lion': 2614, 'yellow': 4981, 'creator': 1043, 'chief': 788, 'masses': 2755, 'global': 1920, 'rocket': 3721, 'teachers': 4376, 'crush': 1072, 'expressed': 1601, 'sexually': 3910, 'smiling': 4037, 'trio': 4587, 'remembered': 3617, 'demented': 1176, 'creep': 1051, 'matthau': 2771, 'battles': 415, 'houses': 2180, 'akshay': 169, 'signed': 3971, 'stunts': 4246, 'kapoor': 2443, 'ridden': 3691, 'americas': 215, 'resulting': 3661, 'capital': 673, 'size': 4012, '2002': 32, 'tiger': 4491, 'stealing': 4171, 'attacked': 338, 'root': 3737, 'jumping': 2431, 'donna': 1323, 'frequently': 1832, 'sutherland': 4333, 'passionate': 3206, 'strikes': 4225, 'pulls': 3464, 'happily': 2030, 'occasion': 3073, 'burton': 630, 'lone': 2642, 'warrior': 4802, 'cameos': 658, 'kissing': 2484, 'nights': 3016, 'scores': 3823, 'mgm': 2828, 'fay': 1674, 'johnny': 2410, 'andrews': 229, 'suspects': 4328, 'knock': 2488, 'tear': 4379, 'authority': 360, 'scheme': 3812, 'monk': 2889, 'focusing': 1769, 'anger': 235, 'silence': 3974, 'glass': 1917, 'disappear': 1270, 'suffers': 4278, 'peters': 3248, 'round': 3742, 'remaining': 3610, 'angela': 232, 'operation': 3117, 'mindless': 2851, 'designed': 1203, '2007': 37, 'graphic': 1958, 'freak': 1824, 'waited': 4771, 'behave': 445, 'killings': 2473, 'chest': 784, 'term': 4405, '1984': 23, 'specifically': 4100, 'accomplished': 87, 'sum': 4289, 'fortune': 1806, 'providing': 3451, 'spy': 4135, 'messages': 2820, 'tends': 4402, 'sentimental': 3882, 'cell': 730, 'sits': 4006, 'deadly': 1133, 'handled': 2019, 'columbo': 881, 'smoke': 4039, 'health': 2060, 'bacall': 377, 'succeeded': 4263, 'attend': 344, 'described': 1195, 'safety': 3772, 'letter': 2581, 'slaughter': 4021, 'proud': 3444, 'awfully': 373, 'poignant': 3315, 'terrifying': 4410, 'beast': 422, 'avoided': 364, 'represents': 3639, 'brad': 560, 'gender': 1878, 'integrity': 2311, 'demand': 1174, 'marty': 2749, 'buck': 605, 'dvds': 1392, 'teach': 4374, 'bucks': 606, 'ties': 4490, 'vague': 4705, 'meaningless': 2782, 'likewise': 2603, 'cannibal': 669, 'importantly': 2248, 'square': 4136, 'persons': 3244, 'intent': 2318, 'chess': 783, 'basis': 408, 'cia': 814, 'accompanied': 86, 'breasts': 572, 'bergman': 466, 'builds': 617, 'splendid': 4119, 'fooled': 1780, 'magazine': 2701, 'directions': 1262, 'moronic': 2907, 'wives': 4918, 'phantom': 3251, '60': 53, 'digital': 1251, 'required': 3641, 'switch': 4339, 'hatred': 2049, 'limits': 2607, 'vast': 4716, 'trapped': 4564, 'civil': 826, 'ourselves': 3140, 'rangers': 3517, 'toy': 4542, '1999': 27, 'namely': 2962, 'packed': 3166, 'tons': 4520, 'pie': 3271, 'ships': 3935, 'dubbing': 1380, 'greed': 1968, 'greedy': 1969, 'grinch': 1975, 'lou': 2663, 'notorious': 3051, 'documentaries': 1306, 'sixties': 4011, 'pitt': 3280, 'wizard': 4919, 'june': 2433, 'horrifying': 2167, 'trite': 4589, 'finger': 1731, 'jeremy': 2394, 'develops': 1226, 'dressing': 1359, 'assigned': 325, 'quotes': 3497, 'oddly': 3081, 'monkeys': 2891, 'attracted': 349, 'communist': 907, 'hammer': 2014, 'dire': 1257, 'abysmal': 76, 'mtv': 2933, 'equipment': 1511, 'paranoia': 3186, 'convincingly': 986, 'cube': 1076, 'affect': 136, 'implausible': 2245, 'pushed': 3478, 'urban': 4688, 'tie': 4488, 'buried': 624, 'hop': 2154, 'listen': 2619, 'classical': 836, 'buffs': 612, 'michelle': 2830, 'patients': 3212, 'witness': 4914, 'dozens': 1339, 'edgar': 1417, 'centers': 734, 'poem': 3312, 'stevens': 4183, 'india': 2273, 'slapstick': 4019, 'tense': 4403, 'scope': 3821, 'destruction': 1216, 'plant': 3293, 'prisoners': 3403, 'blade': 495, 'training': 4558, 'established': 1524, 'official': 3094, 'divorce': 1301, 'royal': 3746, 'alongside': 196, 'contained': 963, 'ball': 388, 'lately': 2524, 'screenwriter': 3833, 'carradine': 695, 'bedroom': 437, 'dust': 1388, 'mistaken': 2872, 'closet': 858, 'shy': 3962, '13': 4, 'cg': 739, 'defend': 1158, 'contain': 962, 'trade': 4547, 'desired': 1206, 'lengthy': 2570, 'makeup': 2717, 'capturing': 679, 'shortly': 3947, 'undoubtedly': 4648, 'winds': 4895, 'helen': 2075, 'occasionally': 3075, 'secondly': 3847, 'clumsy': 866, 'benefit': 465, 'wondered': 4927, 'hang': 2022, 'aids': 161, 'shall': 3916, 'scarecrow': 3804, 'losers': 2656, 'uncomfortable': 4637, 'judging': 2425, 'lemmon': 2567, 'davies': 1125, 'linda': 2609, 'madness': 2698, 'abraham': 69, 'repeat': 3630, 'brains': 563, '2004': 34, 'stan': 4142, 'eyre': 1614, 'timothy': 4499, 'dalton': 1098, 'rochester': 3719, 'fashioned': 1660, 'nicholas': 3010, 'cage': 645, 'hopper': 2161, 'involvement': 2347, 'strictly': 4223, 'trees': 4577, 'corpse': 999, 'unseen': 4678, 'willis': 4890, '3d': 46, 'troubles': 4594, 'react': 3540, 'closest': 857, 'dated': 1119, 'mansion': 2731, 'jessica': 2398, 'dedicated': 1153, 'isolated': 2363, 'harvey': 2042, 'absence': 70, 'shocked': 3939, 'merits': 2817, 'brutally': 604, 'walken': 4777, 'caliber': 649, 'education': 1424, 'sidney': 3968, 'nevertheless': 3002, 'faster': 1662, 'trademark': 4548, 'players': 3299, 'property': 3438, 'solo': 4058, 'discuss': 1283, 'possessed': 3347, 'brando': 566, 'classes': 834, 'exposed': 1598, 'measure': 2786, 'ritter': 3705, 'highest': 2102, 'chicago': 785, 'jackie': 2374, 'holly': 2136, 'pleasantly': 3303, 'victoria': 4732, 'drew': 1360, 'hamlet': 2013, 'ellen': 1446, 'musicals': 2948, 'leg': 2562, 'scottish': 3825, 'bobby': 525, 'fisher': 1739, 'tad': 4347, 'wrestling': 4966, 'rats': 3531, 'instinct': 2308, 'achievement': 94, 'valuable': 4708, 'curious': 1083, 'universal': 4665, 'karloff': 2445, 'believing': 457, 'unintentional': 4658, 'raped': 3522, 'conflicts': 940, 'block': 508, 'godzilla': 1929, 'trick': 4582, 'comical': 894, 'mario': 2738, 'solve': 4060, 'importance': 2246, 'fish': 1738, 'quote': 3496, 'asleep': 320, 'omen': 3104, 'fx': 1858, 'drinking': 1362, 'pretend': 3381, 'miserably': 2864, 'amazed': 208, 'em': 1452, 'hudson': 2184, 'rotten': 3740, 'charlie': 765, 'fbi': 1675, 'host': 2173, 'emily': 1456, 'sadistic': 3768, 'similarly': 3980, 'court': 1020, 'agrees': 157, 'fetched': 1698, 'returning': 3667, 'blunt': 520, 'vacation': 4704, 'forms': 1801, 'latin': 2527, 'activities': 102, 'juvenile': 2441, 'unintentionally': 4659, 'arnold': 296, 'intentionally': 2320, 'crucial': 1068, 'talked': 4359, 'soccer': 4048, 'photos': 3261, 'lumet': 2688, 'eccentric': 1414, 'lisa': 2616, 'uninspired': 4657, 'portrays': 3344, 'airport': 167, 'brand': 565, 'bang': 393, '1972': 18, 'reynolds': 3684, 'khan': 2459, 'hired': 2117, 'charge': 761, 'shining': 3933, 'gadget': 1860, 'chick': 786, 'unoriginal': 4673, 'clint': 850, 'attached': 336, 'illness': 2230, 'chan': 746, 'sean': 3840, 'attorney': 348, 'grandmother': 1955, 'rural': 3758, 'thugs': 4484, 'incident': 2260, 'rising': 3703, 'superficial': 4298, 'fed': 1682, 'connect': 944, 'attitudes': 347, 'porno': 3337, 'midnight': 2834, 'captures': 678, 'assumed': 329, 'gifted': 1907, 'distracting': 1297, 'mel': 2796, 'psychiatrist': 3455, 'lincoln': 2608, 'competition': 918, 'lucy': 2684, 'reel': 3581, 'stanley': 4148, 'kubrick': 2496, 'clown': 862, 'north': 3036, 'schools': 3814, 'challenging': 744, 'safe': 3771, 'paulie': 3215, 'bird': 484, 'countless': 1012, 'bits': 490, 'ps': 3453, 'subplot': 4255, 'underlying': 4641, 'showdown': 3955, 'enjoys': 1489, 'specific': 4099, 'dentist': 1180, 'guessed': 1990, 'ninja': 3018, 'arguably': 289, 'niro': 3019, 'drops': 1372, 'montana': 2895, 'refuses': 3587, 'highlights': 2104, 'wrapped': 4964, 'laughably': 2531, 'hook': 2152, 'offended': 3085, 'laurel': 2537, 'hardy': 2037, 'oliver': 3102, 'junk': 2436, 'sullivan': 4288, 'boxing': 556, 'flynn': 1765, 'ward': 4793, 'iraq': 2351, 'chaplin': 756, 'online': 3109, 'homer': 2144, 'downhill': 1336, '1933': 12, 'elm': 1447, 'retired': 3664, 'compelled': 915, 'rubber': 3747, 'cleverly': 842, 'unreal': 4676, 'suspend': 4329, 'seagal': 3839, 'eastwood': 1409, 'robbery': 3711, 'brooks': 596, 'winter': 4900, 'pointed': 3317, 'odds': 3082, 'concert': 935, 'ginger': 1908, 'domino': 1319, 'surfing': 4311, 'crocodile': 1065, 'lasted': 2522, 'creativity': 1042, 'caine': 647, 'cats': 721, 'thru': 4483, 'promises': 3432, 'ethan': 1528, 'sellers': 3872, 'dolph': 1317, 'vegas': 4717, 'amitabh': 216, 'defense': 1159, 'sunshine': 4294, 'iran': 2350, 'jeffrey': 2391, 'scientific': 3817, 'wallace': 4782, 'mundane': 2938, 'counter': 1011, 'devils': 1229, 'tomatoes': 4515, 'beer': 439, 'formulaic': 1803, 'visits': 4756, 'taxi': 4371, 'psychic': 3456, 'signs': 3973, 'hamilton': 2012, 'witnessed': 4915, 'endings': 1472, 'voight': 4764, 'myers': 2952, 'witches': 4910, 'philosophy': 3254, 'baseball': 403, 'karen': 2444, 'nation': 2969, 'prequel': 3372, 'cagney': 646, 'bourne': 554, 'streisand': 4218, 'bell': 458, 'prom': 3429, 'resemblance': 3645, 'moody': 2899, 'basketball': 409, 'visible': 4753, 'possibilities': 3348, 'gabriel': 1859, 'ramones': 3512, 'morality': 2903, 'simmons': 3981, 'wendy': 4846, 'doc': 1303, 'astaire': 330, 'grey': 1973, 'polanski': 3321, 'disc': 1278, 'arrive': 300, 'resident': 3647, 'crack': 1027, 'iii': 2227, 'ignorant': 2223, 'simpson': 3987, 'destiny': 1212, 'elvira': 1450, 'invisible': 2344, 'rat': 3525, 'hyde': 2206, 'morris': 2908}\n"
     ]
    }
   ],
   "source": [
    "# len(train_X[100])\n",
    "print(vocabulary)"
   ]
  },
  {
   "cell_type": "markdown",
   "metadata": {},
   "source": [
    "## Step 3: Upload data to S3\n",
    "\n",
    "Now that we have created the feature representation of our training (and testing) data, it is time to start setting up and using the XGBoost classifier provided by SageMaker.\n",
    "\n",
    "### Writing the datasets\n",
    "\n",
    "The XGBoost classifier that we will be using requires the dataset to be written to a file and stored using Amazon S3. To do this, we will start by splitting the training dataset into two parts, the data we will train the model with and a validation set. Then, we will write those datasets to a file locally and then upload the files to S3. In addition, we will write the test set to a file and upload that file to S3. This is so that we can use SageMakers Batch Transform functionality to test our model once we've fit it."
   ]
  },
  {
   "cell_type": "code",
   "execution_count": 14,
   "metadata": {},
   "outputs": [],
   "source": [
    "import pandas as pd\n",
    "\n",
    "# Earlier we shuffled the training dataset so to make things simple we can just assign\n",
    "# the first 10 000 reviews to the validation set and use the remaining reviews for training.\n",
    "val_X = pd.DataFrame(train_X[:10000])\n",
    "train_X = pd.DataFrame(train_X[10000:])\n",
    "\n",
    "val_y = pd.DataFrame(train_y[:10000])\n",
    "train_y = pd.DataFrame(train_y[10000:])"
   ]
  },
  {
   "cell_type": "markdown",
   "metadata": {},
   "source": [
    "The documentation for the XGBoost algorithm in SageMaker requires that the training and validation datasets should contain no headers or index and that the label should occur first for each sample.\n",
    "\n",
    "For more information about this and other algorithms, the SageMaker developer documentation can be found on __[Amazon's website.](https://docs.aws.amazon.com/sagemaker/latest/dg/)__"
   ]
  },
  {
   "cell_type": "code",
   "execution_count": 15,
   "metadata": {},
   "outputs": [],
   "source": [
    "# First we make sure that the local directory in which we'd like to store the training and validation csv files exists.\n",
    "data_dir = '../data/sentiment_web_app'\n",
    "if not os.path.exists(data_dir):\n",
    "    os.makedirs(data_dir)"
   ]
  },
  {
   "cell_type": "code",
   "execution_count": 16,
   "metadata": {},
   "outputs": [],
   "source": [
    "pd.DataFrame(test_X).to_csv(os.path.join(data_dir, 'test.csv'), header=False, index=False)\n",
    "\n",
    "pd.concat([val_y, val_X], axis=1).to_csv(os.path.join(data_dir, 'validation.csv'), header=False, index=False)\n",
    "pd.concat([train_y, train_X], axis=1).to_csv(os.path.join(data_dir, 'train.csv'), header=False, index=False)"
   ]
  },
  {
   "cell_type": "code",
   "execution_count": 17,
   "metadata": {},
   "outputs": [],
   "source": [
    "# To save a bit of memory we can set text_X, train_X, val_X, train_y and val_y to None.\n",
    "\n",
    "test_X = train_X = val_X = train_y = val_y = None"
   ]
  },
  {
   "cell_type": "markdown",
   "metadata": {},
   "source": [
    "### Uploading Training / Validation files to S3\n",
    "\n",
    "Amazon's S3 service allows us to store files that can be accessed by both the built-in training models such as the XGBoost model we will be using as well as custom models such as the one we will see a little later.\n",
    "\n",
    "For this and most other tasks we will be doing using SageMaker, there are two methods we could use. The first is to use the low level functionality of SageMaker which requires knowing each of the objects involved in the SageMaker environment. The second is to use the high level functionality in which certain choices have been made on the user's behalf. The low level approach benefits from allowing the user a great deal of flexibility while the high level approach makes development much quicker. For our purposes we will opt to use the high level approach although using the low-level approach is certainly an option.\n",
    "\n",
    "Recall the method `upload_data()` which is a member of the object representing our current SageMaker session. What this method does is upload the data to the default bucket (which is created if it does not exist) into the path described by the key_prefix variable. To see this for yourself, once you have uploaded the data files, go to the S3 console and look to see where the files have been uploaded.\n",
    "\n",
    "For additional resources, see the __[SageMaker API documentation](http://sagemaker.readthedocs.io/en/latest/)__ and in addition the __[SageMaker Developer Guide.](https://docs.aws.amazon.com/sagemaker/latest/dg/)__"
   ]
  },
  {
   "cell_type": "code",
   "execution_count": 18,
   "metadata": {},
   "outputs": [],
   "source": [
    "import sagemaker\n",
    "\n",
    "session = sagemaker.Session() # Store the current SageMaker session\n",
    "\n",
    "# S3 prefix (which folder will we use)\n",
    "prefix = 'sentiment-web-app'\n",
    "\n",
    "test_location = session.upload_data(os.path.join(data_dir, 'test.csv'), key_prefix=prefix)\n",
    "val_location = session.upload_data(os.path.join(data_dir, 'validation.csv'), key_prefix=prefix)\n",
    "train_location = session.upload_data(os.path.join(data_dir, 'train.csv'), key_prefix=prefix)"
   ]
  },
  {
   "cell_type": "markdown",
   "metadata": {},
   "source": [
    "## Step 4: Creating the XGBoost model\n",
    "\n",
    "Now that the data has been uploaded it is time to create the XGBoost model. To begin with, we need to do some setup. At this point it is worth discussing what a model is in SageMaker. It is easiest to think of a model of comprising three different objects in the SageMaker ecosystem, which interact with one another.\n",
    "\n",
    "- Model Artifacts\n",
    "- Training Code (Container)\n",
    "- Inference Code (Container)\n",
    "\n",
    "The Model Artifacts are what you might think of as the actual model itself. For example, if you were building a neural network, the model artifacts would be the weights of the various layers. In our case, for an XGBoost model, the artifacts are the actual trees that are created during training.\n",
    "\n",
    "The other two objects, the training code and the inference code are then used to manipulate the training artifacts. More precisely, the training code uses the training data that is provided and creates the model artifacts, while the inference code uses the model artifacts to make predictions on new data.\n",
    "\n",
    "The way that SageMaker runs the training and inference code is by making use of Docker containers. For now, think of a container as being a way of packaging code up so that dependencies aren't an issue."
   ]
  },
  {
   "cell_type": "code",
   "execution_count": 19,
   "metadata": {},
   "outputs": [],
   "source": [
    "from sagemaker import get_execution_role\n",
    "\n",
    "# Our current execution role is required when creating the model as the training\n",
    "# and inference code will need to access the model artifacts.\n",
    "role = get_execution_role()"
   ]
  },
  {
   "cell_type": "code",
   "execution_count": 20,
   "metadata": {},
   "outputs": [
    {
     "name": "stderr",
     "output_type": "stream",
     "text": [
      "WARNING:root:There is a more up to date SageMaker XGBoost image. To use the newer image, please set 'repo_version'='0.90-1'. For example:\n",
      "\tget_image_uri(region, 'xgboost', '0.90-1').\n"
     ]
    }
   ],
   "source": [
    "# We need to retrieve the location of the container which is provided by Amazon for using XGBoost.\n",
    "# As a matter of convenience, the training and inference code both use the same container.\n",
    "from sagemaker.amazon.amazon_estimator import get_image_uri\n",
    "\n",
    "container = get_image_uri(session.boto_region_name, 'xgboost')"
   ]
  },
  {
   "cell_type": "code",
   "execution_count": 21,
   "metadata": {},
   "outputs": [],
   "source": [
    "# First we create a SageMaker estimator object for our model.\n",
    "xgb = sagemaker.estimator.Estimator(container, # The location of the container we wish to use\n",
    "                                    role,                                    # What is our current IAM Role\n",
    "                                    train_instance_count=1,                  # How many compute instances\n",
    "                                    train_instance_type='ml.m4.xlarge',      # What kind of compute instances\n",
    "                                    output_path='s3://{}/{}/output'.format(session.default_bucket(), prefix),\n",
    "                                    sagemaker_session=session)\n",
    "\n",
    "# And then set the algorithm specific parameters.\n",
    "xgb.set_hyperparameters(max_depth=5,\n",
    "                        eta=0.2,\n",
    "                        gamma=4,\n",
    "                        min_child_weight=6,\n",
    "                        subsample=0.8,\n",
    "                        silent=0,\n",
    "                        objective='binary:logistic',\n",
    "                        early_stopping_rounds=10,\n",
    "                        num_round=500)"
   ]
  },
  {
   "cell_type": "markdown",
   "metadata": {},
   "source": [
    "### Fit the XGBoost model\n",
    "\n",
    "Now that our model has been set up we simply need to attach the training and validation datasets and then ask SageMaker to set up the computation."
   ]
  },
  {
   "cell_type": "code",
   "execution_count": 22,
   "metadata": {},
   "outputs": [],
   "source": [
    "s3_input_train = sagemaker.s3_input(s3_data=train_location, content_type='csv')\n",
    "s3_input_validation = sagemaker.s3_input(s3_data=val_location, content_type='csv')"
   ]
  },
  {
   "cell_type": "code",
   "execution_count": 23,
   "metadata": {},
   "outputs": [
    {
     "name": "stdout",
     "output_type": "stream",
     "text": [
      "2020-02-10 11:30:48 Starting - Starting the training job...\n",
      "2020-02-10 11:30:49 Starting - Launching requested ML instances...\n",
      "2020-02-10 11:31:47 Starting - Preparing the instances for training.........\n",
      "2020-02-10 11:33:16 Downloading - Downloading input data\n",
      "2020-02-10 11:33:16 Training - Downloading the training image...\n",
      "2020-02-10 11:33:35 Training - Training image download completed. Training in progress.\u001b[34mArguments: train\u001b[0m\n",
      "\u001b[34m[2020-02-10:11:33:36:INFO] Running standalone xgboost training.\u001b[0m\n",
      "\u001b[34m[2020-02-10:11:33:36:INFO] File size need to be processed in the node: 238.5mb. Available memory size in the node: 8501.57mb\u001b[0m\n",
      "\u001b[34m[2020-02-10:11:33:36:INFO] Determined delimiter of CSV input is ','\u001b[0m\n",
      "\u001b[34m[11:33:36] S3DistributionType set as FullyReplicated\u001b[0m\n",
      "\u001b[34m[11:33:38] 15000x5000 matrix with 75000000 entries loaded from /opt/ml/input/data/train?format=csv&label_column=0&delimiter=,\u001b[0m\n",
      "\u001b[34m[2020-02-10:11:33:38:INFO] Determined delimiter of CSV input is ','\u001b[0m\n",
      "\u001b[34m[11:33:38] S3DistributionType set as FullyReplicated\u001b[0m\n",
      "\u001b[34m[11:33:39] 10000x5000 matrix with 50000000 entries loaded from /opt/ml/input/data/validation?format=csv&label_column=0&delimiter=,\u001b[0m\n",
      "\u001b[34m[11:33:43] src/tree/updater_prune.cc:74: tree pruning end, 1 roots, 34 extra nodes, 4 pruned nodes, max_depth=5\u001b[0m\n",
      "\u001b[34m[0]#011train-error:0.307133#011validation-error:0.3059\u001b[0m\n",
      "\u001b[34mMultiple eval metrics have been passed: 'validation-error' will be used for early stopping.\n",
      "\u001b[0m\n",
      "\u001b[34mWill train until validation-error hasn't improved in 10 rounds.\u001b[0m\n",
      "\u001b[34m[11:33:44] src/tree/updater_prune.cc:74: tree pruning end, 1 roots, 40 extra nodes, 10 pruned nodes, max_depth=5\u001b[0m\n",
      "\u001b[34m[1]#011train-error:0.293867#011validation-error:0.2963\u001b[0m\n",
      "\u001b[34m[11:33:45] src/tree/updater_prune.cc:74: tree pruning end, 1 roots, 36 extra nodes, 0 pruned nodes, max_depth=5\u001b[0m\n",
      "\u001b[34m[2]#011train-error:0.278533#011validation-error:0.2837\u001b[0m\n",
      "\u001b[34m[11:33:47] src/tree/updater_prune.cc:74: tree pruning end, 1 roots, 28 extra nodes, 8 pruned nodes, max_depth=5\u001b[0m\n",
      "\u001b[34m[3]#011train-error:0.279533#011validation-error:0.2837\u001b[0m\n",
      "\u001b[34m[11:33:48] src/tree/updater_prune.cc:74: tree pruning end, 1 roots, 44 extra nodes, 2 pruned nodes, max_depth=5\u001b[0m\n",
      "\u001b[34m[4]#011train-error:0.268067#011validation-error:0.275\u001b[0m\n",
      "\u001b[34m[11:33:49] src/tree/updater_prune.cc:74: tree pruning end, 1 roots, 32 extra nodes, 8 pruned nodes, max_depth=5\u001b[0m\n",
      "\u001b[34m[5]#011train-error:0.267933#011validation-error:0.2724\u001b[0m\n",
      "\u001b[34m[11:33:51] src/tree/updater_prune.cc:74: tree pruning end, 1 roots, 32 extra nodes, 2 pruned nodes, max_depth=5\u001b[0m\n",
      "\u001b[34m[6]#011train-error:0.2542#011validation-error:0.2607\u001b[0m\n",
      "\u001b[34m[11:33:52] src/tree/updater_prune.cc:74: tree pruning end, 1 roots, 26 extra nodes, 8 pruned nodes, max_depth=5\u001b[0m\n",
      "\u001b[34m[7]#011train-error:0.246267#011validation-error:0.2537\u001b[0m\n",
      "\u001b[34m[11:33:53] src/tree/updater_prune.cc:74: tree pruning end, 1 roots, 30 extra nodes, 12 pruned nodes, max_depth=5\u001b[0m\n",
      "\u001b[34m[8]#011train-error:0.238133#011validation-error:0.2445\u001b[0m\n",
      "\u001b[34m[11:33:54] src/tree/updater_prune.cc:74: tree pruning end, 1 roots, 42 extra nodes, 8 pruned nodes, max_depth=5\u001b[0m\n",
      "\u001b[34m[9]#011train-error:0.232667#011validation-error:0.2419\u001b[0m\n",
      "\u001b[34m[11:33:56] src/tree/updater_prune.cc:74: tree pruning end, 1 roots, 28 extra nodes, 8 pruned nodes, max_depth=5\u001b[0m\n",
      "\u001b[34m[10]#011train-error:0.225933#011validation-error:0.2379\u001b[0m\n",
      "\u001b[34m[11:33:57] src/tree/updater_prune.cc:74: tree pruning end, 1 roots, 28 extra nodes, 12 pruned nodes, max_depth=5\u001b[0m\n",
      "\u001b[34m[11]#011train-error:0.2186#011validation-error:0.2322\u001b[0m\n",
      "\u001b[34m[11:33:58] src/tree/updater_prune.cc:74: tree pruning end, 1 roots, 34 extra nodes, 8 pruned nodes, max_depth=5\u001b[0m\n",
      "\u001b[34m[12]#011train-error:0.214667#011validation-error:0.2251\u001b[0m\n",
      "\u001b[34m[11:34:00] src/tree/updater_prune.cc:74: tree pruning end, 1 roots, 38 extra nodes, 0 pruned nodes, max_depth=5\u001b[0m\n",
      "\u001b[34m[13]#011train-error:0.210467#011validation-error:0.2245\u001b[0m\n",
      "\u001b[34m[11:34:01] src/tree/updater_prune.cc:74: tree pruning end, 1 roots, 30 extra nodes, 4 pruned nodes, max_depth=5\u001b[0m\n",
      "\u001b[34m[14]#011train-error:0.204267#011validation-error:0.2187\u001b[0m\n",
      "\u001b[34m[11:34:02] src/tree/updater_prune.cc:74: tree pruning end, 1 roots, 26 extra nodes, 8 pruned nodes, max_depth=5\u001b[0m\n",
      "\u001b[34m[15]#011train-error:0.2018#011validation-error:0.2173\u001b[0m\n",
      "\u001b[34m[11:34:03] src/tree/updater_prune.cc:74: tree pruning end, 1 roots, 30 extra nodes, 10 pruned nodes, max_depth=5\u001b[0m\n",
      "\u001b[34m[16]#011train-error:0.200067#011validation-error:0.2131\u001b[0m\n",
      "\u001b[34m[11:34:05] src/tree/updater_prune.cc:74: tree pruning end, 1 roots, 34 extra nodes, 2 pruned nodes, max_depth=5\u001b[0m\n",
      "\u001b[34m[17]#011train-error:0.1966#011validation-error:0.2112\u001b[0m\n",
      "\u001b[34m[11:34:06] src/tree/updater_prune.cc:74: tree pruning end, 1 roots, 28 extra nodes, 10 pruned nodes, max_depth=5\u001b[0m\n",
      "\u001b[34m[18]#011train-error:0.193533#011validation-error:0.2085\u001b[0m\n",
      "\u001b[34m[11:34:07] src/tree/updater_prune.cc:74: tree pruning end, 1 roots, 40 extra nodes, 6 pruned nodes, max_depth=5\u001b[0m\n",
      "\u001b[34m[19]#011train-error:0.188867#011validation-error:0.2057\u001b[0m\n",
      "\u001b[34m[11:34:09] src/tree/updater_prune.cc:74: tree pruning end, 1 roots, 18 extra nodes, 8 pruned nodes, max_depth=5\u001b[0m\n",
      "\u001b[34m[20]#011train-error:0.185333#011validation-error:0.205\u001b[0m\n",
      "\u001b[34m[11:34:10] src/tree/updater_prune.cc:74: tree pruning end, 1 roots, 26 extra nodes, 6 pruned nodes, max_depth=5\u001b[0m\n",
      "\u001b[34m[21]#011train-error:0.1826#011validation-error:0.2019\u001b[0m\n",
      "\u001b[34m[11:34:11] src/tree/updater_prune.cc:74: tree pruning end, 1 roots, 30 extra nodes, 6 pruned nodes, max_depth=5\u001b[0m\n",
      "\u001b[34m[22]#011train-error:0.182267#011validation-error:0.2027\u001b[0m\n",
      "\u001b[34m[11:34:12] src/tree/updater_prune.cc:74: tree pruning end, 1 roots, 20 extra nodes, 8 pruned nodes, max_depth=5\u001b[0m\n",
      "\u001b[34m[23]#011train-error:0.180267#011validation-error:0.2006\u001b[0m\n",
      "\u001b[34m[11:34:14] src/tree/updater_prune.cc:74: tree pruning end, 1 roots, 36 extra nodes, 4 pruned nodes, max_depth=5\u001b[0m\n",
      "\u001b[34m[24]#011train-error:0.178133#011validation-error:0.1995\u001b[0m\n",
      "\u001b[34m[11:34:15] src/tree/updater_prune.cc:74: tree pruning end, 1 roots, 36 extra nodes, 12 pruned nodes, max_depth=5\u001b[0m\n",
      "\u001b[34m[25]#011train-error:0.176667#011validation-error:0.1978\u001b[0m\n",
      "\u001b[34m[11:34:16] src/tree/updater_prune.cc:74: tree pruning end, 1 roots, 26 extra nodes, 6 pruned nodes, max_depth=5\u001b[0m\n",
      "\u001b[34m[26]#011train-error:0.1754#011validation-error:0.1957\u001b[0m\n",
      "\u001b[34m[11:34:18] src/tree/updater_prune.cc:74: tree pruning end, 1 roots, 22 extra nodes, 10 pruned nodes, max_depth=5\u001b[0m\n",
      "\u001b[34m[27]#011train-error:0.174067#011validation-error:0.1946\u001b[0m\n",
      "\u001b[34m[11:34:19] src/tree/updater_prune.cc:74: tree pruning end, 1 roots, 20 extra nodes, 8 pruned nodes, max_depth=5\u001b[0m\n",
      "\u001b[34m[28]#011train-error:0.1718#011validation-error:0.1929\u001b[0m\n",
      "\u001b[34m[11:34:20] src/tree/updater_prune.cc:74: tree pruning end, 1 roots, 24 extra nodes, 6 pruned nodes, max_depth=5\u001b[0m\n",
      "\u001b[34m[29]#011train-error:0.168733#011validation-error:0.1908\u001b[0m\n",
      "\u001b[34m[11:34:21] src/tree/updater_prune.cc:74: tree pruning end, 1 roots, 26 extra nodes, 12 pruned nodes, max_depth=5\u001b[0m\n",
      "\u001b[34m[30]#011train-error:0.166733#011validation-error:0.1902\u001b[0m\n",
      "\u001b[34m[11:34:23] src/tree/updater_prune.cc:74: tree pruning end, 1 roots, 18 extra nodes, 6 pruned nodes, max_depth=5\u001b[0m\n",
      "\u001b[34m[31]#011train-error:0.1668#011validation-error:0.1881\u001b[0m\n",
      "\u001b[34m[11:34:24] src/tree/updater_prune.cc:74: tree pruning end, 1 roots, 28 extra nodes, 10 pruned nodes, max_depth=5\u001b[0m\n",
      "\u001b[34m[32]#011train-error:0.165067#011validation-error:0.1878\u001b[0m\n",
      "\u001b[34m[11:34:25] src/tree/updater_prune.cc:74: tree pruning end, 1 roots, 24 extra nodes, 8 pruned nodes, max_depth=5\u001b[0m\n",
      "\u001b[34m[33]#011train-error:0.163133#011validation-error:0.1855\u001b[0m\n",
      "\u001b[34m[11:34:26] src/tree/updater_prune.cc:74: tree pruning end, 1 roots, 38 extra nodes, 6 pruned nodes, max_depth=5\u001b[0m\n",
      "\u001b[34m[34]#011train-error:0.160667#011validation-error:0.1848\u001b[0m\n",
      "\u001b[34m[11:34:28] src/tree/updater_prune.cc:74: tree pruning end, 1 roots, 26 extra nodes, 10 pruned nodes, max_depth=5\u001b[0m\n",
      "\u001b[34m[35]#011train-error:0.159933#011validation-error:0.1844\u001b[0m\n",
      "\u001b[34m[11:34:29] src/tree/updater_prune.cc:74: tree pruning end, 1 roots, 28 extra nodes, 4 pruned nodes, max_depth=5\u001b[0m\n",
      "\u001b[34m[36]#011train-error:0.158133#011validation-error:0.1838\u001b[0m\n",
      "\u001b[34m[11:34:30] src/tree/updater_prune.cc:74: tree pruning end, 1 roots, 18 extra nodes, 22 pruned nodes, max_depth=5\u001b[0m\n",
      "\u001b[34m[37]#011train-error:0.157533#011validation-error:0.1835\u001b[0m\n",
      "\u001b[34m[11:34:31] src/tree/updater_prune.cc:74: tree pruning end, 1 roots, 24 extra nodes, 6 pruned nodes, max_depth=5\u001b[0m\n",
      "\u001b[34m[38]#011train-error:0.1552#011validation-error:0.1827\u001b[0m\n",
      "\u001b[34m[11:34:33] src/tree/updater_prune.cc:74: tree pruning end, 1 roots, 14 extra nodes, 14 pruned nodes, max_depth=5\u001b[0m\n",
      "\u001b[34m[39]#011train-error:0.153533#011validation-error:0.1812\u001b[0m\n",
      "\u001b[34m[11:34:34] src/tree/updater_prune.cc:74: tree pruning end, 1 roots, 30 extra nodes, 6 pruned nodes, max_depth=5\u001b[0m\n",
      "\u001b[34m[40]#011train-error:0.151733#011validation-error:0.18\u001b[0m\n"
     ]
    },
    {
     "name": "stdout",
     "output_type": "stream",
     "text": [
      "\u001b[34m[11:34:35] src/tree/updater_prune.cc:74: tree pruning end, 1 roots, 20 extra nodes, 10 pruned nodes, max_depth=5\u001b[0m\n",
      "\u001b[34m[41]#011train-error:0.1518#011validation-error:0.1792\u001b[0m\n",
      "\u001b[34m[11:34:37] src/tree/updater_prune.cc:74: tree pruning end, 1 roots, 36 extra nodes, 10 pruned nodes, max_depth=5\u001b[0m\n",
      "\u001b[34m[42]#011train-error:0.150333#011validation-error:0.1794\u001b[0m\n",
      "\u001b[34m[11:34:38] src/tree/updater_prune.cc:74: tree pruning end, 1 roots, 26 extra nodes, 10 pruned nodes, max_depth=5\u001b[0m\n",
      "\u001b[34m[43]#011train-error:0.148667#011validation-error:0.178\u001b[0m\n",
      "\u001b[34m[11:34:39] src/tree/updater_prune.cc:74: tree pruning end, 1 roots, 30 extra nodes, 4 pruned nodes, max_depth=5\u001b[0m\n",
      "\u001b[34m[44]#011train-error:0.146733#011validation-error:0.1772\u001b[0m\n",
      "\u001b[34m[11:34:40] src/tree/updater_prune.cc:74: tree pruning end, 1 roots, 18 extra nodes, 8 pruned nodes, max_depth=5\u001b[0m\n",
      "\u001b[34m[45]#011train-error:0.144867#011validation-error:0.176\u001b[0m\n",
      "\u001b[34m[11:34:42] src/tree/updater_prune.cc:74: tree pruning end, 1 roots, 16 extra nodes, 8 pruned nodes, max_depth=5\u001b[0m\n",
      "\u001b[34m[46]#011train-error:0.144333#011validation-error:0.1744\u001b[0m\n",
      "\u001b[34m[11:34:43] src/tree/updater_prune.cc:74: tree pruning end, 1 roots, 30 extra nodes, 10 pruned nodes, max_depth=5\u001b[0m\n",
      "\u001b[34m[47]#011train-error:0.1426#011validation-error:0.1727\u001b[0m\n",
      "\u001b[34m[11:34:44] src/tree/updater_prune.cc:74: tree pruning end, 1 roots, 26 extra nodes, 10 pruned nodes, max_depth=5\u001b[0m\n",
      "\u001b[34m[48]#011train-error:0.140533#011validation-error:0.1711\u001b[0m\n",
      "\u001b[34m[11:34:45] src/tree/updater_prune.cc:74: tree pruning end, 1 roots, 20 extra nodes, 6 pruned nodes, max_depth=5\u001b[0m\n",
      "\u001b[34m[49]#011train-error:0.140933#011validation-error:0.1707\u001b[0m\n",
      "\u001b[34m[11:34:47] src/tree/updater_prune.cc:74: tree pruning end, 1 roots, 20 extra nodes, 14 pruned nodes, max_depth=5\u001b[0m\n",
      "\u001b[34m[50]#011train-error:0.139733#011validation-error:0.1706\u001b[0m\n",
      "\u001b[34m[11:34:48] src/tree/updater_prune.cc:74: tree pruning end, 1 roots, 22 extra nodes, 10 pruned nodes, max_depth=5\u001b[0m\n",
      "\u001b[34m[51]#011train-error:0.1396#011validation-error:0.1698\u001b[0m\n",
      "\u001b[34m[11:34:49] src/tree/updater_prune.cc:74: tree pruning end, 1 roots, 12 extra nodes, 8 pruned nodes, max_depth=5\u001b[0m\n",
      "\u001b[34m[52]#011train-error:0.139533#011validation-error:0.1693\u001b[0m\n",
      "\u001b[34m[11:34:51] src/tree/updater_prune.cc:74: tree pruning end, 1 roots, 18 extra nodes, 4 pruned nodes, max_depth=5\u001b[0m\n",
      "\u001b[34m[53]#011train-error:0.138667#011validation-error:0.1694\u001b[0m\n",
      "\u001b[34m[11:34:52] src/tree/updater_prune.cc:74: tree pruning end, 1 roots, 24 extra nodes, 6 pruned nodes, max_depth=5\u001b[0m\n",
      "\u001b[34m[54]#011train-error:0.1374#011validation-error:0.1679\u001b[0m\n",
      "\u001b[34m[11:34:53] src/tree/updater_prune.cc:74: tree pruning end, 1 roots, 26 extra nodes, 6 pruned nodes, max_depth=5\u001b[0m\n",
      "\u001b[34m[55]#011train-error:0.1368#011validation-error:0.1674\u001b[0m\n",
      "\u001b[34m[11:34:54] src/tree/updater_prune.cc:74: tree pruning end, 1 roots, 18 extra nodes, 8 pruned nodes, max_depth=5\u001b[0m\n",
      "\u001b[34m[56]#011train-error:0.136333#011validation-error:0.1658\u001b[0m\n",
      "\u001b[34m[11:34:56] src/tree/updater_prune.cc:74: tree pruning end, 1 roots, 12 extra nodes, 14 pruned nodes, max_depth=5\u001b[0m\n",
      "\u001b[34m[57]#011train-error:0.135533#011validation-error:0.1653\u001b[0m\n",
      "\u001b[34m[11:34:57] src/tree/updater_prune.cc:74: tree pruning end, 1 roots, 22 extra nodes, 12 pruned nodes, max_depth=5\u001b[0m\n",
      "\u001b[34m[58]#011train-error:0.135#011validation-error:0.165\u001b[0m\n",
      "\u001b[34m[11:34:58] src/tree/updater_prune.cc:74: tree pruning end, 1 roots, 22 extra nodes, 10 pruned nodes, max_depth=5\u001b[0m\n",
      "\u001b[34m[59]#011train-error:0.134667#011validation-error:0.1655\u001b[0m\n",
      "\u001b[34m[11:34:59] src/tree/updater_prune.cc:74: tree pruning end, 1 roots, 16 extra nodes, 6 pruned nodes, max_depth=5\u001b[0m\n",
      "\u001b[34m[60]#011train-error:0.135267#011validation-error:0.1646\u001b[0m\n",
      "\u001b[34m[11:35:01] src/tree/updater_prune.cc:74: tree pruning end, 1 roots, 28 extra nodes, 10 pruned nodes, max_depth=5\u001b[0m\n",
      "\u001b[34m[61]#011train-error:0.133133#011validation-error:0.1641\u001b[0m\n",
      "\u001b[34m[11:35:02] src/tree/updater_prune.cc:74: tree pruning end, 1 roots, 12 extra nodes, 6 pruned nodes, max_depth=5\u001b[0m\n",
      "\u001b[34m[62]#011train-error:0.132733#011validation-error:0.1639\u001b[0m\n",
      "\u001b[34m[11:35:03] src/tree/updater_prune.cc:74: tree pruning end, 1 roots, 22 extra nodes, 6 pruned nodes, max_depth=5\u001b[0m\n",
      "\u001b[34m[63]#011train-error:0.1318#011validation-error:0.1635\u001b[0m\n",
      "\u001b[34m[11:35:05] src/tree/updater_prune.cc:74: tree pruning end, 1 roots, 24 extra nodes, 6 pruned nodes, max_depth=5\u001b[0m\n",
      "\u001b[34m[64]#011train-error:0.130733#011validation-error:0.1633\u001b[0m\n",
      "\u001b[34m[11:35:06] src/tree/updater_prune.cc:74: tree pruning end, 1 roots, 18 extra nodes, 2 pruned nodes, max_depth=5\u001b[0m\n",
      "\u001b[34m[65]#011train-error:0.129667#011validation-error:0.163\u001b[0m\n",
      "\u001b[34m[11:35:07] src/tree/updater_prune.cc:74: tree pruning end, 1 roots, 20 extra nodes, 4 pruned nodes, max_depth=5\u001b[0m\n",
      "\u001b[34m[66]#011train-error:0.129133#011validation-error:0.1618\u001b[0m\n",
      "\u001b[34m[11:35:08] src/tree/updater_prune.cc:74: tree pruning end, 1 roots, 16 extra nodes, 10 pruned nodes, max_depth=5\u001b[0m\n",
      "\u001b[34m[67]#011train-error:0.128267#011validation-error:0.1614\u001b[0m\n",
      "\u001b[34m[11:35:10] src/tree/updater_prune.cc:74: tree pruning end, 1 roots, 16 extra nodes, 14 pruned nodes, max_depth=5\u001b[0m\n",
      "\u001b[34m[68]#011train-error:0.128133#011validation-error:0.1613\u001b[0m\n",
      "\u001b[34m[11:35:11] src/tree/updater_prune.cc:74: tree pruning end, 1 roots, 10 extra nodes, 2 pruned nodes, max_depth=5\u001b[0m\n",
      "\u001b[34m[69]#011train-error:0.127267#011validation-error:0.1602\u001b[0m\n",
      "\u001b[34m[11:35:12] src/tree/updater_prune.cc:74: tree pruning end, 1 roots, 24 extra nodes, 8 pruned nodes, max_depth=5\u001b[0m\n",
      "\u001b[34m[70]#011train-error:0.127333#011validation-error:0.1596\u001b[0m\n",
      "\u001b[34m[11:35:13] src/tree/updater_prune.cc:74: tree pruning end, 1 roots, 24 extra nodes, 10 pruned nodes, max_depth=5\u001b[0m\n",
      "\u001b[34m[71]#011train-error:0.1262#011validation-error:0.1595\u001b[0m\n",
      "\u001b[34m[11:35:15] src/tree/updater_prune.cc:74: tree pruning end, 1 roots, 36 extra nodes, 10 pruned nodes, max_depth=5\u001b[0m\n",
      "\u001b[34m[72]#011train-error:0.124333#011validation-error:0.1573\u001b[0m\n",
      "\u001b[34m[11:35:16] src/tree/updater_prune.cc:74: tree pruning end, 1 roots, 24 extra nodes, 12 pruned nodes, max_depth=5\u001b[0m\n",
      "\u001b[34m[73]#011train-error:0.123267#011validation-error:0.1573\u001b[0m\n",
      "\u001b[34m[11:35:17] src/tree/updater_prune.cc:74: tree pruning end, 1 roots, 26 extra nodes, 8 pruned nodes, max_depth=5\u001b[0m\n",
      "\u001b[34m[74]#011train-error:0.121933#011validation-error:0.1585\u001b[0m\n",
      "\u001b[34m[11:35:18] src/tree/updater_prune.cc:74: tree pruning end, 1 roots, 20 extra nodes, 16 pruned nodes, max_depth=5\u001b[0m\n",
      "\u001b[34m[75]#011train-error:0.1202#011validation-error:0.1582\u001b[0m\n",
      "\u001b[34m[11:35:20] src/tree/updater_prune.cc:74: tree pruning end, 1 roots, 16 extra nodes, 2 pruned nodes, max_depth=5\u001b[0m\n",
      "\u001b[34m[76]#011train-error:0.120533#011validation-error:0.1569\u001b[0m\n",
      "\u001b[34m[11:35:21] src/tree/updater_prune.cc:74: tree pruning end, 1 roots, 16 extra nodes, 6 pruned nodes, max_depth=5\u001b[0m\n",
      "\u001b[34m[77]#011train-error:0.1196#011validation-error:0.157\u001b[0m\n",
      "\u001b[34m[11:35:22] src/tree/updater_prune.cc:74: tree pruning end, 1 roots, 26 extra nodes, 4 pruned nodes, max_depth=5\u001b[0m\n",
      "\u001b[34m[78]#011train-error:0.118#011validation-error:0.1564\u001b[0m\n",
      "\u001b[34m[11:35:24] src/tree/updater_prune.cc:74: tree pruning end, 1 roots, 16 extra nodes, 8 pruned nodes, max_depth=5\u001b[0m\n",
      "\u001b[34m[79]#011train-error:0.1178#011validation-error:0.156\u001b[0m\n",
      "\u001b[34m[11:35:25] src/tree/updater_prune.cc:74: tree pruning end, 1 roots, 22 extra nodes, 4 pruned nodes, max_depth=5\u001b[0m\n",
      "\u001b[34m[80]#011train-error:0.116333#011validation-error:0.1559\u001b[0m\n",
      "\u001b[34m[11:35:26] src/tree/updater_prune.cc:74: tree pruning end, 1 roots, 28 extra nodes, 8 pruned nodes, max_depth=5\u001b[0m\n",
      "\u001b[34m[81]#011train-error:0.116267#011validation-error:0.1552\u001b[0m\n",
      "\u001b[34m[11:35:27] src/tree/updater_prune.cc:74: tree pruning end, 1 roots, 14 extra nodes, 10 pruned nodes, max_depth=5\u001b[0m\n",
      "\u001b[34m[82]#011train-error:0.1162#011validation-error:0.1539\u001b[0m\n",
      "\u001b[34m[11:35:29] src/tree/updater_prune.cc:74: tree pruning end, 1 roots, 20 extra nodes, 10 pruned nodes, max_depth=5\u001b[0m\n",
      "\u001b[34m[83]#011train-error:0.1158#011validation-error:0.1541\u001b[0m\n",
      "\u001b[34m[11:35:30] src/tree/updater_prune.cc:74: tree pruning end, 1 roots, 22 extra nodes, 12 pruned nodes, max_depth=5\u001b[0m\n",
      "\u001b[34m[84]#011train-error:0.1142#011validation-error:0.1539\u001b[0m\n",
      "\u001b[34m[11:35:31] src/tree/updater_prune.cc:74: tree pruning end, 1 roots, 44 extra nodes, 2 pruned nodes, max_depth=5\u001b[0m\n",
      "\u001b[34m[85]#011train-error:0.111267#011validation-error:0.1543\u001b[0m\n",
      "\u001b[34m[11:35:32] src/tree/updater_prune.cc:74: tree pruning end, 1 roots, 16 extra nodes, 6 pruned nodes, max_depth=5\u001b[0m\n",
      "\u001b[34m[86]#011train-error:0.111#011validation-error:0.1545\u001b[0m\n",
      "\u001b[34m[11:35:34] src/tree/updater_prune.cc:74: tree pruning end, 1 roots, 26 extra nodes, 16 pruned nodes, max_depth=5\u001b[0m\n",
      "\u001b[34m[87]#011train-error:0.110933#011validation-error:0.155\u001b[0m\n",
      "\u001b[34m[11:35:35] src/tree/updater_prune.cc:74: tree pruning end, 1 roots, 22 extra nodes, 4 pruned nodes, max_depth=5\u001b[0m\n",
      "\u001b[34m[88]#011train-error:0.110333#011validation-error:0.155\u001b[0m\n"
     ]
    },
    {
     "name": "stdout",
     "output_type": "stream",
     "text": [
      "\u001b[34m[11:35:36] src/tree/updater_prune.cc:74: tree pruning end, 1 roots, 14 extra nodes, 6 pruned nodes, max_depth=5\u001b[0m\n",
      "\u001b[34m[89]#011train-error:0.110667#011validation-error:0.1535\u001b[0m\n",
      "\u001b[34m[11:35:37] src/tree/updater_prune.cc:74: tree pruning end, 1 roots, 12 extra nodes, 10 pruned nodes, max_depth=5\u001b[0m\n",
      "\u001b[34m[90]#011train-error:0.109867#011validation-error:0.1534\u001b[0m\n",
      "\u001b[34m[11:35:39] src/tree/updater_prune.cc:74: tree pruning end, 1 roots, 16 extra nodes, 0 pruned nodes, max_depth=5\u001b[0m\n",
      "\u001b[34m[91]#011train-error:0.1094#011validation-error:0.1534\u001b[0m\n",
      "\u001b[34m[11:35:40] src/tree/updater_prune.cc:74: tree pruning end, 1 roots, 20 extra nodes, 6 pruned nodes, max_depth=5\u001b[0m\n",
      "\u001b[34m[92]#011train-error:0.109#011validation-error:0.1523\u001b[0m\n",
      "\u001b[34m[11:35:41] src/tree/updater_prune.cc:74: tree pruning end, 1 roots, 24 extra nodes, 4 pruned nodes, max_depth=5\u001b[0m\n",
      "\u001b[34m[93]#011train-error:0.107667#011validation-error:0.1512\u001b[0m\n",
      "\u001b[34m[11:35:43] src/tree/updater_prune.cc:74: tree pruning end, 1 roots, 20 extra nodes, 2 pruned nodes, max_depth=5\u001b[0m\n",
      "\u001b[34m[94]#011train-error:0.107667#011validation-error:0.1506\u001b[0m\n",
      "\u001b[34m[11:35:44] src/tree/updater_prune.cc:74: tree pruning end, 1 roots, 18 extra nodes, 8 pruned nodes, max_depth=5\u001b[0m\n",
      "\u001b[34m[95]#011train-error:0.1078#011validation-error:0.1507\u001b[0m\n",
      "\u001b[34m[11:35:45] src/tree/updater_prune.cc:74: tree pruning end, 1 roots, 12 extra nodes, 12 pruned nodes, max_depth=5\u001b[0m\n",
      "\u001b[34m[96]#011train-error:0.107133#011validation-error:0.1505\u001b[0m\n",
      "\u001b[34m[11:35:46] src/tree/updater_prune.cc:74: tree pruning end, 1 roots, 32 extra nodes, 4 pruned nodes, max_depth=5\u001b[0m\n",
      "\u001b[34m[97]#011train-error:0.105667#011validation-error:0.1495\u001b[0m\n",
      "\u001b[34m[11:35:48] src/tree/updater_prune.cc:74: tree pruning end, 1 roots, 22 extra nodes, 4 pruned nodes, max_depth=5\u001b[0m\n",
      "\u001b[34m[98]#011train-error:0.105533#011validation-error:0.1499\u001b[0m\n",
      "\u001b[34m[11:35:49] src/tree/updater_prune.cc:74: tree pruning end, 1 roots, 18 extra nodes, 10 pruned nodes, max_depth=5\u001b[0m\n",
      "\u001b[34m[99]#011train-error:0.1046#011validation-error:0.1505\u001b[0m\n",
      "\u001b[34m[11:35:50] src/tree/updater_prune.cc:74: tree pruning end, 1 roots, 12 extra nodes, 4 pruned nodes, max_depth=5\u001b[0m\n",
      "\u001b[34m[100]#011train-error:0.1044#011validation-error:0.1502\u001b[0m\n",
      "\u001b[34m[11:35:51] src/tree/updater_prune.cc:74: tree pruning end, 1 roots, 16 extra nodes, 10 pruned nodes, max_depth=5\u001b[0m\n",
      "\u001b[34m[101]#011train-error:0.103#011validation-error:0.1499\u001b[0m\n",
      "\u001b[34m[11:35:53] src/tree/updater_prune.cc:74: tree pruning end, 1 roots, 36 extra nodes, 6 pruned nodes, max_depth=5\u001b[0m\n",
      "\u001b[34m[102]#011train-error:0.1026#011validation-error:0.1492\u001b[0m\n",
      "\u001b[34m[11:35:54] src/tree/updater_prune.cc:74: tree pruning end, 1 roots, 10 extra nodes, 8 pruned nodes, max_depth=5\u001b[0m\n",
      "\u001b[34m[103]#011train-error:0.102667#011validation-error:0.1483\u001b[0m\n",
      "\u001b[34m[11:35:55] src/tree/updater_prune.cc:74: tree pruning end, 1 roots, 20 extra nodes, 8 pruned nodes, max_depth=5\u001b[0m\n",
      "\u001b[34m[104]#011train-error:0.101667#011validation-error:0.1479\u001b[0m\n",
      "\u001b[34m[11:35:57] src/tree/updater_prune.cc:74: tree pruning end, 1 roots, 10 extra nodes, 6 pruned nodes, max_depth=5\u001b[0m\n",
      "\u001b[34m[105]#011train-error:0.101467#011validation-error:0.1477\u001b[0m\n",
      "\u001b[34m[11:35:58] src/tree/updater_prune.cc:74: tree pruning end, 1 roots, 12 extra nodes, 18 pruned nodes, max_depth=5\u001b[0m\n",
      "\u001b[34m[106]#011train-error:0.1014#011validation-error:0.1476\u001b[0m\n",
      "\u001b[34m[11:35:59] src/tree/updater_prune.cc:74: tree pruning end, 1 roots, 14 extra nodes, 0 pruned nodes, max_depth=5\u001b[0m\n",
      "\u001b[34m[107]#011train-error:0.101533#011validation-error:0.1478\u001b[0m\n",
      "\u001b[34m[11:36:00] src/tree/updater_prune.cc:74: tree pruning end, 1 roots, 24 extra nodes, 6 pruned nodes, max_depth=5\u001b[0m\n",
      "\u001b[34m[108]#011train-error:0.101867#011validation-error:0.147\u001b[0m\n",
      "\u001b[34m[11:36:02] src/tree/updater_prune.cc:74: tree pruning end, 1 roots, 22 extra nodes, 12 pruned nodes, max_depth=5\u001b[0m\n",
      "\u001b[34m[109]#011train-error:0.101667#011validation-error:0.1459\u001b[0m\n",
      "\u001b[34m[11:36:03] src/tree/updater_prune.cc:74: tree pruning end, 1 roots, 20 extra nodes, 6 pruned nodes, max_depth=5\u001b[0m\n",
      "\u001b[34m[110]#011train-error:0.100867#011validation-error:0.1457\u001b[0m\n",
      "\u001b[34m[11:36:04] src/tree/updater_prune.cc:74: tree pruning end, 1 roots, 16 extra nodes, 14 pruned nodes, max_depth=5\u001b[0m\n",
      "\u001b[34m[111]#011train-error:0.1012#011validation-error:0.1454\u001b[0m\n",
      "\u001b[34m[11:36:06] src/tree/updater_prune.cc:74: tree pruning end, 1 roots, 26 extra nodes, 10 pruned nodes, max_depth=5\u001b[0m\n",
      "\u001b[34m[112]#011train-error:0.1008#011validation-error:0.1462\u001b[0m\n",
      "\u001b[34m[11:36:07] src/tree/updater_prune.cc:74: tree pruning end, 1 roots, 14 extra nodes, 10 pruned nodes, max_depth=5\u001b[0m\n",
      "\u001b[34m[113]#011train-error:0.100133#011validation-error:0.1462\u001b[0m\n",
      "\u001b[34m[11:36:08] src/tree/updater_prune.cc:74: tree pruning end, 1 roots, 28 extra nodes, 8 pruned nodes, max_depth=5\u001b[0m\n",
      "\u001b[34m[114]#011train-error:0.0996#011validation-error:0.1456\u001b[0m\n",
      "\u001b[34m[11:36:09] src/tree/updater_prune.cc:74: tree pruning end, 1 roots, 20 extra nodes, 4 pruned nodes, max_depth=5\u001b[0m\n",
      "\u001b[34m[115]#011train-error:0.098267#011validation-error:0.1461\u001b[0m\n",
      "\u001b[34m[11:36:11] src/tree/updater_prune.cc:74: tree pruning end, 1 roots, 16 extra nodes, 10 pruned nodes, max_depth=5\u001b[0m\n",
      "\u001b[34m[116]#011train-error:0.0988#011validation-error:0.1452\u001b[0m\n",
      "\u001b[34m[11:36:12] src/tree/updater_prune.cc:74: tree pruning end, 1 roots, 16 extra nodes, 6 pruned nodes, max_depth=5\u001b[0m\n",
      "\u001b[34m[117]#011train-error:0.098733#011validation-error:0.1447\u001b[0m\n",
      "\u001b[34m[11:36:13] src/tree/updater_prune.cc:74: tree pruning end, 1 roots, 16 extra nodes, 0 pruned nodes, max_depth=5\u001b[0m\n",
      "\u001b[34m[118]#011train-error:0.098733#011validation-error:0.1446\u001b[0m\n",
      "\u001b[34m[11:36:14] src/tree/updater_prune.cc:74: tree pruning end, 1 roots, 14 extra nodes, 6 pruned nodes, max_depth=5\u001b[0m\n",
      "\u001b[34m[119]#011train-error:0.098133#011validation-error:0.1448\u001b[0m\n",
      "\u001b[34m[11:36:16] src/tree/updater_prune.cc:74: tree pruning end, 1 roots, 12 extra nodes, 2 pruned nodes, max_depth=5\u001b[0m\n",
      "\u001b[34m[120]#011train-error:0.097933#011validation-error:0.1444\u001b[0m\n",
      "\u001b[34m[11:36:17] src/tree/updater_prune.cc:74: tree pruning end, 1 roots, 10 extra nodes, 14 pruned nodes, max_depth=5\u001b[0m\n",
      "\u001b[34m[121]#011train-error:0.0978#011validation-error:0.1443\u001b[0m\n",
      "\u001b[34m[11:36:18] src/tree/updater_prune.cc:74: tree pruning end, 1 roots, 18 extra nodes, 8 pruned nodes, max_depth=5\u001b[0m\n",
      "\u001b[34m[122]#011train-error:0.096733#011validation-error:0.1441\u001b[0m\n",
      "\u001b[34m[11:36:20] src/tree/updater_prune.cc:74: tree pruning end, 1 roots, 20 extra nodes, 2 pruned nodes, max_depth=5\u001b[0m\n",
      "\u001b[34m[123]#011train-error:0.096733#011validation-error:0.1436\u001b[0m\n",
      "\u001b[34m[11:36:21] src/tree/updater_prune.cc:74: tree pruning end, 1 roots, 12 extra nodes, 4 pruned nodes, max_depth=5\u001b[0m\n",
      "\u001b[34m[124]#011train-error:0.095867#011validation-error:0.1434\u001b[0m\n",
      "\u001b[34m[11:36:22] src/tree/updater_prune.cc:74: tree pruning end, 1 roots, 20 extra nodes, 12 pruned nodes, max_depth=5\u001b[0m\n",
      "\u001b[34m[125]#011train-error:0.0954#011validation-error:0.1438\u001b[0m\n",
      "\u001b[34m[11:36:23] src/tree/updater_prune.cc:74: tree pruning end, 1 roots, 24 extra nodes, 12 pruned nodes, max_depth=5\u001b[0m\n",
      "\u001b[34m[126]#011train-error:0.094867#011validation-error:0.1438\u001b[0m\n",
      "\u001b[34m[11:36:25] src/tree/updater_prune.cc:74: tree pruning end, 1 roots, 18 extra nodes, 16 pruned nodes, max_depth=5\u001b[0m\n",
      "\u001b[34m[127]#011train-error:0.0948#011validation-error:0.1449\u001b[0m\n",
      "\u001b[34m[11:36:26] src/tree/updater_prune.cc:74: tree pruning end, 1 roots, 14 extra nodes, 6 pruned nodes, max_depth=5\u001b[0m\n",
      "\u001b[34m[128]#011train-error:0.094067#011validation-error:0.1442\u001b[0m\n",
      "\u001b[34m[11:36:27] src/tree/updater_prune.cc:74: tree pruning end, 1 roots, 10 extra nodes, 4 pruned nodes, max_depth=5\u001b[0m\n",
      "\u001b[34m[129]#011train-error:0.093667#011validation-error:0.1441\u001b[0m\n",
      "\u001b[34m[11:36:29] src/tree/updater_prune.cc:74: tree pruning end, 1 roots, 10 extra nodes, 14 pruned nodes, max_depth=5\u001b[0m\n",
      "\u001b[34m[130]#011train-error:0.093667#011validation-error:0.144\u001b[0m\n",
      "\u001b[34m[11:36:30] src/tree/updater_prune.cc:74: tree pruning end, 1 roots, 14 extra nodes, 18 pruned nodes, max_depth=5\u001b[0m\n",
      "\u001b[34m[131]#011train-error:0.092667#011validation-error:0.1443\u001b[0m\n",
      "\u001b[34m[11:36:31] src/tree/updater_prune.cc:74: tree pruning end, 1 roots, 16 extra nodes, 16 pruned nodes, max_depth=5\u001b[0m\n",
      "\u001b[34m[132]#011train-error:0.092667#011validation-error:0.1435\u001b[0m\n",
      "\u001b[34m[11:36:32] src/tree/updater_prune.cc:74: tree pruning end, 1 roots, 20 extra nodes, 8 pruned nodes, max_depth=5\u001b[0m\n",
      "\u001b[34m[133]#011train-error:0.091733#011validation-error:0.1442\u001b[0m\n",
      "\u001b[34m[11:36:34] src/tree/updater_prune.cc:74: tree pruning end, 1 roots, 12 extra nodes, 4 pruned nodes, max_depth=5\u001b[0m\n",
      "\u001b[34m[134]#011train-error:0.091333#011validation-error:0.1442\u001b[0m\n",
      "\u001b[34mStopping. Best iteration:\u001b[0m\n",
      "\u001b[34m[124]#011train-error:0.095867#011validation-error:0.1434\n",
      "\u001b[0m\n"
     ]
    },
    {
     "name": "stdout",
     "output_type": "stream",
     "text": [
      "\n",
      "2020-02-10 11:36:45 Uploading - Uploading generated training model\n",
      "2020-02-10 11:36:45 Completed - Training job completed\n",
      "Training seconds: 230\n",
      "Billable seconds: 230\n"
     ]
    }
   ],
   "source": [
    "xgb.fit({'train': s3_input_train, 'validation': s3_input_validation})"
   ]
  },
  {
   "cell_type": "markdown",
   "metadata": {},
   "source": [
    "## Step 5: Testing the model\n",
    "\n",
    "Now that we've fit our XGBoost model, it's time to see how well it performs. To do this we will use SageMakers Batch Transform functionality. Batch Transform is a convenient way to perform inference on a large dataset in a way that is not realtime. That is, we don't necessarily need to use our model's results immediately and instead we can perform inference on a large number of samples. An example of this in industry might be performing an end of month report. This method of inference can also be useful to us as it means that we can perform inference on our entire test set. \n",
    "\n",
    "To perform a Batch Transformation we need to first create a transformer objects from our trained estimator object."
   ]
  },
  {
   "cell_type": "code",
   "execution_count": 24,
   "metadata": {},
   "outputs": [],
   "source": [
    "xgb_transformer = xgb.transformer(instance_count = 1, instance_type = 'ml.m4.xlarge')"
   ]
  },
  {
   "cell_type": "markdown",
   "metadata": {},
   "source": [
    "Next we actually perform the transform job. When doing so we need to make sure to specify the type of data we are sending so that it is serialized correctly in the background. In our case we are providing our model with csv data so we specify `text/csv`. Also, if the test data that we have provided is too large to process all at once then we need to specify how the data file should be split up. Since each line is a single entry in our data set we tell SageMaker that it can split the input on each line."
   ]
  },
  {
   "cell_type": "code",
   "execution_count": 25,
   "metadata": {},
   "outputs": [],
   "source": [
    "xgb_transformer.transform(test_location, content_type='text/csv', split_type='Line')"
   ]
  },
  {
   "cell_type": "markdown",
   "metadata": {},
   "source": [
    "Currently the transform job is running but it is doing so in the background. Since we wish to wait until the transform job is done and we would like a bit of feedback we can run the `wait()` method."
   ]
  },
  {
   "cell_type": "code",
   "execution_count": 26,
   "metadata": {},
   "outputs": [
    {
     "name": "stdout",
     "output_type": "stream",
     "text": [
      "....................\u001b[34mArguments: serve\u001b[0m\n",
      "\u001b[34m[2020-02-10 11:40:05 +0000] [1] [INFO] Starting gunicorn 19.7.1\u001b[0m\n",
      "\u001b[34m[2020-02-10 11:40:05 +0000] [1] [INFO] Listening at: http://0.0.0.0:8080 (1)\u001b[0m\n",
      "\u001b[34m[2020-02-10 11:40:05 +0000] [1] [INFO] Using worker: gevent\u001b[0m\n",
      "\u001b[34m[2020-02-10 11:40:05 +0000] [38] [INFO] Booting worker with pid: 38\u001b[0m\n",
      "\u001b[34m[2020-02-10 11:40:05 +0000] [39] [INFO] Booting worker with pid: 39\u001b[0m\n",
      "\u001b[34m[2020-02-10 11:40:05 +0000] [40] [INFO] Booting worker with pid: 40\u001b[0m\n",
      "\u001b[34m[2020-02-10 11:40:05 +0000] [41] [INFO] Booting worker with pid: 41\u001b[0m\n",
      "\u001b[34m[2020-02-10:11:40:05:INFO] Model loaded successfully for worker : 38\u001b[0m\n",
      "\u001b[34m[2020-02-10:11:40:05:INFO] Model loaded successfully for worker : 39\u001b[0m\n",
      "\u001b[34m[2020-02-10:11:40:05:INFO] Model loaded successfully for worker : 41\u001b[0m\n",
      "\u001b[34m[2020-02-10:11:40:05:INFO] Model loaded successfully for worker : 40\u001b[0m\n",
      "\u001b[32m2020-02-10T11:40:24.615:[sagemaker logs]: MaxConcurrentTransforms=4, MaxPayloadInMB=6, BatchStrategy=MULTI_RECORD\u001b[0m\n",
      "\u001b[34m[2020-02-10:11:40:27:INFO] Sniff delimiter as ','\u001b[0m\n",
      "\u001b[34m[2020-02-10:11:40:27:INFO] Determined delimiter of CSV input is ','\u001b[0m\n",
      "\u001b[34m[2020-02-10:11:40:27:INFO] Sniff delimiter as ','\u001b[0m\n",
      "\u001b[34m[2020-02-10:11:40:27:INFO] Determined delimiter of CSV input is ','\u001b[0m\n",
      "\u001b[35m[2020-02-10:11:40:27:INFO] Sniff delimiter as ','\u001b[0m\n",
      "\u001b[35m[2020-02-10:11:40:27:INFO] Determined delimiter of CSV input is ','\u001b[0m\n",
      "\u001b[35m[2020-02-10:11:40:27:INFO] Sniff delimiter as ','\u001b[0m\n",
      "\u001b[35m[2020-02-10:11:40:27:INFO] Determined delimiter of CSV input is ','\u001b[0m\n",
      "\u001b[34m[2020-02-10:11:40:27:INFO] Sniff delimiter as ','\u001b[0m\n",
      "\u001b[34m[2020-02-10:11:40:27:INFO] Determined delimiter of CSV input is ','\u001b[0m\n",
      "\u001b[34m[2020-02-10:11:40:27:INFO] Sniff delimiter as ','\u001b[0m\n",
      "\u001b[34m[2020-02-10:11:40:27:INFO] Determined delimiter of CSV input is ','\u001b[0m\n",
      "\u001b[35m[2020-02-10:11:40:27:INFO] Sniff delimiter as ','\u001b[0m\n",
      "\u001b[35m[2020-02-10:11:40:27:INFO] Determined delimiter of CSV input is ','\u001b[0m\n",
      "\u001b[35m[2020-02-10:11:40:27:INFO] Sniff delimiter as ','\u001b[0m\n",
      "\u001b[35m[2020-02-10:11:40:27:INFO] Determined delimiter of CSV input is ','\u001b[0m\n",
      "\u001b[34m[2020-02-10:11:40:30:INFO] Sniff delimiter as ','\u001b[0m\n",
      "\u001b[34m[2020-02-10:11:40:30:INFO] Determined delimiter of CSV input is ','\u001b[0m\n",
      "\u001b[34m[2020-02-10:11:40:30:INFO] Sniff delimiter as ','\u001b[0m\n",
      "\u001b[34m[2020-02-10:11:40:30:INFO] Determined delimiter of CSV input is ','\u001b[0m\n",
      "\u001b[34m[2020-02-10:11:40:30:INFO] Sniff delimiter as ','\u001b[0m\n",
      "\u001b[34m[2020-02-10:11:40:30:INFO] Determined delimiter of CSV input is ','\u001b[0m\n",
      "\u001b[34m[2020-02-10:11:40:30:INFO] Sniff delimiter as ','\u001b[0m\n",
      "\u001b[34m[2020-02-10:11:40:30:INFO] Determined delimiter of CSV input is ','\u001b[0m\n",
      "\u001b[35m[2020-02-10:11:40:30:INFO] Sniff delimiter as ','\u001b[0m\n",
      "\u001b[35m[2020-02-10:11:40:30:INFO] Determined delimiter of CSV input is ','\u001b[0m\n",
      "\u001b[35m[2020-02-10:11:40:30:INFO] Sniff delimiter as ','\u001b[0m\n",
      "\u001b[35m[2020-02-10:11:40:30:INFO] Determined delimiter of CSV input is ','\u001b[0m\n",
      "\u001b[35m[2020-02-10:11:40:30:INFO] Sniff delimiter as ','\u001b[0m\n",
      "\u001b[35m[2020-02-10:11:40:30:INFO] Determined delimiter of CSV input is ','\u001b[0m\n",
      "\u001b[35m[2020-02-10:11:40:30:INFO] Sniff delimiter as ','\u001b[0m\n",
      "\u001b[35m[2020-02-10:11:40:30:INFO] Determined delimiter of CSV input is ','\u001b[0m\n",
      "\u001b[34m[2020-02-10:11:40:34:INFO] Sniff delimiter as ','\u001b[0m\n",
      "\u001b[34m[2020-02-10:11:40:34:INFO] Determined delimiter of CSV input is ','\u001b[0m\n",
      "\u001b[34m[2020-02-10:11:40:34:INFO] Sniff delimiter as ','\u001b[0m\n",
      "\u001b[35m[2020-02-10:11:40:34:INFO] Sniff delimiter as ','\u001b[0m\n",
      "\u001b[35m[2020-02-10:11:40:34:INFO] Determined delimiter of CSV input is ','\u001b[0m\n",
      "\u001b[35m[2020-02-10:11:40:34:INFO] Sniff delimiter as ','\u001b[0m\n",
      "\u001b[34m[2020-02-10:11:40:34:INFO] Determined delimiter of CSV input is ','\u001b[0m\n",
      "\u001b[34m[2020-02-10:11:40:35:INFO] Sniff delimiter as ','\u001b[0m\n",
      "\u001b[34m[2020-02-10:11:40:35:INFO] Determined delimiter of CSV input is ','\u001b[0m\n",
      "\u001b[34m[2020-02-10:11:40:35:INFO] Sniff delimiter as ','\u001b[0m\n",
      "\u001b[34m[2020-02-10:11:40:35:INFO] Determined delimiter of CSV input is ','\u001b[0m\n",
      "\u001b[35m[2020-02-10:11:40:34:INFO] Determined delimiter of CSV input is ','\u001b[0m\n",
      "\u001b[35m[2020-02-10:11:40:35:INFO] Sniff delimiter as ','\u001b[0m\n",
      "\u001b[35m[2020-02-10:11:40:35:INFO] Determined delimiter of CSV input is ','\u001b[0m\n",
      "\u001b[35m[2020-02-10:11:40:35:INFO] Sniff delimiter as ','\u001b[0m\n",
      "\u001b[35m[2020-02-10:11:40:35:INFO] Determined delimiter of CSV input is ','\u001b[0m\n",
      "\u001b[34m[2020-02-10:11:40:37:INFO] Sniff delimiter as ','\u001b[0m\n",
      "\u001b[34m[2020-02-10:11:40:37:INFO] Determined delimiter of CSV input is ','\u001b[0m\n",
      "\u001b[34m[2020-02-10:11:40:37:INFO] Sniff delimiter as ','\u001b[0m\n",
      "\u001b[34m[2020-02-10:11:40:37:INFO] Determined delimiter of CSV input is ','\u001b[0m\n",
      "\u001b[34m[2020-02-10:11:40:37:INFO] Sniff delimiter as ','\u001b[0m\n",
      "\u001b[34m[2020-02-10:11:40:37:INFO] Determined delimiter of CSV input is ','\u001b[0m\n",
      "\u001b[35m[2020-02-10:11:40:37:INFO] Sniff delimiter as ','\u001b[0m\n",
      "\u001b[35m[2020-02-10:11:40:37:INFO] Determined delimiter of CSV input is ','\u001b[0m\n",
      "\u001b[35m[2020-02-10:11:40:37:INFO] Sniff delimiter as ','\u001b[0m\n",
      "\u001b[35m[2020-02-10:11:40:37:INFO] Determined delimiter of CSV input is ','\u001b[0m\n",
      "\u001b[35m[2020-02-10:11:40:37:INFO] Sniff delimiter as ','\u001b[0m\n",
      "\u001b[35m[2020-02-10:11:40:37:INFO] Determined delimiter of CSV input is ','\u001b[0m\n",
      "\u001b[34m[2020-02-10:11:40:37:INFO] Sniff delimiter as ','\u001b[0m\n",
      "\u001b[34m[2020-02-10:11:40:37:INFO] Determined delimiter of CSV input is ','\u001b[0m\n",
      "\u001b[35m[2020-02-10:11:40:37:INFO] Sniff delimiter as ','\u001b[0m\n",
      "\u001b[35m[2020-02-10:11:40:37:INFO] Determined delimiter of CSV input is ','\u001b[0m\n",
      "\u001b[34m[2020-02-10:11:40:39:INFO] Sniff delimiter as ','\u001b[0m\n",
      "\u001b[34m[2020-02-10:11:40:39:INFO] Determined delimiter of CSV input is ','\u001b[0m\n",
      "\u001b[35m[2020-02-10:11:40:39:INFO] Sniff delimiter as ','\u001b[0m\n",
      "\u001b[35m[2020-02-10:11:40:39:INFO] Determined delimiter of CSV input is ','\u001b[0m\n",
      "\u001b[34m[2020-02-10:11:40:39:INFO] Sniff delimiter as ','\u001b[0m\n",
      "\u001b[34m[2020-02-10:11:40:39:INFO] Determined delimiter of CSV input is ','\u001b[0m\n",
      "\u001b[34m[2020-02-10:11:40:40:INFO] Sniff delimiter as ','\u001b[0m\n",
      "\u001b[34m[2020-02-10:11:40:40:INFO] Determined delimiter of CSV input is ','\u001b[0m\n",
      "\u001b[34m[2020-02-10:11:40:40:INFO] Sniff delimiter as ','\u001b[0m\n",
      "\u001b[34m[2020-02-10:11:40:40:INFO] Determined delimiter of CSV input is ','\u001b[0m\n",
      "\u001b[35m[2020-02-10:11:40:39:INFO] Sniff delimiter as ','\u001b[0m\n",
      "\u001b[35m[2020-02-10:11:40:39:INFO] Determined delimiter of CSV input is ','\u001b[0m\n",
      "\u001b[35m[2020-02-10:11:40:40:INFO] Sniff delimiter as ','\u001b[0m\n",
      "\u001b[35m[2020-02-10:11:40:40:INFO] Determined delimiter of CSV input is ','\u001b[0m\n",
      "\u001b[35m[2020-02-10:11:40:40:INFO] Sniff delimiter as ','\u001b[0m\n",
      "\u001b[35m[2020-02-10:11:40:40:INFO] Determined delimiter of CSV input is ','\u001b[0m\n",
      "\u001b[34m[2020-02-10:11:40:42:INFO] Sniff delimiter as ','\u001b[0m\n",
      "\u001b[34m[2020-02-10:11:40:42:INFO] Determined delimiter of CSV input is ','\u001b[0m\n",
      "\u001b[35m[2020-02-10:11:40:42:INFO] Sniff delimiter as ','\u001b[0m\n",
      "\u001b[35m[2020-02-10:11:40:42:INFO] Determined delimiter of CSV input is ','\u001b[0m\n",
      "\u001b[34m[2020-02-10:11:40:44:INFO] Sniff delimiter as ','\u001b[0m\n",
      "\u001b[34m[2020-02-10:11:40:44:INFO] Determined delimiter of CSV input is ','\u001b[0m\n",
      "\u001b[35m[2020-02-10:11:40:44:INFO] Sniff delimiter as ','\u001b[0m\n",
      "\u001b[35m[2020-02-10:11:40:44:INFO] Determined delimiter of CSV input is ','\u001b[0m\n",
      "\u001b[34m[2020-02-10:11:40:44:INFO] Sniff delimiter as ','\u001b[0m\n",
      "\u001b[34m[2020-02-10:11:40:44:INFO] Determined delimiter of CSV input is ','\u001b[0m\n",
      "\u001b[34m[2020-02-10:11:40:44:INFO] Sniff delimiter as ','\u001b[0m\n",
      "\u001b[34m[2020-02-10:11:40:44:INFO] Determined delimiter of CSV input is ','\u001b[0m\n",
      "\u001b[34m[2020-02-10:11:40:45:INFO] Sniff delimiter as ','\u001b[0m\n",
      "\u001b[34m[2020-02-10:11:40:45:INFO] Determined delimiter of CSV input is ','\u001b[0m\n",
      "\u001b[35m[2020-02-10:11:40:44:INFO] Sniff delimiter as ','\u001b[0m\n",
      "\u001b[35m[2020-02-10:11:40:44:INFO] Determined delimiter of CSV input is ','\u001b[0m\n",
      "\u001b[35m[2020-02-10:11:40:44:INFO] Sniff delimiter as ','\u001b[0m\n",
      "\u001b[35m[2020-02-10:11:40:44:INFO] Determined delimiter of CSV input is ','\u001b[0m\n",
      "\u001b[35m[2020-02-10:11:40:45:INFO] Sniff delimiter as ','\u001b[0m\n",
      "\u001b[35m[2020-02-10:11:40:45:INFO] Determined delimiter of CSV input is ','\u001b[0m\n",
      "\u001b[34m[2020-02-10:11:40:47:INFO] Sniff delimiter as ','\u001b[0m\n",
      "\u001b[34m[2020-02-10:11:40:47:INFO] Determined delimiter of CSV input is ','\u001b[0m\n",
      "\u001b[34m[2020-02-10:11:40:47:INFO] Sniff delimiter as ','\u001b[0m\n",
      "\u001b[34m[2020-02-10:11:40:47:INFO] Determined delimiter of CSV input is ','\u001b[0m\n",
      "\u001b[34m[2020-02-10:11:40:47:INFO] Sniff delimiter as ','\u001b[0m\n",
      "\u001b[34m[2020-02-10:11:40:47:INFO] Determined delimiter of CSV input is ','\u001b[0m\n",
      "\u001b[34m[2020-02-10:11:40:47:INFO] Sniff delimiter as ','\u001b[0m\n",
      "\u001b[34m[2020-02-10:11:40:47:INFO] Determined delimiter of CSV input is ','\u001b[0m\n",
      "\u001b[35m[2020-02-10:11:40:47:INFO] Sniff delimiter as ','\u001b[0m\n",
      "\u001b[35m[2020-02-10:11:40:47:INFO] Determined delimiter of CSV input is ','\u001b[0m\n",
      "\u001b[35m[2020-02-10:11:40:47:INFO] Sniff delimiter as ','\u001b[0m\n",
      "\u001b[35m[2020-02-10:11:40:47:INFO] Determined delimiter of CSV input is ','\u001b[0m\n",
      "\u001b[35m[2020-02-10:11:40:47:INFO] Sniff delimiter as ','\u001b[0m\n",
      "\u001b[35m[2020-02-10:11:40:47:INFO] Determined delimiter of CSV input is ','\u001b[0m\n",
      "\u001b[35m[2020-02-10:11:40:47:INFO] Sniff delimiter as ','\u001b[0m\n",
      "\u001b[35m[2020-02-10:11:40:47:INFO] Determined delimiter of CSV input is ','\u001b[0m\n",
      "\u001b[34m[2020-02-10:11:40:49:INFO] Sniff delimiter as ','\u001b[0m\n",
      "\u001b[34m[2020-02-10:11:40:49:INFO] Determined delimiter of CSV input is ','\u001b[0m\n",
      "\u001b[34m[2020-02-10:11:40:49:INFO] Sniff delimiter as ','\u001b[0m\n",
      "\u001b[34m[2020-02-10:11:40:49:INFO] Determined delimiter of CSV input is ','\u001b[0m\n",
      "\u001b[34m[2020-02-10:11:40:49:INFO] Sniff delimiter as ','\u001b[0m\n",
      "\u001b[34m[2020-02-10:11:40:49:INFO] Determined delimiter of CSV input is ','\u001b[0m\n",
      "\u001b[35m[2020-02-10:11:40:49:INFO] Sniff delimiter as ','\u001b[0m\n",
      "\u001b[35m[2020-02-10:11:40:49:INFO] Determined delimiter of CSV input is ','\u001b[0m\n",
      "\u001b[35m[2020-02-10:11:40:49:INFO] Sniff delimiter as ','\u001b[0m\n",
      "\u001b[35m[2020-02-10:11:40:49:INFO] Determined delimiter of CSV input is ','\u001b[0m\n",
      "\u001b[35m[2020-02-10:11:40:49:INFO] Sniff delimiter as ','\u001b[0m\n",
      "\u001b[35m[2020-02-10:11:40:49:INFO] Determined delimiter of CSV input is ','\u001b[0m\n",
      "\u001b[34m[2020-02-10:11:40:49:INFO] Sniff delimiter as ','\u001b[0m\n",
      "\u001b[34m[2020-02-10:11:40:49:INFO] Determined delimiter of CSV input is ','\u001b[0m\n",
      "\u001b[35m[2020-02-10:11:40:49:INFO] Sniff delimiter as ','\u001b[0m\n",
      "\u001b[35m[2020-02-10:11:40:49:INFO] Determined delimiter of CSV input is ','\u001b[0m\n"
     ]
    },
    {
     "name": "stdout",
     "output_type": "stream",
     "text": [
      "\n"
     ]
    }
   ],
   "source": [
    "xgb_transformer.wait()"
   ]
  },
  {
   "cell_type": "markdown",
   "metadata": {},
   "source": [
    "Now the transform job has executed and the result, the estimated sentiment of each review, has been saved on S3. Since we would rather work on this file locally we can perform a bit of notebook magic to copy the file to the `data_dir`."
   ]
  },
  {
   "cell_type": "code",
   "execution_count": 27,
   "metadata": {},
   "outputs": [
    {
     "name": "stdout",
     "output_type": "stream",
     "text": [
      "Completed 256.0 KiB/369.1 KiB (2.9 MiB/s) with 1 file(s) remaining\r",
      "Completed 369.1 KiB/369.1 KiB (4.0 MiB/s) with 1 file(s) remaining\r",
      "download: s3://sagemaker-us-east-2-407001943333/xgboost-2020-02-10-11-37-02-211/test.csv.out to ../data/sentiment_web_app/test.csv.out\r\n"
     ]
    }
   ],
   "source": [
    "!aws s3 cp --recursive $xgb_transformer.output_path $data_dir"
   ]
  },
  {
   "cell_type": "markdown",
   "metadata": {},
   "source": [
    "The last step is now to read in the output from our model, convert the output to something a little more usable, in this case we want the sentiment to be either `1` (positive) or `0` (negative), and then compare to the ground truth labels."
   ]
  },
  {
   "cell_type": "code",
   "execution_count": 28,
   "metadata": {},
   "outputs": [],
   "source": [
    "predictions = pd.read_csv(os.path.join(data_dir, 'test.csv.out'), header=None)\n",
    "predictions = [round(num) for num in predictions.squeeze().values]"
   ]
  },
  {
   "cell_type": "code",
   "execution_count": 29,
   "metadata": {},
   "outputs": [
    {
     "data": {
      "text/plain": [
       "0.85272"
      ]
     },
     "execution_count": 29,
     "metadata": {},
     "output_type": "execute_result"
    }
   ],
   "source": [
    "from sklearn.metrics import accuracy_score\n",
    "accuracy_score(test_y, predictions)"
   ]
  },
  {
   "cell_type": "markdown",
   "metadata": {},
   "source": [
    "## Step 6: Deploying the model\n",
    "\n",
    "Once we construct and fit our model, SageMaker stores the resulting model artifacts and we can use those to deploy an endpoint (inference code). To see this, look in the SageMaker console and you should see that a model has been created along with a link to the S3 location where the model artifacts have been stored.\n",
    "\n",
    "Deploying an endpoint is a lot like training the model with a few important differences. The first is that a deployed model doesn't change the model artifacts, so as you send it various testing instances the model won't change. Another difference is that since we aren't performing a fixed computation, as we were in the training step or while performing a batch transform, the compute instance that gets started stays running until we tell it to stop. This is important to note as if we forget and leave it running we will be charged the entire time.\n",
    "\n",
    "In other words **If you are no longer using a deployed endpoint, shut it down!**"
   ]
  },
  {
   "cell_type": "code",
   "execution_count": 40,
   "metadata": {},
   "outputs": [
    {
     "name": "stderr",
     "output_type": "stream",
     "text": [
      "WARNING:sagemaker:Using already existing model: xgboost-2020-02-10-11-30-48-139\n"
     ]
    },
    {
     "name": "stdout",
     "output_type": "stream",
     "text": [
      "-------------!"
     ]
    }
   ],
   "source": [
    "xgb_predictor = xgb.deploy(initial_instance_count = 1, instance_type = 'ml.m4.xlarge')"
   ]
  },
  {
   "cell_type": "markdown",
   "metadata": {},
   "source": [
    "### Testing the model (again)\n",
    "\n",
    "Now that we have deployed our endpoint, we can send the testing data to it and get back the inference results. We already did this earlier using the batch transform functionality of SageMaker, however, we will test our model again using the newly deployed endpoint so that we can make sure that it works properly and to get a bit of a feel for how the endpoint works.\n",
    "\n",
    "When using the created endpoint it is important to know that we are limited in the amount of information we can send in each call so we need to break the testing data up into chunks and then send each chunk. Also, we need to serialize our data before we send it to the endpoint to ensure that our data is transmitted properly. Fortunately, SageMaker can do the serialization part for us provided we tell it the format of our data."
   ]
  },
  {
   "cell_type": "code",
   "execution_count": 46,
   "metadata": {},
   "outputs": [],
   "source": [
    "from sagemaker.predictor import csv_serializer\n",
    "\n",
    "# We need to tell the endpoint what format the data we are sending is in so that SageMaker can perform the serialization.\n",
    "xgb_predictor.content_type = 'text/csv'\n",
    "xgb_predictor.serializer = csv_serializer"
   ]
  },
  {
   "cell_type": "code",
   "execution_count": 47,
   "metadata": {},
   "outputs": [],
   "source": [
    "# We split the data into chunks and send each chunk seperately, accumulating the results.\n",
    "\n",
    "def predict(data, rows=512):\n",
    "    split_array = np.array_split(data, int(data.shape[0] / float(rows) + 1))\n",
    "    predictions = ''\n",
    "    for array in split_array:\n",
    "        predictions = ','.join([predictions, xgb_predictor.predict(array).decode('utf-8')])\n",
    "    \n",
    "    return np.fromstring(predictions[1:], sep=',')"
   ]
  },
  {
   "cell_type": "code",
   "execution_count": 48,
   "metadata": {},
   "outputs": [
    {
     "ename": "KeyboardInterrupt",
     "evalue": "",
     "output_type": "error",
     "traceback": [
      "\u001b[0;31m---------------------------------------------------------------------------\u001b[0m",
      "\u001b[0;31mKeyboardInterrupt\u001b[0m                         Traceback (most recent call last)",
      "\u001b[0;32m<ipython-input-48-1561d0ba347e>\u001b[0m in \u001b[0;36m<module>\u001b[0;34m()\u001b[0m\n\u001b[0;32m----> 1\u001b[0;31m \u001b[0mtest_X\u001b[0m \u001b[0;34m=\u001b[0m \u001b[0mpd\u001b[0m\u001b[0;34m.\u001b[0m\u001b[0mread_csv\u001b[0m\u001b[0;34m(\u001b[0m\u001b[0mos\u001b[0m\u001b[0;34m.\u001b[0m\u001b[0mpath\u001b[0m\u001b[0;34m.\u001b[0m\u001b[0mjoin\u001b[0m\u001b[0;34m(\u001b[0m\u001b[0mdata_dir\u001b[0m\u001b[0;34m,\u001b[0m \u001b[0;34m'test.csv'\u001b[0m\u001b[0;34m)\u001b[0m\u001b[0;34m,\u001b[0m \u001b[0mheader\u001b[0m\u001b[0;34m=\u001b[0m\u001b[0;32mNone\u001b[0m\u001b[0;34m)\u001b[0m\u001b[0;34m.\u001b[0m\u001b[0mvalues\u001b[0m\u001b[0;34m\u001b[0m\u001b[0m\n\u001b[0m\u001b[1;32m      2\u001b[0m \u001b[0;34m\u001b[0m\u001b[0m\n\u001b[1;32m      3\u001b[0m \u001b[0mpredictions\u001b[0m \u001b[0;34m=\u001b[0m \u001b[0mpredict\u001b[0m\u001b[0;34m(\u001b[0m\u001b[0mtest_X\u001b[0m\u001b[0;34m)\u001b[0m\u001b[0;34m\u001b[0m\u001b[0m\n\u001b[1;32m      4\u001b[0m \u001b[0mpredictions\u001b[0m \u001b[0;34m=\u001b[0m \u001b[0;34m[\u001b[0m\u001b[0mround\u001b[0m\u001b[0;34m(\u001b[0m\u001b[0mnum\u001b[0m\u001b[0;34m)\u001b[0m \u001b[0;32mfor\u001b[0m \u001b[0mnum\u001b[0m \u001b[0;32min\u001b[0m \u001b[0mpredictions\u001b[0m\u001b[0;34m]\u001b[0m\u001b[0;34m\u001b[0m\u001b[0m\n",
      "\u001b[0;32m~/anaconda3/envs/python3/lib/python3.6/site-packages/pandas/io/parsers.py\u001b[0m in \u001b[0;36mparser_f\u001b[0;34m(filepath_or_buffer, sep, delimiter, header, names, index_col, usecols, squeeze, prefix, mangle_dupe_cols, dtype, engine, converters, true_values, false_values, skipinitialspace, skiprows, skipfooter, nrows, na_values, keep_default_na, na_filter, verbose, skip_blank_lines, parse_dates, infer_datetime_format, keep_date_col, date_parser, dayfirst, iterator, chunksize, compression, thousands, decimal, lineterminator, quotechar, quoting, doublequote, escapechar, comment, encoding, dialect, tupleize_cols, error_bad_lines, warn_bad_lines, delim_whitespace, low_memory, memory_map, float_precision)\u001b[0m\n\u001b[1;32m    700\u001b[0m                     skip_blank_lines=skip_blank_lines)\n\u001b[1;32m    701\u001b[0m \u001b[0;34m\u001b[0m\u001b[0m\n\u001b[0;32m--> 702\u001b[0;31m         \u001b[0;32mreturn\u001b[0m \u001b[0m_read\u001b[0m\u001b[0;34m(\u001b[0m\u001b[0mfilepath_or_buffer\u001b[0m\u001b[0;34m,\u001b[0m \u001b[0mkwds\u001b[0m\u001b[0;34m)\u001b[0m\u001b[0;34m\u001b[0m\u001b[0m\n\u001b[0m\u001b[1;32m    703\u001b[0m \u001b[0;34m\u001b[0m\u001b[0m\n\u001b[1;32m    704\u001b[0m     \u001b[0mparser_f\u001b[0m\u001b[0;34m.\u001b[0m\u001b[0m__name__\u001b[0m \u001b[0;34m=\u001b[0m \u001b[0mname\u001b[0m\u001b[0;34m\u001b[0m\u001b[0m\n",
      "\u001b[0;32m~/anaconda3/envs/python3/lib/python3.6/site-packages/pandas/io/parsers.py\u001b[0m in \u001b[0;36m_read\u001b[0;34m(filepath_or_buffer, kwds)\u001b[0m\n\u001b[1;32m    433\u001b[0m \u001b[0;34m\u001b[0m\u001b[0m\n\u001b[1;32m    434\u001b[0m     \u001b[0;32mtry\u001b[0m\u001b[0;34m:\u001b[0m\u001b[0;34m\u001b[0m\u001b[0m\n\u001b[0;32m--> 435\u001b[0;31m         \u001b[0mdata\u001b[0m \u001b[0;34m=\u001b[0m \u001b[0mparser\u001b[0m\u001b[0;34m.\u001b[0m\u001b[0mread\u001b[0m\u001b[0;34m(\u001b[0m\u001b[0mnrows\u001b[0m\u001b[0;34m)\u001b[0m\u001b[0;34m\u001b[0m\u001b[0m\n\u001b[0m\u001b[1;32m    436\u001b[0m     \u001b[0;32mfinally\u001b[0m\u001b[0;34m:\u001b[0m\u001b[0;34m\u001b[0m\u001b[0m\n\u001b[1;32m    437\u001b[0m         \u001b[0mparser\u001b[0m\u001b[0;34m.\u001b[0m\u001b[0mclose\u001b[0m\u001b[0;34m(\u001b[0m\u001b[0;34m)\u001b[0m\u001b[0;34m\u001b[0m\u001b[0m\n",
      "\u001b[0;32m~/anaconda3/envs/python3/lib/python3.6/site-packages/pandas/io/parsers.py\u001b[0m in \u001b[0;36mread\u001b[0;34m(self, nrows)\u001b[0m\n\u001b[1;32m   1137\u001b[0m     \u001b[0;32mdef\u001b[0m \u001b[0mread\u001b[0m\u001b[0;34m(\u001b[0m\u001b[0mself\u001b[0m\u001b[0;34m,\u001b[0m \u001b[0mnrows\u001b[0m\u001b[0;34m=\u001b[0m\u001b[0;32mNone\u001b[0m\u001b[0;34m)\u001b[0m\u001b[0;34m:\u001b[0m\u001b[0;34m\u001b[0m\u001b[0m\n\u001b[1;32m   1138\u001b[0m         \u001b[0mnrows\u001b[0m \u001b[0;34m=\u001b[0m \u001b[0m_validate_integer\u001b[0m\u001b[0;34m(\u001b[0m\u001b[0;34m'nrows'\u001b[0m\u001b[0;34m,\u001b[0m \u001b[0mnrows\u001b[0m\u001b[0;34m)\u001b[0m\u001b[0;34m\u001b[0m\u001b[0m\n\u001b[0;32m-> 1139\u001b[0;31m         \u001b[0mret\u001b[0m \u001b[0;34m=\u001b[0m \u001b[0mself\u001b[0m\u001b[0;34m.\u001b[0m\u001b[0m_engine\u001b[0m\u001b[0;34m.\u001b[0m\u001b[0mread\u001b[0m\u001b[0;34m(\u001b[0m\u001b[0mnrows\u001b[0m\u001b[0;34m)\u001b[0m\u001b[0;34m\u001b[0m\u001b[0m\n\u001b[0m\u001b[1;32m   1140\u001b[0m \u001b[0;34m\u001b[0m\u001b[0m\n\u001b[1;32m   1141\u001b[0m         \u001b[0;31m# May alter columns / col_dict\u001b[0m\u001b[0;34m\u001b[0m\u001b[0;34m\u001b[0m\u001b[0m\n",
      "\u001b[0;32m~/anaconda3/envs/python3/lib/python3.6/site-packages/pandas/io/parsers.py\u001b[0m in \u001b[0;36mread\u001b[0;34m(self, nrows)\u001b[0m\n\u001b[1;32m   1993\u001b[0m     \u001b[0;32mdef\u001b[0m \u001b[0mread\u001b[0m\u001b[0;34m(\u001b[0m\u001b[0mself\u001b[0m\u001b[0;34m,\u001b[0m \u001b[0mnrows\u001b[0m\u001b[0;34m=\u001b[0m\u001b[0;32mNone\u001b[0m\u001b[0;34m)\u001b[0m\u001b[0;34m:\u001b[0m\u001b[0;34m\u001b[0m\u001b[0m\n\u001b[1;32m   1994\u001b[0m         \u001b[0;32mtry\u001b[0m\u001b[0;34m:\u001b[0m\u001b[0;34m\u001b[0m\u001b[0m\n\u001b[0;32m-> 1995\u001b[0;31m             \u001b[0mdata\u001b[0m \u001b[0;34m=\u001b[0m \u001b[0mself\u001b[0m\u001b[0;34m.\u001b[0m\u001b[0m_reader\u001b[0m\u001b[0;34m.\u001b[0m\u001b[0mread\u001b[0m\u001b[0;34m(\u001b[0m\u001b[0mnrows\u001b[0m\u001b[0;34m)\u001b[0m\u001b[0;34m\u001b[0m\u001b[0m\n\u001b[0m\u001b[1;32m   1996\u001b[0m         \u001b[0;32mexcept\u001b[0m \u001b[0mStopIteration\u001b[0m\u001b[0;34m:\u001b[0m\u001b[0;34m\u001b[0m\u001b[0m\n\u001b[1;32m   1997\u001b[0m             \u001b[0;32mif\u001b[0m \u001b[0mself\u001b[0m\u001b[0;34m.\u001b[0m\u001b[0m_first_chunk\u001b[0m\u001b[0;34m:\u001b[0m\u001b[0;34m\u001b[0m\u001b[0m\n",
      "\u001b[0;32mpandas/_libs/parsers.pyx\u001b[0m in \u001b[0;36mpandas._libs.parsers.TextReader.read\u001b[0;34m()\u001b[0m\n",
      "\u001b[0;32mpandas/_libs/parsers.pyx\u001b[0m in \u001b[0;36mpandas._libs.parsers.TextReader._read_low_memory\u001b[0;34m()\u001b[0m\n",
      "\u001b[0;32mpandas/_libs/parsers.pyx\u001b[0m in \u001b[0;36mpandas._libs.parsers.TextReader._read_rows\u001b[0;34m()\u001b[0m\n",
      "\u001b[0;32mpandas/_libs/parsers.pyx\u001b[0m in \u001b[0;36mpandas._libs.parsers.TextReader._convert_column_data\u001b[0;34m()\u001b[0m\n",
      "\u001b[0;32mpandas/_libs/parsers.pyx\u001b[0m in \u001b[0;36mpandas._libs.parsers.TextReader._convert_tokens\u001b[0;34m()\u001b[0m\n",
      "\u001b[0;32mpandas/_libs/parsers.pyx\u001b[0m in \u001b[0;36mpandas._libs.parsers.TextReader._convert_with_dtype\u001b[0;34m()\u001b[0m\n",
      "\u001b[0;32m~/anaconda3/envs/python3/lib/python3.6/site-packages/pandas/core/dtypes/common.py\u001b[0m in \u001b[0;36mis_categorical_dtype\u001b[0;34m(arr_or_dtype)\u001b[0m\n\u001b[1;32m    570\u001b[0m \u001b[0;34m\u001b[0m\u001b[0m\n\u001b[1;32m    571\u001b[0m \u001b[0;34m\u001b[0m\u001b[0m\n\u001b[0;32m--> 572\u001b[0;31m \u001b[0;32mdef\u001b[0m \u001b[0mis_categorical_dtype\u001b[0m\u001b[0;34m(\u001b[0m\u001b[0marr_or_dtype\u001b[0m\u001b[0;34m)\u001b[0m\u001b[0;34m:\u001b[0m\u001b[0;34m\u001b[0m\u001b[0m\n\u001b[0m\u001b[1;32m    573\u001b[0m     \"\"\"\n\u001b[1;32m    574\u001b[0m     \u001b[0mCheck\u001b[0m \u001b[0mwhether\u001b[0m \u001b[0man\u001b[0m \u001b[0marray\u001b[0m\u001b[0;34m-\u001b[0m\u001b[0mlike\u001b[0m \u001b[0;32mor\u001b[0m \u001b[0mdtype\u001b[0m \u001b[0;32mis\u001b[0m \u001b[0mof\u001b[0m \u001b[0mthe\u001b[0m \u001b[0mCategorical\u001b[0m \u001b[0mdtype\u001b[0m\u001b[0;34m.\u001b[0m\u001b[0;34m\u001b[0m\u001b[0m\n",
      "\u001b[0;31mKeyboardInterrupt\u001b[0m: "
     ]
    }
   ],
   "source": [
    "test_X = pd.read_csv(os.path.join(data_dir, 'test.csv'), header=None).values\n",
    "\n",
    "predictions = predict(test_X)\n",
    "predictions = [round(num) for num in predictions]"
   ]
  },
  {
   "cell_type": "markdown",
   "metadata": {},
   "source": [
    "Lastly, we check to see what the accuracy of our model is."
   ]
  },
  {
   "cell_type": "code",
   "execution_count": null,
   "metadata": {},
   "outputs": [],
   "source": [
    "from sklearn.metrics import accuracy_score\n",
    "accuracy_score(test_y, predictions)"
   ]
  },
  {
   "cell_type": "markdown",
   "metadata": {},
   "source": [
    "And the results here should agree with the model testing that we did earlier using the batch transform job.\n",
    "\n",
    "### Cleaning up\n",
    "\n",
    "Now that we've determined that deploying our model works as expected, we are going to shut it down. Remember that the longer the endpoint is left running, the greater the cost and since we have a bit more work to do before we are able to use our endpoint with our simple web app, we should shut everything down."
   ]
  },
  {
   "cell_type": "code",
   "execution_count": 31,
   "metadata": {},
   "outputs": [
    {
     "ename": "NameError",
     "evalue": "name 'xgb_predictor' is not defined",
     "output_type": "error",
     "traceback": [
      "\u001b[0;31m---------------------------------------------------------------------------\u001b[0m",
      "\u001b[0;31mNameError\u001b[0m                                 Traceback (most recent call last)",
      "\u001b[0;32m<ipython-input-31-16a6b43a8b29>\u001b[0m in \u001b[0;36m<module>\u001b[0;34m()\u001b[0m\n\u001b[0;32m----> 1\u001b[0;31m \u001b[0mxgb_predictor\u001b[0m\u001b[0;34m.\u001b[0m\u001b[0mdelete_endpoint\u001b[0m\u001b[0;34m(\u001b[0m\u001b[0;34m)\u001b[0m\u001b[0;34m\u001b[0m\u001b[0m\n\u001b[0m",
      "\u001b[0;31mNameError\u001b[0m: name 'xgb_predictor' is not defined"
     ]
    }
   ],
   "source": [
    "xgb_predictor.delete_endpoint()"
   ]
  },
  {
   "cell_type": "markdown",
   "metadata": {},
   "source": [
    "## Step 7: Putting our model to work\n",
    "\n",
    "As we've mentioned a few times now, our goal is to have our model deployed and then access it using a very simple web app. The intent is for this web app to take some user submitted data (a review), send it off to our endpoint (the model) and then display the result.\n",
    "\n",
    "However, there is a small catch. Currently the only way we can access the endpoint to send it data is using the SageMaker API. We can, if we wish, expose the actual URL that our model's endpoint is receiving data from, however, if we just send it data ourselves we will not get anything in return. This is because the endpoint created by SageMaker requires the entity accessing it have the correct permissions. So, we would need to somehow authenticate our web app with AWS.\n",
    "\n",
    "Having a website that authenticates to AWS seems a bit beyond the scope of this lesson so we will opt for an alternative approach. Namely, we will create a new endpoint which does not require authentication and which acts as a proxy for the SageMaker endpoint.\n",
    "\n",
    "As an additional constraint, we will try to avoid doing any data processing in the web app itself. Remember that when we constructed and tested our model we started with a movie review, then we simplified it by removing any html formatting and punctuation, then we constructed a bag of words embedding and the resulting vector is what we sent to our model. All of this needs to be done to our user input as well.\n",
    "\n",
    "Fortunately we can do all of this data processing in the backend, using Amazon's Lambda service.\n",
    "\n",
    "<img src=\"Web App Diagram.svg\">\n",
    "\n",
    "The diagram above gives an overview of how the various services will work together. On the far right is the model which we trained above and which will be deployed using SageMaker. On the far left is our web app that collects a user's movie review, sends it off and expects a positive or negative sentiment in return.\n",
    "\n",
    "In the middle is where some of the magic happens. We will construct a Lambda function, which you can think of as a straightforward Python function that can be executed whenever a specified event occurs. This Python function will do the data processing we need to perform on a user submitted review. In addition, we will give this function permission to send and recieve data from a SageMaker endpoint.\n",
    "\n",
    "Lastly, the method we will use to execute the Lambda function is a new endpoint that we will create using API Gateway. This endpoint will be a url that listens for data to be sent to it. Once it gets some data it will pass that data on to the Lambda function and then return whatever the Lambda function returns. Essentially it will act as an interface that lets our web app communicate with the Lambda function.\n",
    "\n",
    "### Processing a single review\n",
    "\n",
    "For now, suppose we are given a movie review by our user in the form of a string, like so:"
   ]
  },
  {
   "cell_type": "code",
   "execution_count": 49,
   "metadata": {},
   "outputs": [],
   "source": [
    "test_review = \"Nothing but a disgusting materialistic pageant of glistening abed remote control greed zombies, totally devoid of any heart or heat. A romantic comedy that has zero romantic chemestry and zero laughs!\""
   ]
  },
  {
   "cell_type": "markdown",
   "metadata": {},
   "source": [
    "How do we go from this string to the bag of words feature vector that is expected by our model?\n",
    "\n",
    "If we recall at the beginning of this notebook, the first step is to remove any unnecessary characters using the `review_to_words` method. Remember that we intentionally did this in a very simplistic way. This is because we are going to have to copy this method to our (eventual) Lambda function (we will go into more detail later) and this means it needs to be rather simplistic."
   ]
  },
  {
   "cell_type": "code",
   "execution_count": 50,
   "metadata": {},
   "outputs": [
    {
     "name": "stdout",
     "output_type": "stream",
     "text": [
      "nothing but a disgusting materialistic pageant of glistening abed remote control greed zombies totally devoid of any heart or heat a romantic comedy that has zero romantic chemestry and zero laughs\n"
     ]
    }
   ],
   "source": [
    "test_words = review_to_words(test_review)\n",
    "print(test_words)"
   ]
  },
  {
   "cell_type": "markdown",
   "metadata": {},
   "source": [
    "Next, we need to construct a bag of words embedding of the `test_words` string. To do this, remember that a bag of words embedding uses a `vocabulary` consisting of the most frequently appearing words in a set of documents. Then, for each word in the vocabulary we record the number of times that word appears in `test_words`. We constructed the `vocabulary` earlier using the training set for our problem so encoding `test_words` is relatively straightforward."
   ]
  },
  {
   "cell_type": "code",
   "execution_count": 51,
   "metadata": {},
   "outputs": [],
   "source": [
    "def bow_encoding(words, vocabulary):\n",
    "    bow = [0] * len(vocabulary) # Start by setting the count for each word in the vocabulary to zero.\n",
    "    for word in words.split():  # For each word in the string\n",
    "        if word in vocabulary:  # If the word is one that occurs in the vocabulary, increase its count.\n",
    "            bow[vocabulary[word]] += 1\n",
    "    return bow"
   ]
  },
  {
   "cell_type": "code",
   "execution_count": 52,
   "metadata": {},
   "outputs": [
    {
     "name": "stdout",
     "output_type": "stream",
     "text": [
      "[0, 0, 0, 0, 0, 0, 0, 0, 0, 0, 0, 0, 0, 0, 0, 0, 0, 0, 0, 0, 0, 0, 0, 0, 0, 0, 0, 0, 0, 0, 0, 0, 0, 0, 0, 0, 0, 0, 0, 0, 0, 0, 0, 0, 0, 0, 0, 0, 0, 0, 0, 0, 0, 0, 0, 0, 0, 0, 0, 0, 0, 0, 0, 0, 0, 0, 0, 0, 0, 0, 0, 0, 0, 0, 0, 0, 0, 0, 0, 0, 0, 0, 0, 0, 0, 0, 0, 0, 0, 0, 0, 0, 0, 0, 0, 0, 0, 0, 0, 0, 0, 0, 0, 0, 0, 0, 0, 0, 0, 0, 0, 0, 0, 0, 0, 0, 0, 0, 0, 0, 0, 0, 0, 0, 0, 0, 0, 0, 0, 0, 0, 0, 0, 0, 0, 0, 0, 0, 0, 0, 0, 0, 0, 0, 0, 0, 0, 0, 0, 0, 0, 0, 0, 0, 0, 0, 0, 0, 0, 0, 0, 0, 0, 0, 0, 0, 0, 0, 0, 0, 0, 0, 0, 0, 0, 0, 0, 0, 0, 0, 0, 0, 0, 0, 0, 0, 0, 0, 0, 0, 0, 0, 0, 0, 0, 0, 0, 0, 0, 0, 0, 0, 0, 0, 0, 0, 0, 0, 0, 0, 0, 0, 0, 0, 0, 0, 0, 0, 0, 0, 0, 0, 0, 0, 0, 0, 1, 0, 0, 0, 0, 0, 0, 0, 0, 0, 0, 0, 0, 0, 0, 0, 0, 0, 0, 0, 0, 0, 0, 0, 0, 0, 0, 0, 0, 0, 1, 0, 0, 0, 0, 0, 0, 0, 0, 0, 0, 0, 0, 0, 0, 0, 0, 0, 0, 0, 0, 0, 0, 0, 0, 0, 0, 0, 0, 0, 0, 0, 0, 0, 0, 0, 0, 0, 0, 0, 0, 0, 0, 0, 0, 0, 0, 0, 0, 0, 0, 0, 0, 0, 0, 0, 0, 0, 0, 0, 0, 0, 0, 0, 0, 0, 0, 0, 0, 0, 0, 0, 0, 0, 0, 0, 0, 0, 0, 0, 0, 0, 0, 0, 0, 0, 0, 0, 0, 0, 0, 0, 0, 0, 0, 0, 0, 0, 0, 0, 0, 0, 0, 0, 0, 0, 0, 0, 0, 0, 0, 0, 0, 0, 0, 0, 0, 0, 0, 0, 0, 0, 0, 0, 0, 0, 0, 0, 0, 0, 0, 0, 0, 0, 0, 0, 0, 0, 0, 0, 0, 0, 0, 0, 0, 0, 0, 0, 0, 0, 0, 0, 0, 0, 0, 0, 0, 0, 0, 0, 0, 0, 0, 0, 0, 0, 0, 0, 0, 0, 0, 0, 0, 0, 0, 0, 0, 0, 0, 0, 0, 0, 0, 0, 0, 0, 0, 0, 0, 0, 0, 0, 0, 0, 0, 0, 0, 0, 0, 0, 0, 0, 0, 0, 0, 0, 0, 0, 0, 0, 0, 0, 0, 0, 0, 0, 0, 0, 0, 0, 0, 0, 0, 0, 0, 0, 0, 0, 0, 0, 0, 0, 0, 0, 0, 0, 0, 0, 0, 0, 0, 0, 0, 0, 0, 0, 0, 0, 0, 0, 0, 0, 0, 0, 0, 0, 0, 0, 0, 0, 0, 0, 0, 0, 0, 0, 0, 0, 0, 0, 0, 0, 0, 0, 0, 0, 0, 0, 0, 0, 0, 0, 0, 0, 0, 0, 0, 0, 0, 0, 0, 0, 0, 0, 0, 0, 0, 0, 0, 0, 0, 0, 0, 0, 0, 0, 0, 0, 0, 0, 0, 0, 0, 0, 0, 0, 0, 0, 0, 0, 0, 0, 0, 0, 0, 0, 0, 0, 0, 0, 0, 0, 0, 0, 0, 0, 0, 0, 0, 0, 0, 0, 0, 0, 0, 0, 0, 0, 0, 0, 0, 0, 0, 0, 0, 0, 0, 0, 0, 0, 0, 0, 0, 0, 0, 0, 0, 0, 0, 0, 0, 0, 0, 0, 0, 0, 0, 0, 0, 0, 1, 0, 0, 0, 0, 0, 0, 0, 0, 0, 0, 0, 0, 0, 0, 0, 0, 0, 0, 0, 0, 0, 0, 0, 0, 0, 0, 0, 0, 0, 0, 0, 0, 0, 0, 0, 0, 0, 0, 0, 0, 0, 0, 0, 0, 0, 0, 0, 0, 0, 0, 0, 0, 0, 0, 0, 0, 0, 0, 0, 0, 0, 0, 0, 0, 0, 0, 0, 0, 0, 0, 0, 0, 0, 0, 0, 0, 0, 0, 0, 0, 0, 0, 0, 0, 0, 0, 0, 0, 0, 0, 0, 0, 0, 0, 0, 0, 0, 0, 0, 0, 0, 0, 0, 0, 0, 0, 0, 0, 0, 0, 0, 0, 0, 0, 0, 0, 0, 0, 0, 0, 0, 0, 0, 0, 0, 0, 0, 0, 0, 0, 0, 0, 0, 0, 0, 0, 0, 0, 0, 0, 0, 0, 0, 0, 0, 0, 0, 0, 0, 0, 0, 0, 0, 0, 0, 0, 0, 0, 0, 0, 0, 0, 0, 0, 0, 0, 0, 0, 0, 0, 0, 0, 0, 0, 0, 0, 0, 0, 0, 0, 0, 0, 0, 0, 0, 0, 0, 0, 0, 0, 0, 0, 0, 0, 0, 0, 0, 0, 0, 0, 0, 0, 0, 0, 0, 0, 0, 0, 0, 0, 0, 0, 0, 0, 0, 0, 0, 0, 0, 0, 0, 0, 0, 0, 0, 0, 0, 0, 0, 0, 0, 0, 0, 0, 0, 0, 0, 0, 0, 0, 0, 0, 0, 0, 0, 0, 0, 0, 0, 0, 0, 0, 0, 1, 0, 0, 0, 0, 0, 0, 0, 0, 0, 0, 0, 0, 0, 0, 0, 0, 0, 0, 0, 0, 0, 0, 0, 0, 0, 0, 0, 0, 0, 0, 0, 0, 0, 0, 0, 0, 0, 0, 0, 0, 0, 0, 0, 0, 0, 0, 0, 0, 0, 0, 0, 0, 0, 0, 0, 0, 0, 0, 0, 0, 0, 0, 0, 0, 0, 0, 0, 0, 0, 0, 0, 0, 0, 0, 0, 0, 0, 0, 0, 0, 0, 0, 0, 0, 0, 0, 1, 0, 0, 0, 0, 0, 0, 0, 0, 0, 0, 0, 0, 0, 0, 0, 0, 0, 0, 0, 0, 0, 0, 0, 0, 0, 0, 0, 0, 0, 0, 0, 0, 0, 0, 0, 0, 0, 0, 0, 0, 0, 0, 0, 0, 0, 0, 0, 0, 0, 0, 0, 0, 0, 0, 0, 0, 0, 0, 0, 0, 0, 0, 0, 0, 0, 0, 0, 0, 0, 0, 0, 0, 0, 0, 0, 0, 0, 0, 0, 0, 0, 0, 0, 0, 0, 0, 0, 0, 0, 0, 0, 0, 0, 0, 0, 0, 0, 0, 0, 0, 0, 0, 0, 0, 0, 0, 0, 0, 0, 0, 0, 0, 0, 0, 0, 0, 0, 0, 0, 0, 0, 0, 0, 0, 0, 0, 0, 0, 0, 0, 0, 0, 0, 0, 0, 0, 0, 0, 0, 0, 0, 0, 0, 0, 0, 0, 0, 0, 0, 0, 0, 0, 0, 0, 0, 0, 0, 0, 0, 0, 0, 0, 0, 0, 0, 0, 0, 0, 0, 0, 0, 0, 0, 0, 0, 0, 0, 0, 0, 0, 0, 0, 0, 0, 0, 0, 0, 0, 0, 0, 0, 0, 0, 0, 0, 0, 0, 0, 0, 0, 0, 0, 0, 0, 0, 0, 0, 0, 0, 0, 0, 0, 0, 0, 0, 0, 0, 0, 0, 0, 0, 0, 0, 0, 0, 0, 0, 0, 0, 0, 0, 0, 0, 0, 0, 0, 0, 0, 0, 0, 0, 0, 0, 0, 0, 0, 0, 0, 0, 0, 0, 0, 1, 0, 0, 0, 0, 0, 0, 0, 0, 0, 0, 0, 0, 0, 0, 0, 0, 0, 0, 0, 0, 0, 0, 0, 0, 0, 0, 0, 0, 0, 0, 0, 0, 0, 0, 0, 0, 0, 0, 0, 0, 0, 0, 0, 0, 0, 0, 0, 0, 0, 0, 0, 0, 0, 0, 0, 1, 0, 0, 0, 0, 0, 0, 0, 0, 0, 0, 0, 0, 0, 0, 0, 0, 0, 0, 0, 0, 0, 0, 0, 0, 0, 0, 0, 0, 0, 0, 0, 0, 0, 0, 0, 0, 0, 0, 0, 0, 0, 0, 0, 0, 0, 0, 0, 0, 0, 0, 0, 0, 0, 0, 0, 0, 0, 0, 0, 0, 0, 0, 0, 0, 0, 0, 0, 0, 0, 0, 0, 0, 0, 0, 0, 0, 0, 0, 0, 0, 0, 0, 0, 0, 0, 0, 0, 0, 0, 0, 0, 0, 0, 0, 0, 0, 0, 0, 0, 0, 0, 0, 0, 0, 0, 0, 0, 0, 0, 0, 0, 0, 0, 0, 0, 0, 0, 0, 0, 0, 0, 0, 0, 0, 0, 0, 0, 0, 0, 0, 0, 0, 0, 0, 0, 0, 0, 0, 0, 0, 0, 0, 0, 0, 0, 0, 0, 0, 0, 0, 0, 0, 0, 0, 0, 0, 0, 0, 0, 0, 0, 0, 0, 0, 0, 0, 0, 0, 0, 0, 0, 0, 0, 0, 0, 0, 0, 0, 0, 0, 0, 0, 0, 0, 0, 0, 0, 0, 0, 0, 0, 0, 0, 0, 0, 0, 0, 0, 0, 0, 0, 0, 0, 0, 0, 0, 0, 0, 0, 0, 0, 0, 0, 0, 0, 0, 0, 0, 0, 0, 0, 0, 0, 0, 0, 0, 0, 0, 0, 0, 0, 0, 0, 0, 0, 0, 0, 0, 0, 0, 0, 0, 0, 0, 0, 0, 0, 0, 0, 0, 0, 0, 0, 0, 0, 0, 0, 0, 0, 0, 0, 0, 0, 0, 0, 0, 0, 0, 0, 0, 0, 0, 0, 0, 0, 0, 0, 0, 0, 0, 0, 0, 0, 0, 0, 0, 0, 0, 0, 0, 0, 0, 0, 0, 0, 0, 0, 0, 0, 0, 0, 0, 0, 0, 0, 0, 0, 0, 0, 0, 0, 0, 0, 0, 0, 0, 0, 0, 0, 0, 0, 0, 0, 0, 0, 0, 0, 0, 0, 0, 0, 0, 0, 0, 0, 0, 0, 0, 0, 0, 0, 0, 0, 0, 0, 0, 0, 0, 0, 0, 0, 0, 0, 0, 0, 0, 0, 0, 0, 0, 0, 0, 0, 0, 0, 0, 0, 0, 0, 0, 0, 0, 0, 0, 0, 0, 0, 0, 0, 0, 0, 0, 0, 0, 0, 0, 0, 0, 0, 0, 0, 0, 0, 0, 0, 0, 0, 0, 0, 0, 0, 0, 0, 0, 0, 0, 0, 0, 0, 0, 0, 0, 0, 0, 0, 0, 0, 0, 0, 0, 0, 0, 0, 0, 0, 0, 0, 0, 0, 0, 0, 0, 0, 0, 0, 0, 0, 0, 0, 0, 0, 0, 0, 0, 0, 0, 0, 0, 0, 0, 0, 0, 0, 0, 0, 0, 0, 0, 0, 0, 0, 0, 0, 0, 0, 0, 0, 0, 0, 0, 0, 0, 0, 0, 0, 0, 0, 0, 0, 0, 0, 0, 0, 0, 0, 0, 0, 0, 0, 0, 0, 0, 0, 0, 0, 0, 0, 0, 0, 0, 0, 0, 0, 0, 0, 0, 0, 0, 0, 0, 0, 0, 0, 0, 0, 0, 0, 0, 0, 0, 0, 0, 0, 0, 0, 0, 0, 0, 0, 0, 0, 0, 0, 0, 0, 0, 0, 0, 0, 0, 0, 0, 0, 0, 0, 0, 0, 0, 0, 0, 0, 0, 0, 0, 0, 0, 0, 0, 0, 0, 0, 0, 0, 0, 0, 0, 0, 0, 0, 0, 0, 0, 0, 0, 0, 0, 0, 0, 0, 0, 0, 0, 0, 0, 0, 0, 0, 0, 0, 0, 0, 0, 0, 0, 0, 0, 0, 0, 0, 0, 0, 0, 0, 0, 0, 0, 0, 0, 0, 0, 0, 0, 0, 0, 0, 0, 0, 0, 0, 0, 0, 0, 0, 0, 0, 0, 0, 0, 0, 0, 0, 0, 0, 0, 0, 0, 0, 0, 0, 0, 0, 0, 0, 0, 0, 0, 0, 0, 0, 0, 0, 0, 0, 0, 0, 0, 0, 0, 0, 0, 0, 0, 0, 0, 0, 0, 0, 0, 0, 0, 0, 0, 0, 0, 0, 0, 0, 0, 0, 0, 0, 1, 0, 0, 0, 0, 0, 0, 0, 0, 0, 0, 0, 0, 0, 0, 0, 0, 0, 0, 0, 0, 0, 0, 0, 0, 0, 0, 0, 0, 0, 0, 0, 0, 0, 0, 0, 0, 0, 0, 0, 0, 0, 0, 0, 0, 0, 0, 0, 0, 0, 0, 0, 0, 0, 0, 0, 0, 0, 0, 0, 0, 0, 0, 0, 0, 0, 0, 0, 0, 0, 0, 0, 0, 0, 0, 1, 0, 0, 0, 0, 0, 0, 0, 0, 0, 0, 0, 0, 0, 0, 0, 0, 0, 0, 0, 0, 1, 0, 0, 1, 0, 0, 0, 0, 0, 0, 0, 0, 0, 0, 0, 0, 0, 0, 0, 0, 0, 0, 0, 0, 0, 0, 0, 0, 0, 0, 0, 0, 0, 0, 0, 0, 0, 0, 0, 0, 0, 0, 0, 0, 0, 0, 0, 0, 0, 0, 0, 0, 0, 0, 0, 0, 0, 0, 0, 0, 0, 0, 0, 0, 0, 0, 0, 0, 0, 0, 0, 0, 0, 0, 0, 0, 0, 0, 0, 0, 0, 0, 0, 0, 0, 0, 0, 0, 0, 0, 0, 0, 0, 0, 0, 0, 0, 0, 0, 0, 0, 0, 0, 0, 0, 0, 0, 0, 0, 0, 0, 0, 0, 0, 0, 0, 0, 0, 0, 0, 0, 0, 0, 0, 0, 0, 0, 0, 0, 0, 0, 0, 0, 0, 0, 0, 0, 0, 0, 0, 0, 0, 0, 0, 0, 0, 0, 0, 0, 0, 0, 0, 0, 0, 0, 0, 0, 0, 0, 0, 0, 0, 0, 0, 0, 0, 0, 0, 0, 0, 0, 0, 0, 0, 0, 0, 0, 0, 0, 0, 0, 0, 0, 0, 0, 0, 0, 0, 0, 0, 0, 0, 0, 0, 0, 0, 0, 0, 0, 0, 0, 0, 0, 0, 0, 0, 0, 0, 0, 0, 0, 0, 0, 0, 0, 0, 0, 0, 0, 0, 0, 0, 0, 0, 0, 0, 0, 0, 0, 0, 0, 0, 0, 0, 0, 0, 0, 0, 0, 0, 0, 0, 0, 0, 0, 0, 0, 0, 0, 0, 0, 0, 0, 0, 0, 0, 0, 0, 0, 0, 0, 0, 0, 0, 0, 0, 0, 0, 0, 0, 0, 0, 0, 0, 0, 0, 0, 0, 0, 0, 0, 0, 0, 0, 0, 0, 0, 0, 0, 0, 0, 0, 0, 0, 0, 0, 0, 0, 0, 0, 0, 0, 0, 0, 0, 0, 0, 0, 0, 0, 0, 0, 0, 0, 0, 0, 0, 0, 0, 0, 0, 0, 0, 0, 0, 0, 0, 0, 0, 0, 0, 0, 0, 0, 0, 0, 0, 0, 0, 0, 0, 0, 0, 0, 0, 0, 0, 0, 0, 0, 0, 0, 0, 0, 0, 0, 0, 0, 0, 0, 0, 0, 0, 0, 0, 0, 0, 0, 0, 0, 0, 0, 0, 0, 0, 0, 0, 0, 0, 0, 0, 0, 0, 0, 0, 0, 0, 0, 0, 0, 0, 0, 0, 0, 0, 0, 0, 0, 0, 0, 0, 0, 0, 0, 0, 0, 0, 0, 0, 0, 0, 0, 0, 0, 0, 0, 0, 0, 0, 0, 0, 0, 0, 0, 0, 0, 0, 0, 0, 0, 0, 0, 0, 0, 0, 0, 0, 0, 0, 0, 0, 0, 0, 0, 0, 0, 0, 0, 0, 0, 0, 0, 0, 0, 0, 0, 0, 0, 0, 0, 0, 0, 0, 0, 0, 0, 0, 0, 0, 0, 1, 0, 0, 0, 0, 0, 0, 0, 0, 0, 0, 0, 0, 0, 0, 0, 0, 0, 0, 0, 0, 0, 0, 0, 0, 0, 0, 0, 0, 0, 0, 0, 0, 0, 0, 0, 0, 0, 0, 0, 0, 0, 0, 0, 0, 0, 0, 0, 0, 0, 0, 0, 0, 0, 0, 0, 0, 0, 0, 0, 0, 0, 0, 0, 0, 0, 0, 0, 0, 0, 0, 0, 0, 0, 0, 0, 0, 0, 0, 0, 0, 0, 0, 0, 0, 0, 0, 0, 0, 0, 0, 0, 0, 0, 0, 0, 0, 0, 0, 0, 0, 0, 0, 0, 0, 0, 0, 0, 0, 0, 0, 0, 0, 0, 0, 0, 0, 0, 0, 0, 0, 0, 0, 0, 0, 0, 0, 0, 0, 0, 0, 0, 0, 0, 0, 0, 0, 0, 0, 0, 0, 0, 0, 0, 0, 0, 0, 0, 0, 0, 0, 0, 0, 0, 0, 0, 0, 0, 0, 0, 0, 0, 0, 0, 0, 0, 0, 0, 0, 0, 0, 0, 0, 0, 0, 0, 0, 0, 0, 0, 0, 0, 0, 0, 0, 0, 0, 0, 0, 0, 0, 0, 0, 0, 0, 0, 0, 0, 0, 0, 0, 0, 0, 0, 0, 0, 0, 0, 0, 0, 0, 0, 0, 0, 0, 0, 0, 0, 0, 0, 0, 0, 0, 0, 0, 0, 0, 0, 0, 0, 0, 0, 0, 0, 0, 0, 0, 0, 0, 0, 0, 0, 0, 0, 0, 0, 0, 0, 0, 0, 0, 0, 0, 0, 0, 0, 0, 0, 0, 0, 0, 0, 0, 0, 0, 0, 0, 0, 0, 0, 0, 0, 0, 0, 0, 0, 0, 0, 0, 0, 0, 0, 0, 0, 0, 0, 0, 0, 0, 0, 0, 0, 0, 0, 0, 0, 0, 0, 0, 0, 0, 0, 0, 0, 0, 0, 0, 0, 0, 0, 0, 0, 0, 0, 0, 0, 0, 0, 0, 0, 0, 0, 0, 0, 0, 0, 0, 0, 0, 0, 0, 0, 0, 0, 0, 0, 0, 0, 0, 0, 0, 0, 0, 0, 0, 0, 0, 0, 0, 0, 0, 0, 0, 0, 0, 0, 0, 0, 0, 0, 0, 0, 0, 0, 0, 0, 0, 0, 0, 0, 0, 0, 0, 0, 0, 0, 0, 0, 0, 0, 0, 0, 0, 0, 0, 0, 0, 0, 0, 0, 0, 0, 0, 0, 0, 0, 0, 0, 0, 0, 0, 0, 0, 0, 0, 0, 0, 0, 0, 0, 0, 0, 0, 0, 0, 0, 0, 0, 0, 0, 0, 0, 0, 0, 0, 0, 0, 0, 0, 0, 0, 0, 0, 0, 0, 0, 0, 0, 0, 0, 0, 0, 0, 0, 0, 0, 0, 0, 0, 0, 0, 0, 0, 0, 0, 0, 0, 0, 0, 0, 0, 0, 0, 0, 0, 0, 0, 0, 0, 0, 0, 0, 0, 0, 0, 0, 0, 0, 0, 0, 0, 0, 0, 0, 0, 0, 0, 0, 0, 0, 0, 0, 0, 0, 0, 0, 0, 0, 0, 0, 0, 0, 0, 0, 0, 0, 0, 0, 0, 0, 0, 0, 0, 1, 0, 0, 0, 0, 0, 0, 0, 0, 0, 0, 0, 0, 0, 0, 0, 0, 0, 0, 0, 0, 0, 0, 0, 0, 0, 0, 0, 0, 0, 0, 0, 0, 0, 0, 0, 2, 0, 0, 0, 0, 0, 0, 0, 0, 0, 0, 0, 0, 0, 0, 0, 0, 0, 0, 0, 0, 0, 0, 0, 0, 0, 0, 0, 0, 0, 0, 0, 0, 0, 0, 0, 0, 0, 0, 0, 0, 1, 0, 0, 0, 0, 0, 0, 0, 0, 0, 0, 0, 0, 0, 0, 0, 0, 0, 0, 0, 0, 0, 0, 0, 0, 0, 0, 0, 0, 0, 0, 0, 0, 0, 0, 0, 0, 0, 0, 0, 0, 0, 0, 0, 0, 0, 0, 0, 0, 0, 0, 0, 0, 0, 0, 0, 0, 0, 0, 0, 0, 0, 0, 0, 0, 0, 0, 0, 0, 0, 0, 0, 0, 0, 0, 0, 0, 0, 0, 0, 0, 0, 0, 0, 0, 0, 0, 0, 0, 0, 0, 0, 0, 0, 0, 0, 0, 0, 0, 0, 0, 0, 0, 0, 0, 0, 0, 0, 0, 0, 0, 0, 0, 0, 0, 0, 0, 0, 0, 0, 0, 0, 0, 0, 0, 0, 0, 0, 0, 0, 0, 0, 0, 0, 0, 0, 0, 0, 0, 0, 0, 0, 0, 0, 0, 0, 0, 0, 0, 0, 0, 0, 0, 0, 0, 0, 0, 0, 0, 0, 0, 0, 0, 0, 0, 0, 0, 0, 0, 0, 0, 0, 0, 0, 0, 0, 0, 0, 0, 0, 0, 0, 0, 0, 0, 0, 0, 0, 0, 0, 0, 0, 0, 0, 0, 0, 0, 0, 0, 0, 0, 0, 0, 0, 0, 0, 0, 0, 0, 0, 0, 0, 0, 0, 0, 0, 0, 0, 0, 0, 0, 0, 0, 0, 0, 0, 0, 0, 0, 0, 0, 0, 0, 0, 0, 0, 0, 0, 0, 0, 0, 0, 0, 0, 0, 0, 0, 0, 0, 0, 0, 0, 0, 0, 0, 0, 0, 0, 0, 0, 0, 0, 0, 0, 0, 0, 0, 0, 0, 0, 0, 0, 0, 0, 0, 0, 0, 0, 0, 0, 0, 0, 0, 0, 0, 0, 0, 0, 0, 0, 0, 0, 0, 0, 0, 0, 0, 0, 0, 0, 0, 0, 0, 0, 0, 0, 0, 0, 0, 0, 0, 0, 0, 0, 0, 0, 0, 0, 0, 0, 0, 0, 0, 0, 0, 0, 0, 0, 0, 0, 0, 0, 0, 0, 0, 0, 0, 0, 0, 0, 0, 0, 0, 0, 0, 0, 0, 0, 0, 0, 0, 0, 0, 0, 0, 0, 0, 0, 0, 0, 0, 0, 0, 0, 0, 0, 0, 0, 0, 0, 0, 0, 0, 0, 0, 0, 0, 0, 0, 0, 0, 0, 0, 0, 0, 0, 0, 0, 0, 0, 0, 0, 0, 0, 0, 0, 0, 0, 0, 0, 0, 0, 0, 0, 0, 0, 0, 0, 0, 0, 0, 0, 0, 0, 0, 0, 0, 0, 0, 0, 0, 0, 0, 0, 0, 0, 0, 0, 0, 0, 0, 0, 0, 0, 0, 0, 0, 0, 0, 0, 0, 0, 0, 0, 0, 0, 0, 0, 0, 0, 0, 0, 0, 0, 0, 0, 0, 0, 0, 0, 0, 0, 0, 0, 0, 0, 0, 0, 0, 0, 0, 0, 0, 0, 0, 0, 0, 0, 0, 0, 0, 0, 0, 0, 0, 0, 0, 0, 0, 0, 0, 0, 0, 0, 0, 0, 0, 0, 1, 0, 0, 0, 0, 0, 0, 0, 0, 0, 0, 0, 0, 0, 0, 0, 0, 0, 0, 0, 0, 0, 0, 0, 0, 0, 0, 0, 0, 0, 0, 0, 0, 0, 0, 0, 0, 0, 0, 0, 0, 0, 0, 0, 0, 0, 0, 0, 0, 0, 0, 0, 0, 0, 0, 0, 0, 0, 0, 0, 0, 0, 0, 0, 0, 0, 0, 0, 0, 0, 0, 0, 0, 0, 0, 0, 0, 0, 0, 0, 0, 0, 0, 0, 0, 0, 0, 0, 0, 0, 0, 0, 0, 0, 0, 0, 0, 0, 0, 0, 0, 0, 0, 0, 0, 0, 0, 0, 0, 0, 0, 2, 0, 0, 0, 0, 0, 0, 0, 0, 0, 0, 0, 0, 0, 0, 0, 0, 0, 0, 0, 0, 0, 0, 0, 0, 0, 0, 0, 0, 0, 0, 0, 0, 0, 0, 0, 0, 0, 0, 0, 0, 0, 0, 0, 0, 0, 0, 0, 0, 0, 0, 0, 0, 0, 0, 0, 0, 0, 0, 0, 0, 0, 0, 0, 0, 0, 0, 0, 0, 0, 0, 0, 0, 0, 0, 0, 0, 0, 0, 0, 0, 0, 0, 0, 0, 0, 0, 0, 0, 0, 0, 0, 0, 0, 0, 0, 0, 0, 0, 0, 0, 0, 0, 0, 0, 0, 0, 0, 0, 0, 0, 0, 0, 0, 0, 0, 0, 0, 0, 0, 0, 0, 0, 0, 0, 0, 0, 0, 0, 0, 0, 0, 0, 0, 0, 0, 0, 0, 0, 0, 0, 0, 0, 0, 0, 0, 0, 0, 0, 0, 0, 0, 0, 0, 0, 0, 0, 0, 0, 0, 0, 0, 0, 0, 0, 0, 0, 0, 0, 0, 0, 0, 0, 0, 0, 0, 0, 0, 0, 0, 0, 0, 0, 0, 0, 0, 0, 0, 0, 0, 0, 0, 0, 0, 0, 0, 0, 0, 0, 0, 0, 0, 0, 0, 0, 0, 0, 0, 0, 0, 0, 0, 0, 0, 0, 0, 0, 0, 0, 0, 0, 0, 0, 0, 0, 0, 0, 0, 0, 0, 0, 0, 0, 0, 0, 0, 0, 0, 0, 0, 0, 0, 0, 0, 0, 0, 0, 0, 0, 0, 0, 0, 0, 0, 0, 0, 0, 0, 0, 0, 0, 0, 0, 0, 0, 0, 0, 0, 0, 0, 0, 0, 0, 0, 0, 0, 0, 0, 0, 0, 0, 0, 0, 0, 0, 0, 0, 0, 0, 0, 0, 0, 0, 0, 0, 0, 0, 0, 0, 0, 0, 0, 0, 0, 0, 0, 0, 0, 0, 0, 0, 0, 0, 0, 0, 0, 0, 0, 0, 0, 0, 0, 0, 0, 0, 0, 0, 0, 0, 0, 0, 0, 0, 0, 0, 0, 0, 0, 0, 0, 0, 0, 0, 0, 0, 0, 0, 0, 0, 0, 0, 0, 0, 0, 0, 0, 0, 0, 0, 0, 0, 0, 0, 0, 0, 0, 0, 0, 0, 0, 0, 0, 0, 0, 0, 0, 0, 0, 0, 0, 0, 0, 0, 0, 0, 0, 0, 0, 0, 0, 0, 0, 0, 0, 0, 0, 0, 0, 0, 0, 0, 0, 0, 0, 0, 0, 0, 0, 0, 0, 0, 0, 0, 0, 0, 0, 0, 0, 0, 0, 0, 0, 0, 0, 0, 0, 0, 0, 0, 0, 0, 0, 0, 0, 0, 0, 0, 0, 0, 0, 0, 0, 0, 0, 0, 0, 0, 0, 0, 0, 0, 0, 0, 0, 0, 0, 0, 0, 0, 0, 0, 0, 0, 0, 0, 0, 0, 0, 0, 0, 0, 0, 0, 0, 0, 0, 0, 0, 0, 0, 0, 0, 0, 0, 0, 0, 0, 0, 0, 0, 0, 0, 0, 0, 0, 0, 0, 0, 0, 0, 0, 0, 0, 0, 0, 0, 0, 0, 0, 0, 0, 0, 0, 0, 0, 0, 0, 0, 0, 0, 0, 0, 0, 0, 0, 0, 0, 0, 0, 0, 0, 0, 0, 0, 0, 0, 0, 0, 0, 0, 0, 0, 0, 0, 0, 0, 0, 0, 0, 0, 0, 0, 0, 0, 0, 0, 0, 0, 0, 0, 0, 0, 0, 0, 0, 0, 0, 0, 0, 0, 0, 0, 0, 0, 0, 0, 0, 0, 0, 0, 0, 0, 0, 0, 0, 0, 0, 0, 0, 0, 0, 0, 0, 0, 0, 0, 0, 0, 0, 0, 0, 0, 0, 0, 0, 0, 0, 0, 0, 0, 0, 0, 0, 0, 0, 0, 0, 0, 0, 0, 0, 0, 0, 0, 0, 0, 0, 0, 0, 0, 0, 0, 0, 0, 0, 0, 0, 0, 0, 0, 0, 0, 0, 0, 0, 0, 0, 0, 0, 0, 0, 0, 0, 0, 0, 0, 0, 0, 0, 0, 0, 0, 0, 0, 0, 0, 0, 0, 0, 0, 0, 0, 0, 0, 0, 0, 0, 0, 0, 0, 0, 0, 0, 0, 0, 0, 0, 0, 0, 0, 0, 1, 0, 0, 0, 0, 0, 0, 0, 0, 0, 0, 0, 0, 0, 0, 0, 0, 0, 0, 0, 0, 0, 0, 0, 0, 0, 0, 0, 0, 0, 0, 0, 0, 0, 0, 0, 0, 0, 0, 0, 0, 0, 0, 0, 0, 0, 0, 0, 0, 0, 0, 0, 0, 0, 0, 0, 0, 0, 0, 0, 0, 0, 0, 0, 0, 0, 0, 0, 0, 0, 0, 0, 0, 0, 0, 0, 0, 0, 0, 0, 0, 0, 0, 0, 0, 0, 0, 0, 0, 0, 0, 0, 0, 0, 0, 0, 0, 0, 0, 0, 0, 0, 0, 0, 0, 0, 0, 0, 1, 0, 0, 0, 0, 0, 0, 0, 0, 0, 0, 0, 0, 0, 0, 0, 0, 0, 0, 0, 0, 0, 0, 0, 0, 0, 0, 0, 0, 0, 0, 0, 0, 0, 0, 0, 0, 0, 0, 0, 0, 0, 0, 0, 0, 0, 0, 0, 0, 0, 0, 0, 0, 0, 0, 0, 0, 0, 0, 0, 0, 0, 0, 0, 0, 0, 0, 0, 0, 0, 0, 0, 0, 0, 0, 0, 0, 0, 0, 0, 0, 0, 0, 0, 0, 0, 0, 0, 0, 0, 0, 0, 0, 0, 0, 0, 0, 0, 0, 0, 0, 0, 0, 0, 0, 0, 0, 0, 0, 0, 0, 0, 0, 0, 0, 0, 0, 0, 0, 0, 0, 0, 0, 0, 0, 0, 0, 0, 0, 0, 0, 0, 0, 0, 0, 0, 0, 0, 0, 0, 0, 0, 0, 0, 0, 0, 0, 0, 0, 0, 0, 0, 0, 0, 0, 0, 0, 0, 0, 0, 0, 0, 0, 0, 0, 0, 0, 0, 0, 0, 0, 0, 0, 0, 0, 0, 0, 0, 0, 0, 0, 0, 0, 0, 0, 0, 0, 0, 0, 0, 0, 0, 0, 0, 0, 0, 0, 0, 0, 0, 0, 0, 0, 0, 0, 0, 0, 0, 0, 0, 0, 0, 0, 0, 0, 0, 0, 0, 0, 0, 0, 0, 0, 0, 0, 0, 0, 0, 0, 0, 0, 0, 0, 0, 0, 0, 0, 0, 0, 0, 0, 0, 0, 0, 0, 0, 0, 0, 0, 0, 0, 0, 0, 0, 0, 0, 0, 0, 0, 0, 0, 0, 0, 0, 0, 0, 0, 0, 0, 0, 0, 0, 0, 0, 0, 0, 0, 0, 0, 0, 0, 0, 0, 0, 0, 0, 0, 0, 0, 0, 0, 0, 0, 0, 0, 0, 0, 0, 0, 0, 0, 0, 0, 0, 0, 0, 0, 0, 0, 0, 0, 0, 0, 0, 0, 0, 0, 0, 0, 0, 0, 0, 0, 0, 0, 0, 0, 0, 0, 0, 0, 0, 0, 0, 0, 0, 0, 0, 0, 0, 0, 0, 0, 0, 0, 0, 0, 0, 0, 0, 0, 0, 0, 0, 0, 0, 0, 0, 0, 0, 0, 0, 0, 0, 0, 0, 0, 0, 0, 0, 0, 0, 0, 0, 0, 0, 0, 0, 0, 0, 0, 0, 0, 0, 0, 0, 0, 0, 0, 0, 0, 0, 0, 0, 0, 0, 0, 0, 0, 0, 0, 0, 0, 0, 0, 0, 0, 0, 0, 0, 0, 0, 0, 0, 0, 0, 0, 0, 0, 0, 0, 0, 0, 0, 0, 0, 0, 0, 0, 0, 0, 0, 0, 0, 0, 0, 0, 0, 0, 0, 0, 0, 0, 0, 0, 0, 0, 0, 0, 0, 0, 0, 0, 0, 0, 0, 0, 0, 0, 0, 0, 0, 0, 0, 2, 0, 1, 0]\n"
     ]
    }
   ],
   "source": [
    "test_bow = bow_encoding(test_words, vocabulary)\n",
    "print(test_bow)"
   ]
  },
  {
   "cell_type": "code",
   "execution_count": 36,
   "metadata": {},
   "outputs": [
    {
     "data": {
      "text/plain": [
       "5000"
      ]
     },
     "execution_count": 36,
     "metadata": {},
     "output_type": "execute_result"
    }
   ],
   "source": [
    "len(test_bow)"
   ]
  },
  {
   "cell_type": "markdown",
   "metadata": {},
   "source": [
    "So now we know how to construct a bag of words encoding of a user provided review, how to we send it to our endpoint? First, we need to start the endpoint back up."
   ]
  },
  {
   "cell_type": "code",
   "execution_count": 37,
   "metadata": {},
   "outputs": [
    {
     "name": "stderr",
     "output_type": "stream",
     "text": [
      "WARNING:sagemaker:Using already existing model: xgboost-2020-02-10-11-30-48-139\n"
     ]
    },
    {
     "ename": "ClientError",
     "evalue": "An error occurred (ValidationException) when calling the CreateEndpoint operation: Cannot create already existing endpoint \"arn:aws:sagemaker:us-east-2:407001943333:endpoint/xgboost-2020-02-10-11-30-48-139\".",
     "output_type": "error",
     "traceback": [
      "\u001b[0;31m---------------------------------------------------------------------------\u001b[0m",
      "\u001b[0;31mClientError\u001b[0m                               Traceback (most recent call last)",
      "\u001b[0;32m<ipython-input-37-ccb632c8fb45>\u001b[0m in \u001b[0;36m<module>\u001b[0;34m()\u001b[0m\n\u001b[0;32m----> 1\u001b[0;31m \u001b[0mxgb_predictor\u001b[0m \u001b[0;34m=\u001b[0m \u001b[0mxgb\u001b[0m\u001b[0;34m.\u001b[0m\u001b[0mdeploy\u001b[0m\u001b[0;34m(\u001b[0m\u001b[0minitial_instance_count\u001b[0m \u001b[0;34m=\u001b[0m \u001b[0;36m1\u001b[0m\u001b[0;34m,\u001b[0m \u001b[0minstance_type\u001b[0m \u001b[0;34m=\u001b[0m \u001b[0;34m'ml.m4.xlarge'\u001b[0m\u001b[0;34m)\u001b[0m\u001b[0;34m\u001b[0m\u001b[0m\n\u001b[0m",
      "\u001b[0;32m~/anaconda3/envs/python3/lib/python3.6/site-packages/sagemaker/estimator.py\u001b[0m in \u001b[0;36mdeploy\u001b[0;34m(self, initial_instance_count, instance_type, accelerator_type, endpoint_name, use_compiled_model, update_endpoint, wait, model_name, kms_key, data_capture_config, tags, **kwargs)\u001b[0m\n\u001b[1;32m    690\u001b[0m             \u001b[0mwait\u001b[0m\u001b[0;34m=\u001b[0m\u001b[0mwait\u001b[0m\u001b[0;34m,\u001b[0m\u001b[0;34m\u001b[0m\u001b[0m\n\u001b[1;32m    691\u001b[0m             \u001b[0mkms_key\u001b[0m\u001b[0;34m=\u001b[0m\u001b[0mkms_key\u001b[0m\u001b[0;34m,\u001b[0m\u001b[0;34m\u001b[0m\u001b[0m\n\u001b[0;32m--> 692\u001b[0;31m             \u001b[0mdata_capture_config\u001b[0m\u001b[0;34m=\u001b[0m\u001b[0mdata_capture_config\u001b[0m\u001b[0;34m,\u001b[0m\u001b[0;34m\u001b[0m\u001b[0m\n\u001b[0m\u001b[1;32m    693\u001b[0m         )\n\u001b[1;32m    694\u001b[0m \u001b[0;34m\u001b[0m\u001b[0m\n",
      "\u001b[0;32m~/anaconda3/envs/python3/lib/python3.6/site-packages/sagemaker/model.py\u001b[0m in \u001b[0;36mdeploy\u001b[0;34m(self, initial_instance_count, instance_type, accelerator_type, endpoint_name, update_endpoint, tags, kms_key, wait, data_capture_config)\u001b[0m\n\u001b[1;32m    484\u001b[0m                 \u001b[0mkms_key\u001b[0m\u001b[0;34m=\u001b[0m\u001b[0mkms_key\u001b[0m\u001b[0;34m,\u001b[0m\u001b[0;34m\u001b[0m\u001b[0m\n\u001b[1;32m    485\u001b[0m                 \u001b[0mwait\u001b[0m\u001b[0;34m=\u001b[0m\u001b[0mwait\u001b[0m\u001b[0;34m,\u001b[0m\u001b[0;34m\u001b[0m\u001b[0m\n\u001b[0;32m--> 486\u001b[0;31m                 \u001b[0mdata_capture_config_dict\u001b[0m\u001b[0;34m=\u001b[0m\u001b[0mdata_capture_config_dict\u001b[0m\u001b[0;34m,\u001b[0m\u001b[0;34m\u001b[0m\u001b[0m\n\u001b[0m\u001b[1;32m    487\u001b[0m             )\n\u001b[1;32m    488\u001b[0m \u001b[0;34m\u001b[0m\u001b[0m\n",
      "\u001b[0;32m~/anaconda3/envs/python3/lib/python3.6/site-packages/sagemaker/session.py\u001b[0m in \u001b[0;36mendpoint_from_production_variants\u001b[0;34m(self, name, production_variants, tags, kms_key, wait, data_capture_config_dict)\u001b[0m\n\u001b[1;32m   2829\u001b[0m \u001b[0;34m\u001b[0m\u001b[0m\n\u001b[1;32m   2830\u001b[0m             \u001b[0mself\u001b[0m\u001b[0;34m.\u001b[0m\u001b[0msagemaker_client\u001b[0m\u001b[0;34m.\u001b[0m\u001b[0mcreate_endpoint_config\u001b[0m\u001b[0;34m(\u001b[0m\u001b[0;34m**\u001b[0m\u001b[0mconfig_options\u001b[0m\u001b[0;34m)\u001b[0m\u001b[0;34m\u001b[0m\u001b[0m\n\u001b[0;32m-> 2831\u001b[0;31m         \u001b[0;32mreturn\u001b[0m \u001b[0mself\u001b[0m\u001b[0;34m.\u001b[0m\u001b[0mcreate_endpoint\u001b[0m\u001b[0;34m(\u001b[0m\u001b[0mendpoint_name\u001b[0m\u001b[0;34m=\u001b[0m\u001b[0mname\u001b[0m\u001b[0;34m,\u001b[0m \u001b[0mconfig_name\u001b[0m\u001b[0;34m=\u001b[0m\u001b[0mname\u001b[0m\u001b[0;34m,\u001b[0m \u001b[0mtags\u001b[0m\u001b[0;34m=\u001b[0m\u001b[0mtags\u001b[0m\u001b[0;34m,\u001b[0m \u001b[0mwait\u001b[0m\u001b[0;34m=\u001b[0m\u001b[0mwait\u001b[0m\u001b[0;34m)\u001b[0m\u001b[0;34m\u001b[0m\u001b[0m\n\u001b[0m\u001b[1;32m   2832\u001b[0m \u001b[0;34m\u001b[0m\u001b[0m\n\u001b[1;32m   2833\u001b[0m     \u001b[0;32mdef\u001b[0m \u001b[0mexpand_role\u001b[0m\u001b[0;34m(\u001b[0m\u001b[0mself\u001b[0m\u001b[0;34m,\u001b[0m \u001b[0mrole\u001b[0m\u001b[0;34m)\u001b[0m\u001b[0;34m:\u001b[0m\u001b[0;34m\u001b[0m\u001b[0m\n",
      "\u001b[0;32m~/anaconda3/envs/python3/lib/python3.6/site-packages/sagemaker/session.py\u001b[0m in \u001b[0;36mcreate_endpoint\u001b[0;34m(self, endpoint_name, config_name, tags, wait)\u001b[0m\n\u001b[1;32m   2358\u001b[0m \u001b[0;34m\u001b[0m\u001b[0m\n\u001b[1;32m   2359\u001b[0m         self.sagemaker_client.create_endpoint(\n\u001b[0;32m-> 2360\u001b[0;31m             \u001b[0mEndpointName\u001b[0m\u001b[0;34m=\u001b[0m\u001b[0mendpoint_name\u001b[0m\u001b[0;34m,\u001b[0m \u001b[0mEndpointConfigName\u001b[0m\u001b[0;34m=\u001b[0m\u001b[0mconfig_name\u001b[0m\u001b[0;34m,\u001b[0m \u001b[0mTags\u001b[0m\u001b[0;34m=\u001b[0m\u001b[0mtags\u001b[0m\u001b[0;34m\u001b[0m\u001b[0m\n\u001b[0m\u001b[1;32m   2361\u001b[0m         )\n\u001b[1;32m   2362\u001b[0m         \u001b[0;32mif\u001b[0m \u001b[0mwait\u001b[0m\u001b[0;34m:\u001b[0m\u001b[0;34m\u001b[0m\u001b[0m\n",
      "\u001b[0;32m~/anaconda3/envs/python3/lib/python3.6/site-packages/botocore/client.py\u001b[0m in \u001b[0;36m_api_call\u001b[0;34m(self, *args, **kwargs)\u001b[0m\n\u001b[1;32m    274\u001b[0m                     \"%s() only accepts keyword arguments.\" % py_operation_name)\n\u001b[1;32m    275\u001b[0m             \u001b[0;31m# The \"self\" in this scope is referring to the BaseClient.\u001b[0m\u001b[0;34m\u001b[0m\u001b[0;34m\u001b[0m\u001b[0m\n\u001b[0;32m--> 276\u001b[0;31m             \u001b[0;32mreturn\u001b[0m \u001b[0mself\u001b[0m\u001b[0;34m.\u001b[0m\u001b[0m_make_api_call\u001b[0m\u001b[0;34m(\u001b[0m\u001b[0moperation_name\u001b[0m\u001b[0;34m,\u001b[0m \u001b[0mkwargs\u001b[0m\u001b[0;34m)\u001b[0m\u001b[0;34m\u001b[0m\u001b[0m\n\u001b[0m\u001b[1;32m    277\u001b[0m \u001b[0;34m\u001b[0m\u001b[0m\n\u001b[1;32m    278\u001b[0m         \u001b[0m_api_call\u001b[0m\u001b[0;34m.\u001b[0m\u001b[0m__name__\u001b[0m \u001b[0;34m=\u001b[0m \u001b[0mstr\u001b[0m\u001b[0;34m(\u001b[0m\u001b[0mpy_operation_name\u001b[0m\u001b[0;34m)\u001b[0m\u001b[0;34m\u001b[0m\u001b[0m\n",
      "\u001b[0;32m~/anaconda3/envs/python3/lib/python3.6/site-packages/botocore/client.py\u001b[0m in \u001b[0;36m_make_api_call\u001b[0;34m(self, operation_name, api_params)\u001b[0m\n\u001b[1;32m    584\u001b[0m             \u001b[0merror_code\u001b[0m \u001b[0;34m=\u001b[0m \u001b[0mparsed_response\u001b[0m\u001b[0;34m.\u001b[0m\u001b[0mget\u001b[0m\u001b[0;34m(\u001b[0m\u001b[0;34m\"Error\"\u001b[0m\u001b[0;34m,\u001b[0m \u001b[0;34m{\u001b[0m\u001b[0;34m}\u001b[0m\u001b[0;34m)\u001b[0m\u001b[0;34m.\u001b[0m\u001b[0mget\u001b[0m\u001b[0;34m(\u001b[0m\u001b[0;34m\"Code\"\u001b[0m\u001b[0;34m)\u001b[0m\u001b[0;34m\u001b[0m\u001b[0m\n\u001b[1;32m    585\u001b[0m             \u001b[0merror_class\u001b[0m \u001b[0;34m=\u001b[0m \u001b[0mself\u001b[0m\u001b[0;34m.\u001b[0m\u001b[0mexceptions\u001b[0m\u001b[0;34m.\u001b[0m\u001b[0mfrom_code\u001b[0m\u001b[0;34m(\u001b[0m\u001b[0merror_code\u001b[0m\u001b[0;34m)\u001b[0m\u001b[0;34m\u001b[0m\u001b[0m\n\u001b[0;32m--> 586\u001b[0;31m             \u001b[0;32mraise\u001b[0m \u001b[0merror_class\u001b[0m\u001b[0;34m(\u001b[0m\u001b[0mparsed_response\u001b[0m\u001b[0;34m,\u001b[0m \u001b[0moperation_name\u001b[0m\u001b[0;34m)\u001b[0m\u001b[0;34m\u001b[0m\u001b[0m\n\u001b[0m\u001b[1;32m    587\u001b[0m         \u001b[0;32melse\u001b[0m\u001b[0;34m:\u001b[0m\u001b[0;34m\u001b[0m\u001b[0m\n\u001b[1;32m    588\u001b[0m             \u001b[0;32mreturn\u001b[0m \u001b[0mparsed_response\u001b[0m\u001b[0;34m\u001b[0m\u001b[0m\n",
      "\u001b[0;31mClientError\u001b[0m: An error occurred (ValidationException) when calling the CreateEndpoint operation: Cannot create already existing endpoint \"arn:aws:sagemaker:us-east-2:407001943333:endpoint/xgboost-2020-02-10-11-30-48-139\"."
     ]
    }
   ],
   "source": [
    "xgb_predictor = xgb.deploy(initial_instance_count = 1, instance_type = 'ml.m4.xlarge')"
   ]
  },
  {
   "cell_type": "markdown",
   "metadata": {},
   "source": [
    "At this point we could just do the same thing that we did earlier when we tested our deployed model and send `test_bow` to our endpoint using the `xgb_predictor` object. However, when we eventually construct our Lambda function we won't have access to this object, so how do we call a SageMaker endpoint?\n",
    "\n",
    "It turns out that Python functions that are used in Lambda have access to another Amazon library called `boto3`. This library provides an API for working with Amazon services, including SageMaker. To start with, we need to get a handle to the SageMaker runtime."
   ]
  },
  {
   "cell_type": "code",
   "execution_count": 53,
   "metadata": {},
   "outputs": [],
   "source": [
    "import boto3\n",
    "\n",
    "runtime = boto3.Session().client('sagemaker-runtime')"
   ]
  },
  {
   "cell_type": "markdown",
   "metadata": {},
   "source": [
    "And now that we have access to the SageMaker runtime, we can ask it to make use of (invoke) an endpoint that has already been created. However, we need to provide SageMaker with the name of the deployed endpoint. To find this out we can print it out using the `xgb_predictor` object."
   ]
  },
  {
   "cell_type": "code",
   "execution_count": 54,
   "metadata": {},
   "outputs": [
    {
     "data": {
      "text/plain": [
       "'xgboost-2020-02-10-11-30-48-139'"
      ]
     },
     "execution_count": 54,
     "metadata": {},
     "output_type": "execute_result"
    }
   ],
   "source": [
    "xgb_predictor.endpoint"
   ]
  },
  {
   "cell_type": "markdown",
   "metadata": {},
   "source": [
    "Using the SageMaker runtime and the name of our endpoint, we can invoke the endpoint and send it the `test_bow` data."
   ]
  },
  {
   "cell_type": "code",
   "execution_count": null,
   "metadata": {},
   "outputs": [],
   "source": [
    "response = runtime.invoke_endpoint(EndpointName = xgb_predictor.endpoint, # The name of the endpoint we created\n",
    "                                       ContentType = 'text/csv',                     # The data format that is expected\n",
    "                                       Body = test_bow)"
   ]
  },
  {
   "cell_type": "markdown",
   "metadata": {},
   "source": [
    "So why did we get an error?\n",
    "\n",
    "Because we tried to send the endpoint a list of integers but it expected us to send data of type `text/csv`. So, we need to convert it."
   ]
  },
  {
   "cell_type": "code",
   "execution_count": null,
   "metadata": {},
   "outputs": [],
   "source": [
    "response = runtime.invoke_endpoint(EndpointName = xgb_predictor.endpoint, # The name of the endpoint we created\n",
    "                                       ContentType = 'text/csv',                     # The data format that is expected\n",
    "                                       Body = ','.join([str(val) for val in test_bow]).encode('utf-8'))"
   ]
  },
  {
   "cell_type": "code",
   "execution_count": null,
   "metadata": {},
   "outputs": [],
   "source": [
    "print(response)"
   ]
  },
  {
   "cell_type": "markdown",
   "metadata": {},
   "source": [
    "As we can see, the response from our model is a somewhat complicated looking dict that contains a bunch of information. The bit that we are most interested in is `'Body'` object which is a streaming object that we need to `read` in order to make use of."
   ]
  },
  {
   "cell_type": "code",
   "execution_count": null,
   "metadata": {},
   "outputs": [],
   "source": [
    "response = response['Body'].read().decode('utf-8')\n",
    "print(response)"
   ]
  },
  {
   "cell_type": "markdown",
   "metadata": {},
   "source": [
    "Now that we know how to process the incoming user data we can start setting up the infrastructure to make our simple web app work. To do this we will make use of two different services. Amazon's Lambda and API Gateway services.\n",
    "\n",
    "Lambda is a service which allows someone to write some relatively simple code and have it executed whenever a chosen trigger occurs. For example, you may want to update a database whenever new data is uploaded to a folder stored on S3.\n",
    "\n",
    "API Gateway is a service that allows you to create HTTP endpoints (url addresses) which are connected to other AWS services. One of the benefits to this is that you get to decide what credentials, if any, are required to access these endpoints.\n",
    "\n",
    "In our case we are going to set up an HTTP endpoint through API Gateway which is open to the public. Then, whenever anyone sends data to our public endpoint we will trigger a Lambda function which will send the input (in our case a review) to our model's endpoint and then return the result."
   ]
  },
  {
   "cell_type": "markdown",
   "metadata": {},
   "source": [
    "### Setting up a Lambda function\n",
    "\n",
    "The first thing we are going to do is set up a Lambda function. This Lambda function will be executed whenever our public API has data sent to it. When it is executed it will receive the data, perform any sort of processing that is required, send the data (the review) to the SageMaker endpoint we've created and then return the result.\n",
    "\n",
    "#### Part A: Create an IAM Role for the Lambda function\n",
    "\n",
    "Since we want the Lambda function to call a SageMaker endpoint, we need to make sure that it has permission to do so. To do this, we will construct a role that we can later give the Lambda function.\n",
    "\n",
    "Using the AWS Console, navigate to the **IAM** page and click on **Roles**. Then, click on **Create role**. Make sure that the **AWS service** is the type of trusted entity selected and choose **Lambda** as the service that will use this role, then click **Next: Permissions**.\n",
    "\n",
    "In the search box type `sagemaker` and select the check box next to the **AmazonSageMakerFullAccess** policy. Then, click on **Next: Review**.\n",
    "\n",
    "Lastly, give this role a name. Make sure you use a name that you will remember later on, for example `LambdaSageMakerRole`. Then, click on **Create role**."
   ]
  },
  {
   "cell_type": "markdown",
   "metadata": {},
   "source": [
    "#### Part B: Create a Lambda function\n",
    "\n",
    "Now it is time to actually create the Lambda function. Remember from earlier that in order to process the user provided input and send it to our endpoint we need to gather two pieces of information:\n",
    "\n",
    " - The name of the endpoint, and\n",
    " - the vocabulary object.\n",
    "\n",
    "We will copy these pieces of information to our Lambda function after we create it.\n",
    "\n",
    "To start, using the AWS Console, navigate to the AWS Lambda page and click on **Create a function**. When you get to the next page, make sure that **Author from scratch** is selected. Now, name your Lambda function, using a name that you will remember later on, for example `sentiment_analysis_xgboost_func`. Make sure that the **Python 3.6** runtime is selected and then choose the role that you created in the previous part. Then, click on **Create Function**.\n",
    "\n",
    "On the next page you will see some information about the Lambda function you've just created. If you scroll down you should see an editor in which you can write the code that will be executed when your Lambda function is triggered. Collecting the code we wrote above to process a single review and adding it to the provided example `lambda_handler` we arrive at the following.\n",
    "\n",
    "```python\n",
    "# We need to use the low-level library to interact with SageMaker since the SageMaker API\n",
    "# is not available natively through Lambda.\n",
    "import boto3\n",
    "\n",
    "# And we need the regular expression library to do some of the data processing\n",
    "import re\n",
    "\n",
    "REPLACE_NO_SPACE = re.compile(\"(\\.)|(\\;)|(\\:)|(\\!)|(\\')|(\\?)|(\\,)|(\\\")|(\\()|(\\))|(\\[)|(\\])\")\n",
    "REPLACE_WITH_SPACE = re.compile(\"(<br\\s*/><br\\s*/>)|(\\-)|(\\/)\")\n",
    "\n",
    "def review_to_words(review):\n",
    "    words = REPLACE_NO_SPACE.sub(\"\", review.lower())\n",
    "    words = REPLACE_WITH_SPACE.sub(\" \", words)\n",
    "    return words\n",
    "    \n",
    "def bow_encoding(words, vocabulary):\n",
    "    bow = [0] * len(vocabulary) # Start by setting the count for each word in the vocabulary to zero.\n",
    "    for word in words.split():  # For each word in the string\n",
    "        if word in vocabulary:  # If the word is one that occurs in the vocabulary, increase its count.\n",
    "            bow[vocabulary[word]] += 1\n",
    "    return bow\n",
    "\n",
    "\n",
    "def lambda_handler(event, context):\n",
    "    \n",
    "    vocab = \"*** ACTUAL VOCABULARY GOES HERE ***\"\n",
    "    \n",
    "    words = review_to_words(event['body'])\n",
    "    bow = bow_encoding(words, vocab)\n",
    "\n",
    "    # The SageMaker runtime is what allows us to invoke the endpoint that we've created.\n",
    "    runtime = boto3.Session().client('sagemaker-runtime')\n",
    "\n",
    "    # Now we use the SageMaker runtime to invoke our endpoint, sending the review we were given\n",
    "    response = runtime.invoke_endpoint(EndpointName = '***ENDPOINT NAME HERE***',# The name of the endpoint we created\n",
    "                                       ContentType = 'text/csv',                 # The data format that is expected\n",
    "                                       Body = ','.join([str(val) for val in bow]).encode('utf-8')) # The actual review\n",
    "\n",
    "    # The response is an HTTP response whose body contains the result of our inference\n",
    "    result = response['Body'].read().decode('utf-8')\n",
    "    \n",
    "    # Round the result so that our web app only gets '1' or '0' as a response.\n",
    "    result = round(float(result))\n",
    "\n",
    "    return {\n",
    "        'statusCode' : 200,\n",
    "        'headers' : { 'Content-Type' : 'text/plain', 'Access-Control-Allow-Origin' : '*' },\n",
    "        'body' : str(result)\n",
    "    }\n",
    "```"
   ]
  },
  {
   "cell_type": "markdown",
   "metadata": {},
   "source": [
    "Once you have copy and pasted the code above into the Lambda code editor, replace the `**ENDPOINT NAME HERE**` portion with the name of the endpoint that we deployed earlier. You can determine the name of the endpoint using the code cell below."
   ]
  },
  {
   "cell_type": "code",
   "execution_count": null,
   "metadata": {},
   "outputs": [],
   "source": [
    "xgb_predictor.endpoint"
   ]
  },
  {
   "cell_type": "markdown",
   "metadata": {},
   "source": [
    "In addition, you will need to copy the vocabulary dict to the appropriate place in the code at the beginning of the `lambda_handler` method. The cell below prints out the vocabulary dict in a way that is easy to copy and paste."
   ]
  },
  {
   "cell_type": "code",
   "execution_count": null,
   "metadata": {},
   "outputs": [],
   "source": [
    "print(str(vocabulary))"
   ]
  },
  {
   "cell_type": "markdown",
   "metadata": {},
   "source": [
    "Once you have added the endpoint name to the Lambda function, click on **Save**. Your Lambda function is now up and running. Next we need to create a way for our web app to execute the Lambda function."
   ]
  },
  {
   "cell_type": "markdown",
   "metadata": {},
   "source": [
    "### Setting up API Gateway\n",
    "\n",
    "Now that our Lambda function is set up, it is time to create a new API using API Gateway that will trigger the Lambda function we have just created.\n",
    "\n",
    "Using AWS Console, navigate to **Amazon API Gateway** and then click on **Get started**.\n",
    "\n",
    "On the next page, make sure that **New API** is selected and give the new api a name, for example, `sentiment_analysis_web_app`. Then, click on **Create API**.\n",
    "\n",
    "Now we have created an API, however it doesn't currently do anything. What we want it to do is to trigger the Lambda function that we created earlier.\n",
    "\n",
    "Select the **Actions** dropdown menu and click **Create Method**. A new blank method will be created, select its dropdown menu and select **POST**, then click on the check mark beside it.\n",
    "\n",
    "For the integration point, make sure that **Lambda Function** is selected and click on the **Use Lambda Proxy integration**. This option makes sure that the data that is sent to the API is then sent directly to the Lambda function with no processing. It also means that the return value must be a proper response object as it will also not be processed by API Gateway.\n",
    "\n",
    "Type the name of the Lambda function you created earlier into the **Lambda Function** text entry box and then click on **Save**. Click on **OK** in the pop-up box that then appears, giving permission to API Gateway to invoke the Lambda function you created.\n",
    "\n",
    "The last step in creating the API Gateway is to select the **Actions** dropdown and click on **Deploy API**. You will need to create a new Deployment stage and name it anything you like, for example `prod`.\n",
    "\n",
    "You have now successfully set up a public API to access your SageMaker model. Make sure to copy or write down the URL provided to invoke your newly created public API as this will be needed in the next step. This URL can be found at the top of the page, highlighted in blue next to the text **Invoke URL**."
   ]
  },
  {
   "cell_type": "markdown",
   "metadata": {},
   "source": [
    "## Step 7: Deploying our web app\n",
    "\n",
    "Now that we have a publicly available API, we can start using it in a web app. For our purposes, we have provided a simple static html file which can make use of the public api you created earlier.\n",
    "\n",
    "In the `website` folder there should be a file called `index.html`. Download the file to your computer and open that file up in a text editor of your choice. There should be a line which contains **\\*\\*REPLACE WITH PUBLIC API URL\\*\\***. Replace this string with the url that you wrote down in the last step and then save the file.\n",
    "\n",
    "Now, if you open `index.html` on your local computer, your browser will behave as a local web server and you can use the provided site to interact with your SageMaker model.\n",
    "\n",
    "If you'd like to go further, you can host this html file anywhere you'd like, for example using github or hosting a static site on Amazon's S3. Once you have done this you can share the link with anyone you'd like and have them play with it too!\n",
    "\n",
    "> **Important Note** In order for the web app to communicate with the SageMaker endpoint, the endpoint has to actually be deployed and running. This means that you are paying for it. Make sure that the endpoint is running when you want to use the web app but that you shut it down when you don't need it, otherwise you will end up with a surprisingly large AWS bill."
   ]
  },
  {
   "cell_type": "markdown",
   "metadata": {},
   "source": [
    "### Delete the endpoint\n",
    "\n",
    "Remember to always shut down your endpoint if you are no longer using it. You are charged for the length of time that the endpoint is running so if you forget and leave it on you could end up with an unexpectedly large bill."
   ]
  },
  {
   "cell_type": "code",
   "execution_count": 55,
   "metadata": {},
   "outputs": [],
   "source": [
    "xgb_predictor.delete_endpoint()"
   ]
  },
  {
   "cell_type": "markdown",
   "metadata": {},
   "source": [
    "## Optional: Clean up\n",
    "\n",
    "The default notebook instance on SageMaker doesn't have a lot of excess disk space available. As you continue to complete and execute notebooks you will eventually fill up this disk space, leading to errors which can be difficult to diagnose. Once you are completely finished using a notebook it is a good idea to remove the files that you created along the way. Of course, you can do this from the terminal or from the notebook hub if you would like. The cell below contains some commands to clean up the created files from within the notebook."
   ]
  },
  {
   "cell_type": "code",
   "execution_count": null,
   "metadata": {},
   "outputs": [],
   "source": [
    "# First we will remove all of the files contained in the data_dir directory\n",
    "!rm $data_dir/*\n",
    "\n",
    "# And then we delete the directory itself\n",
    "!rmdir $data_dir\n",
    "\n",
    "# Similarly we remove the files in the cache_dir directory and the directory itself\n",
    "!rm $cache_dir/*\n",
    "!rmdir $cache_dir"
   ]
  },
  {
   "cell_type": "code",
   "execution_count": null,
   "metadata": {},
   "outputs": [],
   "source": []
  }
 ],
 "metadata": {
  "kernelspec": {
   "display_name": "conda_python3",
   "language": "python",
   "name": "conda_python3"
  },
  "language_info": {
   "codemirror_mode": {
    "name": "ipython",
    "version": 3
   },
   "file_extension": ".py",
   "mimetype": "text/x-python",
   "name": "python",
   "nbconvert_exporter": "python",
   "pygments_lexer": "ipython3",
   "version": "3.6.5"
  }
 },
 "nbformat": 4,
 "nbformat_minor": 2
}
